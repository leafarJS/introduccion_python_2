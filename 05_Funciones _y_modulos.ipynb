{
 "cells": [
  {
   "cell_type": "markdown",
   "metadata": {},
   "source": [
    "# Introducción a Python - Funciones y módulos"
   ]
  },
  {
   "cell_type": "markdown",
   "metadata": {},
   "source": [
    "Con todo lo visto en los anteriores notebooks deberíamos ser capaces de crear cualquier programa. En este apartado vamos a ver cómo se puede (y debe) estrucurar el código de los programas Python de forma que se asegure su reusabilidad y se minimice los posibles puntos de error de los mismos."
   ]
  },
  {
   "cell_type": "markdown",
   "metadata": {},
   "source": [
    "### Funciones"
   ]
  },
  {
   "cell_type": "markdown",
   "metadata": {},
   "source": [
    "<ul>\n",
    "<li>Puede entenderse como un nombre asignado a un bloque de código que permite su posterior invocación.</li>\n",
    "<li>Dispone de un conjunto de parámetros de entrada (opcionales) sobre los que trabajará el bloque de código interno.</li>\n",
    "<li>Ofrecen un resultado de salida (opcional) que podrá ser utilizado por el código que invocó a la función.</li>\n",
    "<li>Permiten encapsular código de forma que pueda ser reutilizado en varios puntos de un programa.</li>\n",
    "<li>Evitan la necesidad de copiar y pegar código.</li>\n",
    "<li>Facilita el mantenimiento y reduce los posibles puntos de error.</li>\n",
    "<li>Permiten \"generalizar\" código al trabajar sobre unos parámetros de entrada que pueden ser \"variables\".</li>\n",
    "</ul>"
   ]
  },
  {
   "cell_type": "code",
   "execution_count": 1,
   "metadata": {},
   "outputs": [
    {
     "name": "stdout",
     "output_type": "stream",
     "text": [
      "['CUATRO', 'CINCO']\n"
     ]
    }
   ],
   "source": [
    "lista = [\"uno\", \"dos\", \"tres\", \"cuatro\", \"cinco\", \"treinta\"]\n",
    "lista_c = []\n",
    "for e in lista:\n",
    "    if e[0] == \"c\":\n",
    "        lista_c.append(e.upper())\n",
    "print (lista_c)        "
   ]
  },
  {
   "cell_type": "markdown",
   "metadata": {},
   "source": [
    "¿Qué pasa si quisiésemos usar una lista distina? ¿Qué pasa si queremos seleccionar sólo los elementos que empiezan por \"t\"? ¿Qué pasa si queremos devolver los elementos en minúscula? Tendríamos que replicar varias veces el mismo código. Aquí es donde las funciones muestran su potencial."
   ]
  },
  {
   "cell_type": "code",
   "execution_count": 4,
   "metadata": {},
   "outputs": [
    {
     "name": "stdout",
     "output_type": "stream",
     "text": [
      "['cuatro', 'cinco']\n",
      "['UNO']\n",
      "['tres', 'treinta']\n"
     ]
    }
   ],
   "source": [
    "lista = [\"uno\", \"dos\", \"tres\", \"cuatro\", \"cinco\", \"treinta\"]\n",
    "def my_fun(lista, inicial, a_mayuscula):\n",
    "    lista_out = []\n",
    "    for e in lista:\n",
    "        if e[0] == inicial:\n",
    "            if not a_mayuscula:\n",
    "                lista_out.append(e.upper())\n",
    "            else:\n",
    "                lista_out.append(e.lower())\n",
    "    return lista_out\n",
    "\n",
    "list_1 = [\"uno\", \"dos\", \"tres\", \"cuatro\", \"cinco\", \"treinta\"]\n",
    "print (my_fun(lista, \"c\", True))\n",
    "print (my_fun(lista, \"u\", False))\n",
    "print (my_fun(lista, \"t\", True))"
   ]
  },
  {
   "cell_type": "code",
   "execution_count": 6,
   "metadata": {},
   "outputs": [
    {
     "name": "stdout",
     "output_type": "stream",
     "text": [
      "['CUATRO', 'CINCO']\n",
      "['uno']\n",
      "['TRES', 'TREINTAOCHO']\n"
     ]
    }
   ],
   "source": [
    "lista = [\"uno\", \"dos\", \"tres\", \"cuatro\", \"cinco\", \"treinta\" \"ocho\"]\n",
    "def my_fun(lista, inicial, a_mayuscula):\n",
    "    lista_out = []\n",
    "    for e in lista:\n",
    "        if e[0] == inicial:\n",
    "            if a_mayuscula:\n",
    "                lista_out.append(e.upper())\n",
    "            else:\n",
    "                lista_out.append(e.lower())\n",
    "    return lista_out\n",
    "\n",
    "list_1 = [\"uno\", \"dos\", \"tres\", \"cuatro\", \"cinco\", \"treinta\"]\n",
    "print (my_fun(lista, \"c\", True))\n",
    "print (my_fun(lista, \"u\", False))\n",
    "print (my_fun(lista, \"t\", True))"
   ]
  },
  {
   "cell_type": "markdown",
   "metadata": {},
   "source": [
    "#### Argumentos opcionales"
   ]
  },
  {
   "cell_type": "markdown",
   "metadata": {},
   "source": [
    "Podemos asignar valores por defecto a los parámetros de la función."
   ]
  },
  {
   "cell_type": "code",
   "execution_count": 7,
   "metadata": {},
   "outputs": [
    {
     "name": "stdout",
     "output_type": "stream",
     "text": [
      "['CUATRO', 'CINCO']\n",
      "['uno']\n",
      "['TRES', 'TREINTAOCHO']\n"
     ]
    }
   ],
   "source": [
    "lista = [\"uno\", \"dos\", \"tres\", \"cuatro\", \"cinco\", \"treinta\" \"ocho\"]\n",
    "def my_fun(lista, inicial, a_mayuscula = True):\n",
    "    lista_out = []\n",
    "    for e in lista:\n",
    "        if e[0] == inicial:\n",
    "            if a_mayuscula:\n",
    "                lista_out.append(e.upper())\n",
    "            else:\n",
    "                lista_out.append(e.lower())\n",
    "    return lista_out\n",
    "\n",
    "list_1 = [\"uno\", \"dos\", \"tres\", \"cuatro\", \"cinco\", \"treinta\"]\n",
    "print (my_fun(lista, \"c\"))\n",
    "print (my_fun(lista, \"u\", False))\n",
    "print (my_fun(lista, \"t\"))"
   ]
  },
  {
   "cell_type": "markdown",
   "metadata": {},
   "source": [
    "#### Especificar el nombre de los argumentos en la llamada"
   ]
  },
  {
   "cell_type": "markdown",
   "metadata": {},
   "source": [
    "Se puede especificar el nombre de los argumentos de entrada en la llamada, eliminando la necesidad de mantener su orden (funcionamiento por defecto si no se especifica nombre)."
   ]
  },
  {
   "cell_type": "code",
   "execution_count": 8,
   "metadata": {},
   "outputs": [
    {
     "name": "stdout",
     "output_type": "stream",
     "text": [
      "['cuatro', 'cinco']\n"
     ]
    }
   ],
   "source": [
    "lista = [\"uno\", \"dos\", \"tres\", \"cuatro\", \"cinco\", \"treinta\" \"ocho\"]\n",
    "print (my_fun(a_mayuscula = False, inicial=\"c\", lista=lista))"
   ]
  },
  {
   "cell_type": "markdown",
   "metadata": {},
   "source": [
    "#### Retorno de múltiples elementos"
   ]
  },
  {
   "cell_type": "markdown",
   "metadata": {},
   "source": [
    "Aunque, en general, el retorno de las funciones será único (un único valor que se podrá asignar a una variable en el código que invoca), sería posible devolver una secuencia y recoger los resultados en diferentes variables (por las propiedades vistas en la presentación de secuencias)."
   ]
  },
  {
   "cell_type": "code",
   "execution_count": 13,
   "metadata": {},
   "outputs": [
    {
     "name": "stdout",
     "output_type": "stream",
     "text": [
      "2\n",
      "CUATRO\n",
      "CINCO\n"
     ]
    }
   ],
   "source": [
    "lista = [\"uno\", \"dos\", \"tres\", \"cuatro\", \"cinco\", \"treinta\" \"ocho\"]\n",
    "def my_fun(lista, inicial, a_mayuscula = True):\n",
    "    lista_out = []\n",
    "    for e in lista:\n",
    "        if e[0] == inicial:\n",
    "            if a_mayuscula:\n",
    "                lista_out.append(e.upper())\n",
    "            else:\n",
    "                lista_out.append(e.lower())\n",
    "    return (len(lista_out), lista_out)\n",
    "  \n",
    "#asignación multiple\n",
    "num_elementos, elementos = my_fun(list_1, \"c\")\n",
    "print(num_elementos)\n",
    "\n",
    "for i in range(0, num_elementos):\n",
    "    print (elementos[i])"
   ]
  },
  {
   "cell_type": "markdown",
   "metadata": {},
   "source": [
    "### Módulos / Paquetes"
   ]
  },
  {
   "cell_type": "markdown",
   "metadata": {},
   "source": [
    "<ul>\n",
    "    <li>Por defecto, en un script de Python tienes acceso a todas las variables y funciones definidas en el propio fichero.</li>\n",
    "    <li>Es posible acceder a elementos definidos en otros ficheros mediante la importación de módulos.</li>\n",
    "    <li>Un fichero .py es un módulo en Python cuyo nombre es el mismo que el del fichero (sin extensión).</li>\n",
    "    <li>La forma de incorporar elementos definidos en un módulo es mediante el uso de la sentencia <i>import</i>.</li>\n",
    "</ul>"
   ]
  },
  {
   "cell_type": "markdown",
   "metadata": {},
   "source": [
    "#### Importar el módulo completo"
   ]
  },
  {
   "cell_type": "markdown",
   "metadata": {},
   "source": [
    "Se importa todo el contenido del módulo y es necesario utilizar el alias de módulo delante de las funciones."
   ]
  },
  {
   "cell_type": "code",
   "execution_count": 14,
   "metadata": {},
   "outputs": [
    {
     "name": "stdout",
     "output_type": "stream",
     "text": [
      "[[1 2]\n",
      " [3 4]]\n",
      "2.5\n"
     ]
    }
   ],
   "source": [
    "import numpy\n",
    "array = numpy.array([[1, 2], [3, 4]])\n",
    "mean = numpy.mean(array)\n",
    "print (array)\n",
    "print (mean)"
   ]
  },
  {
   "cell_type": "code",
   "execution_count": 15,
   "metadata": {},
   "outputs": [
    {
     "name": "stdout",
     "output_type": "stream",
     "text": [
      "3.5\n"
     ]
    }
   ],
   "source": [
    "import numpy as np\n",
    "arr = np.array([1,2,3,4,5,6])\n",
    "media = np.median(arr)\n",
    "print(media)"
   ]
  },
  {
   "cell_type": "markdown",
   "metadata": {},
   "source": [
    "#### Importar todo el contenido del módulo"
   ]
  },
  {
   "cell_type": "markdown",
   "metadata": {},
   "source": [
    "Se importa todo el contenido del módulo y se incorporan sus funciones al entorno de trabajo actual, por lo que no es necesario especificar un alias. CUIDADO: esto sobreescribiría cualquier función de mismo nombre del entorno de trabajo."
   ]
  },
  {
   "cell_type": "code",
   "execution_count": null,
   "metadata": {},
   "outputs": [],
   "source": [
    "from numpy import *\n",
    "array = array([[1, 2], [3, 4]])\n",
    "media = mean(array)\n",
    "print (array)\n",
    "print (media)"
   ]
  },
  {
   "cell_type": "markdown",
   "metadata": {},
   "source": [
    "#### Importar un elemento específico el módulo"
   ]
  },
  {
   "cell_type": "markdown",
   "metadata": {},
   "source": [
    "Se importa únicamente el elemento seleccionado, aunque también hay peligro de sobreescritura."
   ]
  },
  {
   "cell_type": "code",
   "execution_count": null,
   "metadata": {},
   "outputs": [],
   "source": [
    "from numpy import array\n",
    "array = array([[1, 2], [3, 4]])\n",
    "media2 = mean(array)\n",
    "print (array)\n",
    "print(media2)"
   ]
  },
  {
   "cell_type": "markdown",
   "metadata": {},
   "source": [
    "#### Importar con alias"
   ]
  },
  {
   "cell_type": "markdown",
   "metadata": {},
   "source": [
    "Se puede especifcar un alias a los elementos importados de forma que asegures que no hay sobreescritura."
   ]
  },
  {
   "cell_type": "code",
   "execution_count": null,
   "metadata": {},
   "outputs": [],
   "source": [
    "from numpy import array as array_de_numpy\n",
    "array = array_de_numpy([[1, 2], [3, 4]])\n",
    "print (array)"
   ]
  },
  {
   "cell_type": "markdown",
   "metadata": {},
   "source": [
    "### Instalación de módulos"
   ]
  },
  {
   "cell_type": "markdown",
   "metadata": {},
   "source": [
    "Al contrario que en R, en Python no se dispone de una función para instalar módulos directamente desde el intérprete y se debe hacer desde la consola. La herramienta básica para la gestión de paquetes es *pip*."
   ]
  },
  {
   "cell_type": "markdown",
   "metadata": {},
   "source": [
    "#### Herramienta: pip"
   ]
  },
  {
   "cell_type": "markdown",
   "metadata": {},
   "source": [
    "pip instala paquetes disponibles en el repositorio PyPI (índice de paquetes de Python). Los comandos más comunes son:<br/>\n",
    "<ul>\n",
    "<li>list: Listado de paquetes actualmente instalados en el entorno.</li>\n",
    "<li>search &lt;search_string&gt;: Búsqueda de paquetes en el repositorio.</li>\n",
    "<li>install &lt;package&gt;: Instalación de paquetes no disponibles.</li>\n",
    "<li>update &lt;package&gt;: Actualización del paquete a la última versión disponible.</li>\n",
    "</ul>"
   ]
  }
 ],
 "metadata": {
  "kernelspec": {
   "display_name": "Python 3.9.12 ('base')",
   "language": "python",
   "name": "python3"
  },
  "language_info": {
   "codemirror_mode": {
    "name": "ipython",
    "version": 3
   },
   "file_extension": ".py",
   "mimetype": "text/x-python",
   "name": "python",
   "nbconvert_exporter": "python",
   "pygments_lexer": "ipython3",
   "version": "3.9.12"
  },
  "vscode": {
   "interpreter": {
    "hash": "ad2bdc8ecc057115af97d19610ffacc2b4e99fae6737bb82f5d7fb13d2f2c186"
   }
  }
 },
 "nbformat": 4,
 "nbformat_minor": 1
}
