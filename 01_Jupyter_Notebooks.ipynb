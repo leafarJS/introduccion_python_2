{
 "cells": [
  {
   "cell_type": "markdown",
   "metadata": {},
   "source": [
    "# Jupyter Notebooks"
   ]
  },
  {
   "cell_type": "markdown",
   "metadata": {},
   "source": [
    "Los notebooks del proyecto Jupyter permiten mezclar en un mismo documento código <b>ejecutable</b> de diferentes lenguajes (R, Python, Scala...) con texto enriquecido, imágenes, etc. \n",
    "\n",
    "Al tratarse de un entorno de trabajo basado en el navegador Web se minimiza la curva de aprendizaje y se permite reaprovechar el conocimiento previo que tengan los desarrolladores en HTML para la creación de documentos."
   ]
  },
  {
   "cell_type": "markdown",
   "metadata": {},
   "source": [
    "### Celdas"
   ]
  },
  {
   "cell_type": "markdown",
   "metadata": {},
   "source": [
    "Un notebook de Jupyter está siempre compuesto por un conjunto de celdas. Una celda es un fragmento de código, texto enriquecido o texto plano que puede ser evaluado.\n",
    "\n",
    "Todas las celdas (al estar seleccionadas) tienen dos posibles estados (que se identifican por el color del recuadro de selección de celda):\n",
    "<ul>\n",
    "<li><b>Lectura:</b> Visualización del contenido (evaluado o no) y acciones/teclas de acceso ejecutadas sobre la celda completa (p.e. eliminación, adición, conversión entre tipos de celda...). El recuadro de selección de celdas es azul si estamos en modo de lectura.</li>\n",
    "<li><b>Edición:</b> Edición del contenido de la celda (p.e. código, markdown, HTML...). El recuadro de selección de celdas es verde si estamos en modo de edición.</li>\n",
    "</ul>\n",
    "\n",
    "Tenemos a nuestra disposición una serie de teclas de acceso rápido que nos permiten interactuar con las celdas de un modo mucho más ágil.\n",
    "<ul>\n",
    "<li>Pasar de modo lectura a edición: Intro</li>\n",
    "<li>Pasar de modo edición a lectura (sin evaluar): Esc</li>\n",
    "<li>Añadir una nueva celda debajo de la actual (modo lectura): B</li>\n",
    "<li>Añadir una nueva celda encima de la actual (modo lectura): A</li>\n",
    "<li>Eliminar una celda (modo lectura): X</li>\n",
    "</ul>\n",
    "\n",
    "Para acceder a un listado completo de teclas de acceso rápido podemos usar el menú Help o pulsar (en modo lectura) H."
   ]
  },
  {
   "cell_type": "markdown",
   "metadata": {},
   "source": [
    "### Tipos de celda"
   ]
  },
  {
   "cell_type": "markdown",
   "metadata": {},
   "source": [
    "Existen tres tipos de celda: Code, Markdown y Raw NBConvert.\n",
    "\n",
    "Las celdas en cualquier notebook tienen, por defecto, el tipo Code, pero se puede cambiar entre tipos bien usando los controles de la barra de herramientas o mediante las siguientes teclas de acceso rápido:\n",
    "\n",
    "<ul>\n",
    "<li>Convertir a celda Code (modo lectura): Y</li>\n",
    "<li>Convertir a celda Markdown (modo lectura): M</li>\n",
    "<li>Convertir a celda Raw NBConvert (modo lectura): R</li>\n",
    "</ul>"
   ]
  },
  {
   "cell_type": "markdown",
   "metadata": {},
   "source": [
    "#### Celdas Code\n",
    "\n",
    "<ul>\n",
    "<li>Se trata de celdas cuyo contenido es código (en nuestro caso Python) evaluable.</li>\n",
    "<li>Se reconocen por estar precedidas del prompt In [].</li>\n",
    "<li>Internamente, TODAS las celdas de código de un notebook forman parte de un único espacio de trabajo por lo que las variables y funciones creadas en una celda serán accesibles por todas las demás (al igual que los módulos / paquetes que se importen).</li>\n",
    "<li>Las celdas disponen de la opción de <b>autocompletar</b> código, accesible mediante la tecla Tab</li>\n",
    "<li>Para evaluar/ejecuta el contenido de una celda se puede usar la combinación: Shift + Intro.</li>\n",
    "</ul>"
   ]
  },
  {
   "cell_type": "code",
   "execution_count": 1,
   "metadata": {},
   "outputs": [
    {
     "name": "stdout",
     "output_type": "stream",
     "text": [
      "Hola mundo\n"
     ]
    }
   ],
   "source": [
    "# Declaramos una variable\n",
    "str_1 = \"Hola mundo\"\n",
    "print(str_1)"
   ]
  },
  {
   "cell_type": "markdown",
   "metadata": {
    "slideshow": {
     "slide_type": "-"
    }
   },
   "source": [
    "- Se reconocen por el \"In [ ]:\", que se corresponde con el backend de IPython de este herramienta y sirven para ejecutar código Python (R o Julia también). \n",
    "- Las variables que se crean también se pueden utilizar en celdas posteriores. También los módulos que se importan en una celda se pueden utilizar en otras celdas de código.\n",
    "- Cuando se vuelve a cierra un notebook (Close and Halt) y se vuelve a abrir, las variables creadas desaparecen. No es lo mismo cerrar una pestaña del navegador que el notebook! "
   ]
  },
  {
   "cell_type": "code",
   "execution_count": 2,
   "metadata": {},
   "outputs": [
    {
     "data": {
      "text/plain": [
       "'Hola mundo'"
      ]
     },
     "execution_count": 2,
     "metadata": {},
     "output_type": "execute_result"
    }
   ],
   "source": [
    "# La utilizamos desde otra celda\n",
    "str_1"
   ]
  },
  {
   "cell_type": "markdown",
   "metadata": {},
   "source": [
    "Estas celdas pueden contener todas las líneas de código que se desee pero hay que tener en cuenta que cada celda genera una única salida al ser evaluada que se corresponde con el resultado de la última sentencia ejecutada. Por tanto, si se quiren salidas parciales habrá que partir el código entre varias celdas. Para llevar a cabo este particionado (o unión) de celdas tenemos a nuestra disposición las siguientes teclas de acceso rápido:\n",
    "<ul>\n",
    "<li>Split de celdas (en modo edición): Ctrl + Shift + -</li>\n",
    "<li>Merge de celdas (en modo lectura): Shit + M</li>\n",
    "</ul>"
   ]
  },
  {
   "cell_type": "markdown",
   "metadata": {},
   "source": [
    "#### Celdas Markdown\n",
    "\n",
    "<ul>\n",
    "<li>Se trata de celdas que contienen texto enriquecido</li>\n",
    "<li>Se puede utilizar lenguaje Markdown o HTML dentro de las mismas</li>\n",
    "<li>Estas celdas presentarán texto plano en modo edición (o cuando no se hayan evaluado)</li>\n",
    "</ul>"
   ]
  },
  {
   "cell_type": "markdown",
   "metadata": {},
   "source": [
    "#### Celdas Raw NBConvert\n",
    "\n",
    "<ul>\n",
    "<li>Se trata de celdas que contienen texto plano</li>\n",
    "</ul>"
   ]
  },
  {
   "cell_type": "markdown",
   "metadata": {},
   "source": [
    "### Magic commands\n",
    "\n",
    "Al ejecutarse sobre un intérprete de IPython, tenemos a nuestra disposición el mismo conjunto de utilidades que nos ofrece éste (magic commands). Algunos ejemplos..."
   ]
  },
  {
   "cell_type": "code",
   "execution_count": 3,
   "metadata": {},
   "outputs": [
    {
     "data": {
      "text/plain": [
       "'C:\\\\Users\\\\jcalderon\\\\Desktop\\\\TFM\\\\Máster\\\\Módulo 0 - Introducción\\\\Intro_Python\\\\Documentación\\\\notebooks'"
      ]
     },
     "execution_count": 3,
     "metadata": {},
     "output_type": "execute_result"
    }
   ],
   "source": [
    "# Mostrar el directorio de trabajo actual\n",
    "%pwd"
   ]
  },
  {
   "cell_type": "code",
   "execution_count": 4,
   "metadata": {},
   "outputs": [
    {
     "name": "stdout",
     "output_type": "stream",
     "text": [
      " El volumen de la unidad C no tiene etiqueta.\n",
      " El n£mero de serie del volumen es: E6E0-5FC0\n",
      "\n",
      " Directorio de C:\\Users\\jcalderon\\Desktop\\TFM\\M ster\\M¢dulo 0 - Introducci¢n\\Intro_Python\\Documentaci¢n\\notebooks\n",
      "\n",
      "22/03/2021  09:07    <DIR>          .\n",
      "22/03/2021  09:07    <DIR>          ..\n",
      "28/03/2020  18:27             6,148 .DS_Store\n",
      "28/03/2020  18:27    <DIR>          .ipynb_checkpoints\n",
      "22/03/2021  09:07            14,716 0. Jupyter Notebooks.ipynb\n",
      "25/02/2021  09:31    <DIR>          numpy\n",
      "04/04/2020  17:26    <DIR>          pandas\n",
      "28/03/2020  18:27    <DIR>          python\n",
      "28/03/2020  18:27    <DIR>          Rocio\n",
      "               2 archivos         20,864 bytes\n",
      "               7 dirs   4,402,675,712 bytes libres\n"
     ]
    }
   ],
   "source": [
    "# Listar el contenido del directorio de trabajo actual\n",
    "%ls"
   ]
  },
  {
   "cell_type": "code",
   "execution_count": 12,
   "metadata": {},
   "outputs": [
    {
     "name": "stdout",
     "output_type": "stream",
     "text": [
      "[WinError 2] El sistema no puede encontrar el archivo especificado: 'Rocio'\n",
      "C:\\Users\\jcalderon\\Desktop\\TFM\\Máster\\Módulo 0 - Introducción\\Intro_Python\\Documentación\\notebooks\\python\n"
     ]
    }
   ],
   "source": [
    "# Cambiar el directorio de trabajo actual\n",
    "%cd Rocio"
   ]
  },
  {
   "cell_type": "code",
   "execution_count": 6,
   "metadata": {},
   "outputs": [
    {
     "name": "stdout",
     "output_type": "stream",
     "text": [
      "str_1\t \n"
     ]
    }
   ],
   "source": [
    "# Listar las variables existentes en el espacio de trabajo actual\n",
    "%who"
   ]
  },
  {
   "cell_type": "code",
   "execution_count": 7,
   "metadata": {},
   "outputs": [
    {
     "data": {
      "application/json": {
       "cell": {
        "!": "OSMagics",
        "HTML": "Other",
        "SVG": "Other",
        "bash": "Other",
        "capture": "ExecutionMagics",
        "cmd": "Other",
        "debug": "ExecutionMagics",
        "file": "Other",
        "html": "DisplayMagics",
        "javascript": "DisplayMagics",
        "js": "DisplayMagics",
        "latex": "DisplayMagics",
        "markdown": "DisplayMagics",
        "perl": "Other",
        "prun": "ExecutionMagics",
        "pypy": "Other",
        "python": "Other",
        "python2": "Other",
        "python3": "Other",
        "ruby": "Other",
        "script": "ScriptMagics",
        "sh": "Other",
        "svg": "DisplayMagics",
        "sx": "OSMagics",
        "system": "OSMagics",
        "time": "ExecutionMagics",
        "timeit": "ExecutionMagics",
        "writefile": "OSMagics"
       },
       "line": {
        "alias": "OSMagics",
        "alias_magic": "BasicMagics",
        "autocall": "AutoMagics",
        "automagic": "AutoMagics",
        "autosave": "KernelMagics",
        "bookmark": "OSMagics",
        "cd": "OSMagics",
        "clear": "KernelMagics",
        "cls": "KernelMagics",
        "colors": "BasicMagics",
        "config": "ConfigMagics",
        "connect_info": "KernelMagics",
        "copy": "Other",
        "ddir": "Other",
        "debug": "ExecutionMagics",
        "dhist": "OSMagics",
        "dirs": "OSMagics",
        "doctest_mode": "BasicMagics",
        "echo": "Other",
        "ed": "Other",
        "edit": "KernelMagics",
        "env": "OSMagics",
        "gui": "BasicMagics",
        "hist": "Other",
        "history": "HistoryMagics",
        "killbgscripts": "ScriptMagics",
        "ldir": "Other",
        "less": "KernelMagics",
        "load": "CodeMagics",
        "load_ext": "ExtensionMagics",
        "loadpy": "CodeMagics",
        "logoff": "LoggingMagics",
        "logon": "LoggingMagics",
        "logstart": "LoggingMagics",
        "logstate": "LoggingMagics",
        "logstop": "LoggingMagics",
        "ls": "Other",
        "lsmagic": "BasicMagics",
        "macro": "ExecutionMagics",
        "magic": "BasicMagics",
        "matplotlib": "PylabMagics",
        "mkdir": "Other",
        "more": "KernelMagics",
        "notebook": "BasicMagics",
        "page": "BasicMagics",
        "pastebin": "CodeMagics",
        "pdb": "ExecutionMagics",
        "pdef": "NamespaceMagics",
        "pdoc": "NamespaceMagics",
        "pfile": "NamespaceMagics",
        "pinfo": "NamespaceMagics",
        "pinfo2": "NamespaceMagics",
        "pip": "BasicMagics",
        "popd": "OSMagics",
        "pprint": "BasicMagics",
        "precision": "BasicMagics",
        "profile": "BasicMagics",
        "prun": "ExecutionMagics",
        "psearch": "NamespaceMagics",
        "psource": "NamespaceMagics",
        "pushd": "OSMagics",
        "pwd": "OSMagics",
        "pycat": "OSMagics",
        "pylab": "PylabMagics",
        "qtconsole": "KernelMagics",
        "quickref": "BasicMagics",
        "recall": "HistoryMagics",
        "rehashx": "OSMagics",
        "reload_ext": "ExtensionMagics",
        "ren": "Other",
        "rep": "Other",
        "rerun": "HistoryMagics",
        "reset": "NamespaceMagics",
        "reset_selective": "NamespaceMagics",
        "rmdir": "Other",
        "run": "ExecutionMagics",
        "save": "CodeMagics",
        "sc": "OSMagics",
        "set_env": "OSMagics",
        "store": "StoreMagics",
        "sx": "OSMagics",
        "system": "OSMagics",
        "tb": "ExecutionMagics",
        "time": "ExecutionMagics",
        "timeit": "ExecutionMagics",
        "unalias": "OSMagics",
        "unload_ext": "ExtensionMagics",
        "who": "NamespaceMagics",
        "who_ls": "NamespaceMagics",
        "whos": "NamespaceMagics",
        "xdel": "NamespaceMagics",
        "xmode": "BasicMagics"
       }
      },
      "text/plain": [
       "Available line magics:\n",
       "%alias  %alias_magic  %autocall  %automagic  %autosave  %bookmark  %cd  %clear  %cls  %colors  %config  %connect_info  %copy  %ddir  %debug  %dhist  %dirs  %doctest_mode  %echo  %ed  %edit  %env  %gui  %hist  %history  %killbgscripts  %ldir  %less  %load  %load_ext  %loadpy  %logoff  %logon  %logstart  %logstate  %logstop  %ls  %lsmagic  %macro  %magic  %matplotlib  %mkdir  %more  %notebook  %page  %pastebin  %pdb  %pdef  %pdoc  %pfile  %pinfo  %pinfo2  %popd  %pprint  %precision  %profile  %prun  %psearch  %psource  %pushd  %pwd  %pycat  %pylab  %qtconsole  %quickref  %recall  %rehashx  %reload_ext  %ren  %rep  %rerun  %reset  %reset_selective  %rmdir  %run  %save  %sc  %set_env  %store  %sx  %system  %tb  %time  %timeit  %unalias  %unload_ext  %who  %who_ls  %whos  %xdel  %xmode\n",
       "\n",
       "Available cell magics:\n",
       "%%!  %%HTML  %%SVG  %%bash  %%capture  %%cmd  %%debug  %%file  %%html  %%javascript  %%js  %%latex  %%markdown  %%perl  %%prun  %%pypy  %%python  %%python2  %%python3  %%ruby  %%script  %%sh  %%svg  %%sx  %%system  %%time  %%timeit  %%writefile\n",
       "\n",
       "Automagic is ON, % prefix IS NOT needed for line magics."
      ]
     },
     "execution_count": 7,
     "metadata": {},
     "output_type": "execute_result"
    }
   ],
   "source": [
    "# Listar todos los comandos disponibles\n",
    "%lsmagic"
   ]
  },
  {
   "cell_type": "markdown",
   "metadata": {},
   "source": [
    "### Obtención de ayuda (inline)\n",
    "\n",
    "<ul>\n",
    "<li>*?* antes de una función permite acceder a la documentación.</li>\n",
    "<li>En cualquier caso, es más recomendable buscar ayuda online.</li>\n",
    "</li>"
   ]
  },
  {
   "cell_type": "code",
   "execution_count": 8,
   "metadata": {},
   "outputs": [],
   "source": [
    "?tuple"
   ]
  }
 ],
 "metadata": {
  "kernelspec": {
   "display_name": "Python 3",
   "language": "python",
   "name": "python3"
  },
  "language_info": {
   "codemirror_mode": {
    "name": "ipython",
    "version": 3
   },
   "file_extension": ".py",
   "mimetype": "text/x-python",
   "name": "python",
   "nbconvert_exporter": "python",
   "pygments_lexer": "ipython3",
   "version": "3.6.10"
  },
  "varInspector": {
   "cols": {
    "lenName": 16,
    "lenType": 16,
    "lenVar": 40
   },
   "kernels_config": {
    "python": {
     "delete_cmd_postfix": "",
     "delete_cmd_prefix": "del ",
     "library": "var_list.py",
     "varRefreshCmd": "print(var_dic_list())"
    },
    "r": {
     "delete_cmd_postfix": ") ",
     "delete_cmd_prefix": "rm(",
     "library": "var_list.r",
     "varRefreshCmd": "cat(var_dic_list()) "
    }
   },
   "types_to_exclude": [
    "module",
    "function",
    "builtin_function_or_method",
    "instance",
    "_Feature"
   ],
   "window_display": false
  }
 },
 "nbformat": 4,
 "nbformat_minor": 2
}
