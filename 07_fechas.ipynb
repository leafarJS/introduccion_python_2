{
 "cells": [
  {
   "cell_type": "markdown",
   "metadata": {
    "id": "g4YrcRofOZmf"
   },
   "source": [
    "---\n",
    "<font size=\"6\">Tratamiento de fechas</font>\n",
    "\n",
    "Es imprescindible, en cualquier lenguaje de programación, aprender a cómo utilizar las fechas tal y como queremos. \\\n",
    "Para ello, en este módulo aprenderemos a utilizar el paquete de funciones incorporadas en **`datetime`**. \n",
    "\n",
    "---\n"
   ]
  },
  {
   "cell_type": "markdown",
   "metadata": {
    "id": "Ub_8Zzc31rm9"
   },
   "source": [
    "# **Objetos en `datetime`**\n",
    "Dispondremos de muchos objetos en los cuales se hará hincapié en las clases de fechas siguientes:\n",
    "* **date**: Objeto de fecha\n",
    "* **time**: Objeto de tiempo\n",
    "* **datetime**: Objeto que engloba a ambas\n",
    "* **timedelta**: Objeto operador de fechas\n",
    "\n",
    "Empecemos importando el paquete y viendo sus atributos."
   ]
  },
  {
   "cell_type": "code",
   "execution_count": 1,
   "metadata": {
    "colab": {
     "base_uri": "https://localhost:8080/"
    },
    "id": "Fipjo9KAReaQ",
    "outputId": "36a5cdf9-beb2-4b8b-e87f-9e2a2ce4d9be"
   },
   "outputs": [
    {
     "data": {
      "text/plain": [
       "['MAXYEAR',\n",
       " 'MINYEAR',\n",
       " '__all__',\n",
       " '__builtins__',\n",
       " '__cached__',\n",
       " '__doc__',\n",
       " '__file__',\n",
       " '__loader__',\n",
       " '__name__',\n",
       " '__package__',\n",
       " '__spec__',\n",
       " 'date',\n",
       " 'datetime',\n",
       " 'datetime_CAPI',\n",
       " 'sys',\n",
       " 'time',\n",
       " 'timedelta',\n",
       " 'timezone',\n",
       " 'tzinfo']"
      ]
     },
     "execution_count": 1,
     "metadata": {},
     "output_type": "execute_result"
    }
   ],
   "source": [
    "import datetime\n",
    "dir(datetime)"
   ]
  },
  {
   "cell_type": "markdown",
   "metadata": {
    "id": "BwSOzwhuX5fL"
   },
   "source": [
    "Como se peude observar, vemos las clases `date`, `datetime`, `time` y `timedelta`, las cuales veremos más en detalle a continuación."
   ]
  },
  {
   "cell_type": "markdown",
   "metadata": {
    "id": "MPHiHGbcYikT"
   },
   "source": [
    "## **`.date`**\n",
    "Con esta clase podemos crear objetos tipo `date` el cual representa una fecha de tipo (año, mes y día). Además, como atributo más interesante, está el poder extraer el día de hoy con el método `.today()`."
   ]
  },
  {
   "cell_type": "code",
   "execution_count": 2,
   "metadata": {
    "colab": {
     "base_uri": "https://localhost:8080/"
    },
    "id": "NJNZXPlwYGuh",
    "outputId": "200d71b7-6ee6-437e-ff41-dcf51914bca7"
   },
   "outputs": [
    {
     "data": {
      "text/plain": [
       "['__add__',\n",
       " '__class__',\n",
       " '__delattr__',\n",
       " '__dir__',\n",
       " '__doc__',\n",
       " '__eq__',\n",
       " '__format__',\n",
       " '__ge__',\n",
       " '__getattribute__',\n",
       " '__gt__',\n",
       " '__hash__',\n",
       " '__init__',\n",
       " '__init_subclass__',\n",
       " '__le__',\n",
       " '__lt__',\n",
       " '__ne__',\n",
       " '__new__',\n",
       " '__radd__',\n",
       " '__reduce__',\n",
       " '__reduce_ex__',\n",
       " '__repr__',\n",
       " '__rsub__',\n",
       " '__setattr__',\n",
       " '__sizeof__',\n",
       " '__str__',\n",
       " '__sub__',\n",
       " '__subclasshook__',\n",
       " 'ctime',\n",
       " 'day',\n",
       " 'fromisocalendar',\n",
       " 'fromisoformat',\n",
       " 'fromordinal',\n",
       " 'fromtimestamp',\n",
       " 'isocalendar',\n",
       " 'isoformat',\n",
       " 'isoweekday',\n",
       " 'max',\n",
       " 'min',\n",
       " 'month',\n",
       " 'replace',\n",
       " 'resolution',\n",
       " 'strftime',\n",
       " 'timetuple',\n",
       " 'today',\n",
       " 'toordinal',\n",
       " 'weekday',\n",
       " 'year']"
      ]
     },
     "execution_count": 2,
     "metadata": {},
     "output_type": "execute_result"
    }
   ],
   "source": [
    "# --\n",
    "# Atributos de datetime.date\n",
    "# --\n",
    "dir(datetime.date)"
   ]
  },
  {
   "cell_type": "code",
   "execution_count": 3,
   "metadata": {},
   "outputs": [
    {
     "data": {
      "text/plain": [
       "['__class__',\n",
       " '__delattr__',\n",
       " '__dir__',\n",
       " '__doc__',\n",
       " '__eq__',\n",
       " '__format__',\n",
       " '__ge__',\n",
       " '__getattribute__',\n",
       " '__gt__',\n",
       " '__hash__',\n",
       " '__init__',\n",
       " '__init_subclass__',\n",
       " '__le__',\n",
       " '__lt__',\n",
       " '__ne__',\n",
       " '__new__',\n",
       " '__reduce__',\n",
       " '__reduce_ex__',\n",
       " '__repr__',\n",
       " '__setattr__',\n",
       " '__sizeof__',\n",
       " '__str__',\n",
       " '__subclasshook__',\n",
       " 'dst',\n",
       " 'fold',\n",
       " 'fromisoformat',\n",
       " 'hour',\n",
       " 'isoformat',\n",
       " 'max',\n",
       " 'microsecond',\n",
       " 'min',\n",
       " 'minute',\n",
       " 'replace',\n",
       " 'resolution',\n",
       " 'second',\n",
       " 'strftime',\n",
       " 'tzinfo',\n",
       " 'tzname',\n",
       " 'utcoffset']"
      ]
     },
     "execution_count": 3,
     "metadata": {},
     "output_type": "execute_result"
    }
   ],
   "source": [
    "# --\n",
    "# Atributos de datetime.time\n",
    "# --\n",
    "dir(datetime.time)"
   ]
  },
  {
   "cell_type": "code",
   "execution_count": 4,
   "metadata": {
    "id": "p2DWCKmIZ8N1"
   },
   "outputs": [],
   "source": [
    "# --\n",
    "# A partir de aquí, trabajemos únicamente importando todo el paquete date\n",
    "# para evitar poner \"datetime.\"\n",
    "# --\n",
    "from datetime import date"
   ]
  },
  {
   "cell_type": "markdown",
   "metadata": {
    "id": "U3A31cGEaUa3"
   },
   "source": [
    "### **Crear fechas**\n",
    "Para crear fechas, necesitamos los siguientes argumentos:\n",
    "* **Year**\n",
    "* **Month**\n",
    "* **Day**"
   ]
  },
  {
   "cell_type": "code",
   "execution_count": 5,
   "metadata": {
    "colab": {
     "base_uri": "https://localhost:8080/"
    },
    "id": "n4XB-I7KbPN3",
    "outputId": "c1c51439-b657-4184-d766-da9798561184"
   },
   "outputs": [
    {
     "name": "stdout",
     "output_type": "stream",
     "text": [
      "Usando datetime.date: 2022-09-27\n",
      "Usando date: 2022-09-27\n"
     ]
    }
   ],
   "source": [
    "# --\n",
    "# Creamos una fecha\n",
    "# --\n",
    "fecha = datetime.date(year = 2022, month = 9, day = 27)\n",
    "print('Usando datetime.date: ' + str(fecha))\n",
    "\n",
    "# --\n",
    "# Equivalente a usar únicamente date\n",
    "# --\n",
    "fecha = date(2022, 9, 27)\n",
    "print('Usando date: ' + str(fecha))"
   ]
  },
  {
   "cell_type": "markdown",
   "metadata": {
    "id": "BJpdVf_KaaPD"
   },
   "source": [
    "#### `.today()`\n",
    "Veamos cómo extraer el día actual"
   ]
  },
  {
   "cell_type": "code",
   "execution_count": 6,
   "metadata": {
    "colab": {
     "base_uri": "https://localhost:8080/"
    },
    "id": "OmSiX2SeZf0U",
    "outputId": "5ea16223-4ade-413e-93c0-4814243dbba8"
   },
   "outputs": [
    {
     "name": "stdout",
     "output_type": "stream",
     "text": [
      "hoy es 2022-09-27\n"
     ]
    }
   ],
   "source": [
    "# --\n",
    "# Equivalente a usar directamente date.today()\n",
    "# --\n",
    "hoy = date.today()\n",
    "print(f\"hoy es {hoy}\")"
   ]
  },
  {
   "cell_type": "markdown",
   "metadata": {
    "id": "BtEIAP0bd_e9"
   },
   "source": [
    "### **Métodos asociados**\n",
    "Los métodos asociados más usuales a este objeto son:\n",
    "* **`.year`**\n",
    "* **`.month`**\n",
    "* **`.day`**\n"
   ]
  },
  {
   "cell_type": "code",
   "execution_count": 7,
   "metadata": {
    "colab": {
     "base_uri": "https://localhost:8080/"
    },
    "id": "hJ403TG_K4mq",
    "outputId": "de27a9a9-c911-444a-cfc1-0a18824edb2a"
   },
   "outputs": [
    {
     "name": "stdout",
     "output_type": "stream",
     "text": [
      "Año actual: 2022\n",
      "Mes actual: 9\n",
      "Día actual: 27\n"
     ]
    }
   ],
   "source": [
    "# --\n",
    "# Veamos el año, mes y día actual\n",
    "# --\n",
    "hoy = date.today() \n",
    "\n",
    "print(\"Año actual:\", hoy.year)\n",
    "print(\"Mes actual:\", hoy.month)\n",
    "print(\"Día actual:\", hoy.day)"
   ]
  },
  {
   "cell_type": "markdown",
   "metadata": {
    "id": "3U0E7sMZhCzY"
   },
   "source": [
    "Adicionalmente, peude llegar a resultar interesante el método `fromtimestamp` que convierte un número en formato $\\text{timestamp}^1$ a fecha.\n",
    "\n",
    "<font size = 4> 1.- El $\\text{timestamp}$ es el número de segundos que han transucrrido entre el 1 de enero de 1970 y la fecha que se desee."
   ]
  },
  {
   "cell_type": "code",
   "execution_count": 8,
   "metadata": {
    "colab": {
     "base_uri": "https://localhost:8080/"
    },
    "id": "g02gfb68KlMI",
    "outputId": "d2c3d224-351c-433a-9fe2-e7ee1ddfb8b8"
   },
   "outputs": [
    {
     "name": "stdout",
     "output_type": "stream",
     "text": [
      "Fecha = 2012-01-10\n"
     ]
    }
   ],
   "source": [
    "# --\n",
    "# Veámos a qué fecha hace referencia este número\n",
    "# --\n",
    "timestamp = date.fromtimestamp(1326244364)\n",
    "print(\"Fecha =\", timestamp)"
   ]
  },
  {
   "cell_type": "markdown",
   "metadata": {
    "id": "y5syQ3_Hhguu"
   },
   "source": [
    "## **`.time`**\n",
    "Con esta clase podemos crear objetos tipo `time` el cual representa una hora de tipo (hora, minuto, segundo y microsegundo). Además, como atributo más interesante, está el poder extraer la hora actual con el método `.now()`."
   ]
  },
  {
   "cell_type": "code",
   "execution_count": 9,
   "metadata": {
    "colab": {
     "base_uri": "https://localhost:8080/"
    },
    "id": "-Jw_3R_Eh-5v",
    "outputId": "deb077f3-e8a3-4b3f-da96-9808eb499f36"
   },
   "outputs": [
    {
     "data": {
      "text/plain": [
       "['__class__',\n",
       " '__delattr__',\n",
       " '__dir__',\n",
       " '__doc__',\n",
       " '__eq__',\n",
       " '__format__',\n",
       " '__ge__',\n",
       " '__getattribute__',\n",
       " '__gt__',\n",
       " '__hash__',\n",
       " '__init__',\n",
       " '__init_subclass__',\n",
       " '__le__',\n",
       " '__lt__',\n",
       " '__ne__',\n",
       " '__new__',\n",
       " '__reduce__',\n",
       " '__reduce_ex__',\n",
       " '__repr__',\n",
       " '__setattr__',\n",
       " '__sizeof__',\n",
       " '__str__',\n",
       " '__subclasshook__',\n",
       " 'dst',\n",
       " 'fold',\n",
       " 'fromisoformat',\n",
       " 'hour',\n",
       " 'isoformat',\n",
       " 'max',\n",
       " 'microsecond',\n",
       " 'min',\n",
       " 'minute',\n",
       " 'replace',\n",
       " 'resolution',\n",
       " 'second',\n",
       " 'strftime',\n",
       " 'tzinfo',\n",
       " 'tzname',\n",
       " 'utcoffset']"
      ]
     },
     "execution_count": 9,
     "metadata": {},
     "output_type": "execute_result"
    }
   ],
   "source": [
    "# --\n",
    "# Atributos de datetime.time\n",
    "# --\n",
    "dir(datetime.time)"
   ]
  },
  {
   "cell_type": "code",
   "execution_count": 10,
   "metadata": {
    "id": "CwiAQOkhiEt9"
   },
   "outputs": [],
   "source": [
    "# --\n",
    "# A partir de aquí, trabajemos únicamente importando todo el paquete time\n",
    "# para evitar poner \"datetime.\"\n",
    "# --\n",
    "from datetime import time"
   ]
  },
  {
   "cell_type": "markdown",
   "metadata": {
    "id": "lQW4L6p2ihtQ"
   },
   "source": [
    "### **Crear horas**\n",
    "Para crear horas, necesitamos los siguientes argumentos:\n",
    "* **Hour**\n",
    "* **Minute**\n",
    "* **Second**\n",
    "* **Microsecond**: Opcional"
   ]
  },
  {
   "cell_type": "code",
   "execution_count": 11,
   "metadata": {
    "colab": {
     "base_uri": "https://localhost:8080/"
    },
    "id": "dIuphh_Gi5AO",
    "outputId": "328a0816-5d97-4a0a-a9c8-f9afe268207d"
   },
   "outputs": [
    {
     "name": "stdout",
     "output_type": "stream",
     "text": [
      "Usando datetime.time: 11:34:13\n",
      "Usando date: 11:34:13\n",
      "Usando microsegundos: 11:34:56.234566\n"
     ]
    }
   ],
   "source": [
    "# --\n",
    "# Creamos una hora\n",
    "# --\n",
    "ejemplo_h_1 = datetime.time(hour = 11, minute = 34, second = 13)\n",
    "print('Usando datetime.time: ' + str(ejemplo_h_1))\n",
    "\n",
    "# --\n",
    "# Equivalente a usar únicamente date\n",
    "# --\n",
    "ejemplo_h_2 = time(11, 34, 13)\n",
    "print('Usando date: ' + str(ejemplo_h_2))\n",
    "\n",
    "# --\n",
    "# Usando la variable opcional \"microsecond\"\n",
    "# --\n",
    "ejemplo_h_3 = time(11, 34, 56, 234566)\n",
    "print(\"Usando microsegundos:\", ejemplo_h_3)"
   ]
  },
  {
   "cell_type": "markdown",
   "metadata": {
    "id": "F5jDLcWqlH6v"
   },
   "source": [
    "### **Métodos asociados**\n",
    "Los métodos asociados más usuales a este objeto son:\n",
    "* **`.hour`**\n",
    "* **`.minute`**\n",
    "* **`.second`**\n",
    "* **`.microsecond`**"
   ]
  },
  {
   "cell_type": "code",
   "execution_count": 12,
   "metadata": {
    "colab": {
     "base_uri": "https://localhost:8080/"
    },
    "id": "yyN-IvTglXLh",
    "outputId": "3222e7c0-352b-4039-a6ba-ba6b0cf0a78e"
   },
   "outputs": [
    {
     "name": "stdout",
     "output_type": "stream",
     "text": [
      "Hora: 11\n",
      "Minuto: 34\n",
      "Segundo: 56\n",
      "Microsegundo: 0\n"
     ]
    }
   ],
   "source": [
    "# --\n",
    "# Veamos la hora, el minuto, el segundo y el microsegundo de la variable \"mi_hora\"\n",
    "# --\n",
    "mi_hora = time(11, 34, 56)\n",
    "\n",
    "print(\"Hora:\", mi_hora.hour)\n",
    "print(\"Minuto:\", mi_hora.minute)\n",
    "print(\"Segundo:\", mi_hora.second)\n",
    "print(\"Microsegundo:\", mi_hora.microsecond)"
   ]
  },
  {
   "cell_type": "markdown",
   "metadata": {
    "id": "VByYvj23mOyS"
   },
   "source": [
    "## **`.datetime`**\n",
    "Con esta clase podemos crear objetos tipo `datetime` el cual engloba a las dos categorías anteriores, teniendo objetos del tipo (año, mes, día, hora, minuto, segundo y microsegundo). Además, como atributo más interesante, está el poder extraer la fecha o hora actual con el método `.today()`y `.now()`."
   ]
  },
  {
   "cell_type": "code",
   "execution_count": 13,
   "metadata": {
    "colab": {
     "base_uri": "https://localhost:8080/"
    },
    "id": "oOpkhF3SmqVQ",
    "outputId": "20a1d1f0-caff-47b1-81b9-b79ebc34d9ab"
   },
   "outputs": [
    {
     "data": {
      "text/plain": [
       "['__add__',\n",
       " '__class__',\n",
       " '__delattr__',\n",
       " '__dir__',\n",
       " '__doc__',\n",
       " '__eq__',\n",
       " '__format__',\n",
       " '__ge__',\n",
       " '__getattribute__',\n",
       " '__gt__',\n",
       " '__hash__',\n",
       " '__init__',\n",
       " '__init_subclass__',\n",
       " '__le__',\n",
       " '__lt__',\n",
       " '__ne__',\n",
       " '__new__',\n",
       " '__radd__',\n",
       " '__reduce__',\n",
       " '__reduce_ex__',\n",
       " '__repr__',\n",
       " '__rsub__',\n",
       " '__setattr__',\n",
       " '__sizeof__',\n",
       " '__str__',\n",
       " '__sub__',\n",
       " '__subclasshook__',\n",
       " 'astimezone',\n",
       " 'combine',\n",
       " 'ctime',\n",
       " 'date',\n",
       " 'day',\n",
       " 'dst',\n",
       " 'fold',\n",
       " 'fromisocalendar',\n",
       " 'fromisoformat',\n",
       " 'fromordinal',\n",
       " 'fromtimestamp',\n",
       " 'hour',\n",
       " 'isocalendar',\n",
       " 'isoformat',\n",
       " 'isoweekday',\n",
       " 'max',\n",
       " 'microsecond',\n",
       " 'min',\n",
       " 'minute',\n",
       " 'month',\n",
       " 'now',\n",
       " 'replace',\n",
       " 'resolution',\n",
       " 'second',\n",
       " 'strftime',\n",
       " 'strptime',\n",
       " 'time',\n",
       " 'timestamp',\n",
       " 'timetuple',\n",
       " 'timetz',\n",
       " 'today',\n",
       " 'toordinal',\n",
       " 'tzinfo',\n",
       " 'tzname',\n",
       " 'utcfromtimestamp',\n",
       " 'utcnow',\n",
       " 'utcoffset',\n",
       " 'utctimetuple',\n",
       " 'weekday',\n",
       " 'year']"
      ]
     },
     "execution_count": 13,
     "metadata": {},
     "output_type": "execute_result"
    }
   ],
   "source": [
    "import datetime\n",
    "# --\n",
    "# Atributos de datetime.time\n",
    "# --\n",
    "dir(datetime.datetime)"
   ]
  },
  {
   "cell_type": "code",
   "execution_count": 14,
   "metadata": {
    "id": "TZf9cFPwm-TD"
   },
   "outputs": [],
   "source": [
    "# --\n",
    "# A partir de aquí, trabajemos únicamente importando todo el paquete datetime\n",
    "# para evitar poner \"datetime.\"\n",
    "# --\n",
    "from datetime import datetime"
   ]
  },
  {
   "cell_type": "markdown",
   "metadata": {
    "id": "qTdPpjbjnH54"
   },
   "source": [
    "### **Crear objetos datetime**\n",
    "Para crear este tipo de objetos, necesitamos los siguientes argumentos:\n",
    "* **Year**\n",
    "* **Month**\n",
    "* **Day**\n",
    "* **Hour**: Opcional. Defecto: Hour = 0\n",
    "* **Minute**: Opcional. Defecto: Minute = 0\n",
    "* **Second**: Opcional. Defecto: Second = 0\n",
    "* **Microsecond**: Opcional. Defecto: Microsecond = 0"
   ]
  },
  {
   "cell_type": "code",
   "execution_count": 15,
   "metadata": {
    "colab": {
     "base_uri": "https://localhost:8080/"
    },
    "id": "fNHs18wfLRjL",
    "outputId": "efd7ad30-3d18-486c-8500-b7233161a231"
   },
   "outputs": [
    {
     "name": "stdout",
     "output_type": "stream",
     "text": [
      "Fecha utilizando datetime: 2018-11-28 00:00:00\n",
      "Fecha y hora utilizando datetime: 2017-11-28 23:55:59.342380\n"
     ]
    }
   ],
   "source": [
    "# --\n",
    "# Creamos una fecha\n",
    "# --\n",
    "mi_fecha_1 = datetime(2018, 11, 28)\n",
    "print(\"Fecha utilizando datetime: \" + str(mi_fecha_1))\n",
    "\n",
    "# --\n",
    "# Creamos una fecha con hora\n",
    "# --\n",
    "mi_fecha_2 = datetime(2017, 11, 28, 23, 55, 59, 342380)\n",
    "print(\"Fecha y hora utilizando datetime: \" + str(mi_fecha_2))"
   ]
  },
  {
   "cell_type": "markdown",
   "metadata": {
    "id": "Cf1DQdMMoKhS"
   },
   "source": [
    "#### `.today()` o `.now()`\n",
    "Veamos cómo extraer el día y hora actual usando datetime."
   ]
  },
  {
   "cell_type": "code",
   "execution_count": 16,
   "metadata": {
    "colab": {
     "base_uri": "https://localhost:8080/"
    },
    "id": "asdYezZvoKhc",
    "outputId": "36061892-55c2-4714-d0a6-236d569c8f62"
   },
   "outputs": [
    {
     "name": "stdout",
     "output_type": "stream",
     "text": [
      "Fecha de hoy: 2022-09-27 10:49:34.536131\n",
      "Hora actual: 2022-09-27 10:49:34.537112\n"
     ]
    }
   ],
   "source": [
    "# --\n",
    "# Extraemos la fecha actual usando .today()\n",
    "# --\n",
    "hoy = datetime.today()\n",
    "print('Fecha de hoy: ' + str(hoy))\n",
    "\n",
    "# --\n",
    "# Extraemos la fecha actual usando .now()\n",
    "# --\n",
    "ahora = datetime.now()\n",
    "print('Hora actual: ' + str(ahora))"
   ]
  },
  {
   "cell_type": "markdown",
   "metadata": {
    "id": "0R6r_niarJPu"
   },
   "source": [
    "### **Métodos asociados**\n",
    "Los métodos asociados más usuales a este objeto son:\n",
    "* **`.year`**\n",
    "* **`.month`**\n",
    "* **`.day`**\n",
    "* **`.hour`**\n",
    "* **`.minute`**\n",
    "* **`.second`**\n",
    "* **`.microsecond`**\n",
    "* **`.timestamp`**\n"
   ]
  },
  {
   "cell_type": "code",
   "execution_count": 17,
   "metadata": {
    "colab": {
     "base_uri": "https://localhost:8080/"
    },
    "id": "vuWZ2anvLcO7",
    "outputId": "70b724ad-2351-4a13-e13d-b6f9287e9b0c"
   },
   "outputs": [
    {
     "name": "stdout",
     "output_type": "stream",
     "text": [
      "year = 2017\n",
      "month = 11\n",
      "hour = 23\n",
      "minute = 55\n",
      "timestamp = 1511927759.34238\n"
     ]
    }
   ],
   "source": [
    "# --\n",
    "# Veamos el año, mes, hora, minuto y timestamp de una fecha\"\n",
    "# --\n",
    "fecha = datetime(2017, 11, 28, 23, 55, 59, 342380)\n",
    "print(\"year =\", fecha.year)\n",
    "print(\"month =\", fecha.month)\n",
    "print(\"hour =\", fecha.hour)\n",
    "print(\"minute =\", fecha.minute)\n",
    "print(\"timestamp =\", fecha.timestamp())"
   ]
  },
  {
   "cell_type": "markdown",
   "metadata": {
    "id": "nTpUnthGsQsZ"
   },
   "source": [
    "## **`.timedelta`**\n",
    "Con esta clase podemos crear objetos tipo `timedelta` representa la diferencia entre dos fechas u horas."
   ]
  },
  {
   "cell_type": "code",
   "execution_count": 18,
   "metadata": {
    "colab": {
     "base_uri": "https://localhost:8080/"
    },
    "id": "HoFbWnhPt1xI",
    "outputId": "3a314e9b-c39e-4857-fd4a-c5f5343e2b59"
   },
   "outputs": [
    {
     "data": {
      "text/plain": [
       "['__abs__',\n",
       " '__add__',\n",
       " '__bool__',\n",
       " '__class__',\n",
       " '__delattr__',\n",
       " '__dir__',\n",
       " '__divmod__',\n",
       " '__doc__',\n",
       " '__eq__',\n",
       " '__floordiv__',\n",
       " '__format__',\n",
       " '__ge__',\n",
       " '__getattribute__',\n",
       " '__gt__',\n",
       " '__hash__',\n",
       " '__init__',\n",
       " '__init_subclass__',\n",
       " '__le__',\n",
       " '__lt__',\n",
       " '__mod__',\n",
       " '__mul__',\n",
       " '__ne__',\n",
       " '__neg__',\n",
       " '__new__',\n",
       " '__pos__',\n",
       " '__radd__',\n",
       " '__rdivmod__',\n",
       " '__reduce__',\n",
       " '__reduce_ex__',\n",
       " '__repr__',\n",
       " '__rfloordiv__',\n",
       " '__rmod__',\n",
       " '__rmul__',\n",
       " '__rsub__',\n",
       " '__rtruediv__',\n",
       " '__setattr__',\n",
       " '__sizeof__',\n",
       " '__str__',\n",
       " '__sub__',\n",
       " '__subclasshook__',\n",
       " '__truediv__',\n",
       " 'days',\n",
       " 'max',\n",
       " 'microseconds',\n",
       " 'min',\n",
       " 'resolution',\n",
       " 'seconds',\n",
       " 'total_seconds']"
      ]
     },
     "execution_count": 18,
     "metadata": {},
     "output_type": "execute_result"
    }
   ],
   "source": [
    "from datetime import timedelta \n",
    "dir(timedelta)"
   ]
  },
  {
   "cell_type": "markdown",
   "metadata": {
    "id": "J3f63ukxzxLs"
   },
   "source": [
    "### **Crear objetos timedelta**\n",
    "Para crear este tipo de objetos, necesitamos los siguientes argumentos:\n",
    "* **Weeks**: Opcional. Defecto: Weeks = 0\n",
    "* **Days**: Opcional. Defecto: Day = 0\n",
    "* **Hours**: Opcional. Defecto: Hour = 0\n",
    "* **Minutes**: Opcional. Defecto: Minute = 0\n",
    "* **Seconds**: Opcional. Defecto: Second = 0\n",
    "* **Microseconds**: Opcional. Defecto: Microsecond = 0\n",
    "* **Miliseconds**: Opcional. Defecto: Microsecond = 0"
   ]
  },
  {
   "cell_type": "code",
   "execution_count": 19,
   "metadata": {
    "colab": {
     "base_uri": "https://localhost:8080/"
    },
    "id": "_XXF_NpYLk_r",
    "outputId": "fdf490c2-9124-4632-9b55-aabcab27c2ca"
   },
   "outputs": [
    {
     "name": "stdout",
     "output_type": "stream",
     "text": [
      "Diferencia = 14 days, 13:55:39\n"
     ]
    }
   ],
   "source": [
    "# --\n",
    "# Creamos un par de objetos timedelta y los restamos\n",
    "# --\n",
    "t1 = timedelta(weeks = 2, days = 5, hours = 1, seconds = 33)\n",
    "t2 = timedelta(days = 4, hours = 11, minutes = 4, seconds = 54)\n",
    "t3 = t1 - t2\n",
    "\n",
    "print(\"Diferencia =\", t3)"
   ]
  },
  {
   "cell_type": "markdown",
   "metadata": {
    "id": "d-BU7mQPuIj5"
   },
   "source": [
    "Para crear un objeto `timedelta` no hace falta inicalizarlo, pues basta con hacer una operación de resta como la siguiente."
   ]
  },
  {
   "cell_type": "code",
   "execution_count": 26,
   "metadata": {
    "colab": {
     "base_uri": "https://localhost:8080/"
    },
    "id": "PLK-LlUZLeLq",
    "outputId": "09fbe970-f568-4ac3-e478-e9b83f699693"
   },
   "outputs": [
    {
     "name": "stdout",
     "output_type": "stream",
     "text": [
      "t3 = 201 days, 0:00:00\n",
      "t6 = -333 days, 1:14:20\n",
      "Tipo de t3 = <class 'datetime.timedelta'>\n",
      "Tipo de t6 = <class 'datetime.timedelta'>\n"
     ]
    }
   ],
   "source": [
    "\n",
    "# --\n",
    "# Ejemplo de resta de fechas tipo date\n",
    "# --\n",
    "t1 = date(year = 2018, month = 7, day = 12)\n",
    "t2 = date(year = 2017, month = 12, day = 23)\n",
    "t3 = t1 - t2\n",
    "print(\"t3 =\", t3)\n",
    "\n",
    "t4 = datetime(year = 2018, month = 7, day = 12, hour = 7, minute = 9, second = 33)\n",
    "t5 = datetime(year = 2019, month = 6, day = 10, hour = 5, minute = 55, second = 13)\n",
    "t6 = t4 - t5\n",
    "print(\"t6 =\", t6)\n",
    "\n",
    "print(\"Tipo de t3 =\", type(t3)) \n",
    "print(\"Tipo de t6 =\", type(t6))  "
   ]
  },
  {
   "cell_type": "markdown",
   "metadata": {
    "id": "09J2YlvF0lKW"
   },
   "source": [
    "### Dias y segundos\n",
    "Para calcular el número de días o número de segundos transcurridos entre dos fechas, usamos el método `.days` o `.total_seconds`"
   ]
  },
  {
   "cell_type": "code",
   "execution_count": 30,
   "metadata": {
    "colab": {
     "base_uri": "https://localhost:8080/"
    },
    "id": "0VgTT-f2L40K",
    "outputId": "cec41c2a-ce8f-4b84-badc-7da6ca134040"
   },
   "outputs": [
    {
     "name": "stdout",
     "output_type": "stream",
     "text": [
      "Días en t: 5\n",
      "Segundos en t = 435633.233423\n",
      "Segundos en t = 5\n"
     ]
    }
   ],
   "source": [
    "# --\n",
    "# Si queremos saber el número de días en una variable timedelta\n",
    "# --\n",
    "t = timedelta(days = 5, hours = 1, seconds = 33, microseconds = 233423)\n",
    "print('Días en t:', t.days)\n",
    "\n",
    "# --\n",
    "# Si queremos saber el número de segundos en una variable timedelta\n",
    "# --\n",
    "t = timedelta(days = 5, hours = 1, seconds = 33, microseconds = 233423)\n",
    "print(\"Segundos en t =\", t.total_seconds())\n",
    "print(\"Dias en t =\", t.days)"
   ]
  },
  {
   "cell_type": "markdown",
   "metadata": {
    "id": "jr0wPybC2C99"
   },
   "source": [
    "# **Formatos asociados**\n",
    "La manera en la que la fecha y la hora es representada puede ser diferente dependiendo del lugar donde tomamos el dato. \\\n",
    "Para ello, usaremos los métodos `.strftime()` y `.strptime` para poder tratar este problema."
   ]
  },
  {
   "cell_type": "markdown",
   "metadata": {
    "id": "oKLupN5_32cI"
   },
   "source": [
    "## **Cambiar el formato de un datetime**\n",
    "Una vez que ya tenemos un objeto datetime, para mostrarlo por pantalla en diferentes formatos utilizaremos el comando `.strftime`.\n",
    "\n",
    "El input puede ser cualquiera de la lista que aparece en la documentación de este [link](https://www.programiz.com/python-programming/datetime/strftime)\n"
   ]
  },
  {
   "cell_type": "code",
   "execution_count": 31,
   "metadata": {
    "colab": {
     "base_uri": "https://localhost:8080/"
    },
    "id": "bvPxVTu1MG2e",
    "outputId": "4437b3c0-5224-454b-a78d-c82b47cd49a7"
   },
   "outputs": [
    {
     "name": "stdout",
     "output_type": "stream",
     "text": [
      "Hora actual: 10:57:53\n",
      "Fecha_1: 27/09/2022\n",
      "Fecha_2: 09-27-2022\n"
     ]
    }
   ],
   "source": [
    "# --\n",
    "# Veamos diferentes formas de expresar la fecha y hora actual\n",
    "# --\n",
    "ahora = datetime.now()\n",
    "\n",
    "# --\n",
    "# Únicamente la hora\n",
    "# --\n",
    "t = ahora.strftime(\"%H:%M:%S\")\n",
    "print(\"Hora actual:\", t)\n",
    "\n",
    "# --\n",
    "# Fecha en formato dd/mm/YY\n",
    "# --\n",
    "s1 = ahora.strftime(\"%d/%m/%Y\")\n",
    "print(\"Fecha_1:\", s1)\n",
    "\n",
    "# --\n",
    "# Fecha en formato mm-dd-YY\n",
    "# --\n",
    "s1 = ahora.strftime(\"%m-%d-%Y\")\n",
    "print(\"Fecha_2:\", s1)"
   ]
  },
  {
   "cell_type": "markdown",
   "metadata": {
    "id": "rjwMcplh4twq"
   },
   "source": [
    "## **Pasar de string a datetime**\n",
    "Desde casi cualquier formato conocido, se puede pasar a formato datetime con el comando `.strptime`."
   ]
  },
  {
   "cell_type": "code",
   "execution_count": 32,
   "metadata": {
    "colab": {
     "base_uri": "https://localhost:8080/"
    },
    "id": "jq4zh7BFM4x9",
    "outputId": "1567736a-e6f8-4e44-9363-8850a5573aa2"
   },
   "outputs": [
    {
     "name": "stdout",
     "output_type": "stream",
     "text": [
      "Fecha en string = 21 jun, 2018\n",
      "Objeto datetime = 2018-06-21 00:00:00\n"
     ]
    }
   ],
   "source": [
    "# --\n",
    "# Veamos un ejemplo complicado\n",
    "# --\n",
    "fecha_string = \"21 jun, 2018\" #<-- meses en inglés\n",
    "print(\"Fecha en string =\", fecha_string)\n",
    "\n",
    "fecha_datetime = datetime.strptime(fecha_string, \"%d %b, %Y\")\n",
    "print(\"Objeto datetime =\", fecha_datetime)"
   ]
  },
  {
   "cell_type": "markdown",
   "metadata": {
    "id": "ARr0mhsu6dSF"
   },
   "source": [
    "## **Zonas horarias**\n",
    "También podemos trabajar con diferentes zonas horarias. Para ello, usaremos el paquete `pytz` que tiene incorporado los siguientes usos horarios:"
   ]
  },
  {
   "cell_type": "code",
   "execution_count": 33,
   "metadata": {
    "colab": {
     "base_uri": "https://localhost:8080/"
    },
    "id": "j4-7S1C87MDO",
    "outputId": "4d282ea4-be47-4b92-a400-97f6f64e0a84",
    "scrolled": true
   },
   "outputs": [
    {
     "data": {
      "text/plain": [
       "['Africa/Abidjan', 'Africa/Accra', 'Africa/Addis_Ababa', 'Africa/Algiers', 'Africa/Asmara', 'Africa/Asmera', 'Africa/Bamako', 'Africa/Bangui', 'Africa/Banjul', 'Africa/Bissau', 'Africa/Blantyre', 'Africa/Brazzaville', 'Africa/Bujumbura', 'Africa/Cairo', 'Africa/Casablanca', 'Africa/Ceuta', 'Africa/Conakry', 'Africa/Dakar', 'Africa/Dar_es_Salaam', 'Africa/Djibouti', 'Africa/Douala', 'Africa/El_Aaiun', 'Africa/Freetown', 'Africa/Gaborone', 'Africa/Harare', 'Africa/Johannesburg', 'Africa/Juba', 'Africa/Kampala', 'Africa/Khartoum', 'Africa/Kigali', 'Africa/Kinshasa', 'Africa/Lagos', 'Africa/Libreville', 'Africa/Lome', 'Africa/Luanda', 'Africa/Lubumbashi', 'Africa/Lusaka', 'Africa/Malabo', 'Africa/Maputo', 'Africa/Maseru', 'Africa/Mbabane', 'Africa/Mogadishu', 'Africa/Monrovia', 'Africa/Nairobi', 'Africa/Ndjamena', 'Africa/Niamey', 'Africa/Nouakchott', 'Africa/Ouagadougou', 'Africa/Porto-Novo', 'Africa/Sao_Tome', 'Africa/Timbuktu', 'Africa/Tripoli', 'Africa/Tunis', 'Africa/Windhoek', 'America/Adak', 'America/Anchorage', 'America/Anguilla', 'America/Antigua', 'America/Araguaina', 'America/Argentina/Buenos_Aires', 'America/Argentina/Catamarca', 'America/Argentina/ComodRivadavia', 'America/Argentina/Cordoba', 'America/Argentina/Jujuy', 'America/Argentina/La_Rioja', 'America/Argentina/Mendoza', 'America/Argentina/Rio_Gallegos', 'America/Argentina/Salta', 'America/Argentina/San_Juan', 'America/Argentina/San_Luis', 'America/Argentina/Tucuman', 'America/Argentina/Ushuaia', 'America/Aruba', 'America/Asuncion', 'America/Atikokan', 'America/Atka', 'America/Bahia', 'America/Bahia_Banderas', 'America/Barbados', 'America/Belem', 'America/Belize', 'America/Blanc-Sablon', 'America/Boa_Vista', 'America/Bogota', 'America/Boise', 'America/Buenos_Aires', 'America/Cambridge_Bay', 'America/Campo_Grande', 'America/Cancun', 'America/Caracas', 'America/Catamarca', 'America/Cayenne', 'America/Cayman', 'America/Chicago', 'America/Chihuahua', 'America/Coral_Harbour', 'America/Cordoba', 'America/Costa_Rica', 'America/Creston', 'America/Cuiaba', 'America/Curacao', 'America/Danmarkshavn', 'America/Dawson', 'America/Dawson_Creek', 'America/Denver', 'America/Detroit', 'America/Dominica', 'America/Edmonton', 'America/Eirunepe', 'America/El_Salvador', 'America/Ensenada', 'America/Fort_Nelson', 'America/Fort_Wayne', 'America/Fortaleza', 'America/Glace_Bay', 'America/Godthab', 'America/Goose_Bay', 'America/Grand_Turk', 'America/Grenada', 'America/Guadeloupe', 'America/Guatemala', 'America/Guayaquil', 'America/Guyana', 'America/Halifax', 'America/Havana', 'America/Hermosillo', 'America/Indiana/Indianapolis', 'America/Indiana/Knox', 'America/Indiana/Marengo', 'America/Indiana/Petersburg', 'America/Indiana/Tell_City', 'America/Indiana/Vevay', 'America/Indiana/Vincennes', 'America/Indiana/Winamac', 'America/Indianapolis', 'America/Inuvik', 'America/Iqaluit', 'America/Jamaica', 'America/Jujuy', 'America/Juneau', 'America/Kentucky/Louisville', 'America/Kentucky/Monticello', 'America/Knox_IN', 'America/Kralendijk', 'America/La_Paz', 'America/Lima', 'America/Los_Angeles', 'America/Louisville', 'America/Lower_Princes', 'America/Maceio', 'America/Managua', 'America/Manaus', 'America/Marigot', 'America/Martinique', 'America/Matamoros', 'America/Mazatlan', 'America/Mendoza', 'America/Menominee', 'America/Merida', 'America/Metlakatla', 'America/Mexico_City', 'America/Miquelon', 'America/Moncton', 'America/Monterrey', 'America/Montevideo', 'America/Montreal', 'America/Montserrat', 'America/Nassau', 'America/New_York', 'America/Nipigon', 'America/Nome', 'America/Noronha', 'America/North_Dakota/Beulah', 'America/North_Dakota/Center', 'America/North_Dakota/New_Salem', 'America/Nuuk', 'America/Ojinaga', 'America/Panama', 'America/Pangnirtung', 'America/Paramaribo', 'America/Phoenix', 'America/Port-au-Prince', 'America/Port_of_Spain', 'America/Porto_Acre', 'America/Porto_Velho', 'America/Puerto_Rico', 'America/Punta_Arenas', 'America/Rainy_River', 'America/Rankin_Inlet', 'America/Recife', 'America/Regina', 'America/Resolute', 'America/Rio_Branco', 'America/Rosario', 'America/Santa_Isabel', 'America/Santarem', 'America/Santiago', 'America/Santo_Domingo', 'America/Sao_Paulo', 'America/Scoresbysund', 'America/Shiprock', 'America/Sitka', 'America/St_Barthelemy', 'America/St_Johns', 'America/St_Kitts', 'America/St_Lucia', 'America/St_Thomas', 'America/St_Vincent', 'America/Swift_Current', 'America/Tegucigalpa', 'America/Thule', 'America/Thunder_Bay', 'America/Tijuana', 'America/Toronto', 'America/Tortola', 'America/Vancouver', 'America/Virgin', 'America/Whitehorse', 'America/Winnipeg', 'America/Yakutat', 'America/Yellowknife', 'Antarctica/Casey', 'Antarctica/Davis', 'Antarctica/DumontDUrville', 'Antarctica/Macquarie', 'Antarctica/Mawson', 'Antarctica/McMurdo', 'Antarctica/Palmer', 'Antarctica/Rothera', 'Antarctica/South_Pole', 'Antarctica/Syowa', 'Antarctica/Troll', 'Antarctica/Vostok', 'Arctic/Longyearbyen', 'Asia/Aden', 'Asia/Almaty', 'Asia/Amman', 'Asia/Anadyr', 'Asia/Aqtau', 'Asia/Aqtobe', 'Asia/Ashgabat', 'Asia/Ashkhabad', 'Asia/Atyrau', 'Asia/Baghdad', 'Asia/Bahrain', 'Asia/Baku', 'Asia/Bangkok', 'Asia/Barnaul', 'Asia/Beirut', 'Asia/Bishkek', 'Asia/Brunei', 'Asia/Calcutta', 'Asia/Chita', 'Asia/Choibalsan', 'Asia/Chongqing', 'Asia/Chungking', 'Asia/Colombo', 'Asia/Dacca', 'Asia/Damascus', 'Asia/Dhaka', 'Asia/Dili', 'Asia/Dubai', 'Asia/Dushanbe', 'Asia/Famagusta', 'Asia/Gaza', 'Asia/Harbin', 'Asia/Hebron', 'Asia/Ho_Chi_Minh', 'Asia/Hong_Kong', 'Asia/Hovd', 'Asia/Irkutsk', 'Asia/Istanbul', 'Asia/Jakarta', 'Asia/Jayapura', 'Asia/Jerusalem', 'Asia/Kabul', 'Asia/Kamchatka', 'Asia/Karachi', 'Asia/Kashgar', 'Asia/Kathmandu', 'Asia/Katmandu', 'Asia/Khandyga', 'Asia/Kolkata', 'Asia/Krasnoyarsk', 'Asia/Kuala_Lumpur', 'Asia/Kuching', 'Asia/Kuwait', 'Asia/Macao', 'Asia/Macau', 'Asia/Magadan', 'Asia/Makassar', 'Asia/Manila', 'Asia/Muscat', 'Asia/Nicosia', 'Asia/Novokuznetsk', 'Asia/Novosibirsk', 'Asia/Omsk', 'Asia/Oral', 'Asia/Phnom_Penh', 'Asia/Pontianak', 'Asia/Pyongyang', 'Asia/Qatar', 'Asia/Qostanay', 'Asia/Qyzylorda', 'Asia/Rangoon', 'Asia/Riyadh', 'Asia/Saigon', 'Asia/Sakhalin', 'Asia/Samarkand', 'Asia/Seoul', 'Asia/Shanghai', 'Asia/Singapore', 'Asia/Srednekolymsk', 'Asia/Taipei', 'Asia/Tashkent', 'Asia/Tbilisi', 'Asia/Tehran', 'Asia/Tel_Aviv', 'Asia/Thimbu', 'Asia/Thimphu', 'Asia/Tokyo', 'Asia/Tomsk', 'Asia/Ujung_Pandang', 'Asia/Ulaanbaatar', 'Asia/Ulan_Bator', 'Asia/Urumqi', 'Asia/Ust-Nera', 'Asia/Vientiane', 'Asia/Vladivostok', 'Asia/Yakutsk', 'Asia/Yangon', 'Asia/Yekaterinburg', 'Asia/Yerevan', 'Atlantic/Azores', 'Atlantic/Bermuda', 'Atlantic/Canary', 'Atlantic/Cape_Verde', 'Atlantic/Faeroe', 'Atlantic/Faroe', 'Atlantic/Jan_Mayen', 'Atlantic/Madeira', 'Atlantic/Reykjavik', 'Atlantic/South_Georgia', 'Atlantic/St_Helena', 'Atlantic/Stanley', 'Australia/ACT', 'Australia/Adelaide', 'Australia/Brisbane', 'Australia/Broken_Hill', 'Australia/Canberra', 'Australia/Currie', 'Australia/Darwin', 'Australia/Eucla', 'Australia/Hobart', 'Australia/LHI', 'Australia/Lindeman', 'Australia/Lord_Howe', 'Australia/Melbourne', 'Australia/NSW', 'Australia/North', 'Australia/Perth', 'Australia/Queensland', 'Australia/South', 'Australia/Sydney', 'Australia/Tasmania', 'Australia/Victoria', 'Australia/West', 'Australia/Yancowinna', 'Brazil/Acre', 'Brazil/DeNoronha', 'Brazil/East', 'Brazil/West', 'CET', 'CST6CDT', 'Canada/Atlantic', 'Canada/Central', 'Canada/Eastern', 'Canada/Mountain', 'Canada/Newfoundland', 'Canada/Pacific', 'Canada/Saskatchewan', 'Canada/Yukon', 'Chile/Continental', 'Chile/EasterIsland', 'Cuba', 'EET', 'EST', 'EST5EDT', 'Egypt', 'Eire', 'Etc/GMT', 'Etc/GMT+0', 'Etc/GMT+1', 'Etc/GMT+10', 'Etc/GMT+11', 'Etc/GMT+12', 'Etc/GMT+2', 'Etc/GMT+3', 'Etc/GMT+4', 'Etc/GMT+5', 'Etc/GMT+6', 'Etc/GMT+7', 'Etc/GMT+8', 'Etc/GMT+9', 'Etc/GMT-0', 'Etc/GMT-1', 'Etc/GMT-10', 'Etc/GMT-11', 'Etc/GMT-12', 'Etc/GMT-13', 'Etc/GMT-14', 'Etc/GMT-2', 'Etc/GMT-3', 'Etc/GMT-4', 'Etc/GMT-5', 'Etc/GMT-6', 'Etc/GMT-7', 'Etc/GMT-8', 'Etc/GMT-9', 'Etc/GMT0', 'Etc/Greenwich', 'Etc/UCT', 'Etc/UTC', 'Etc/Universal', 'Etc/Zulu', 'Europe/Amsterdam', 'Europe/Andorra', 'Europe/Astrakhan', 'Europe/Athens', 'Europe/Belfast', 'Europe/Belgrade', 'Europe/Berlin', 'Europe/Bratislava', 'Europe/Brussels', 'Europe/Bucharest', 'Europe/Budapest', 'Europe/Busingen', 'Europe/Chisinau', 'Europe/Copenhagen', 'Europe/Dublin', 'Europe/Gibraltar', 'Europe/Guernsey', 'Europe/Helsinki', 'Europe/Isle_of_Man', 'Europe/Istanbul', 'Europe/Jersey', 'Europe/Kaliningrad', 'Europe/Kiev', 'Europe/Kirov', 'Europe/Lisbon', 'Europe/Ljubljana', 'Europe/London', 'Europe/Luxembourg', 'Europe/Madrid', 'Europe/Malta', 'Europe/Mariehamn', 'Europe/Minsk', 'Europe/Monaco', 'Europe/Moscow', 'Europe/Nicosia', 'Europe/Oslo', 'Europe/Paris', 'Europe/Podgorica', 'Europe/Prague', 'Europe/Riga', 'Europe/Rome', 'Europe/Samara', 'Europe/San_Marino', 'Europe/Sarajevo', 'Europe/Saratov', 'Europe/Simferopol', 'Europe/Skopje', 'Europe/Sofia', 'Europe/Stockholm', 'Europe/Tallinn', 'Europe/Tirane', 'Europe/Tiraspol', 'Europe/Ulyanovsk', 'Europe/Uzhgorod', 'Europe/Vaduz', 'Europe/Vatican', 'Europe/Vienna', 'Europe/Vilnius', 'Europe/Volgograd', 'Europe/Warsaw', 'Europe/Zagreb', 'Europe/Zaporozhye', 'Europe/Zurich', 'GB', 'GB-Eire', 'GMT', 'GMT+0', 'GMT-0', 'GMT0', 'Greenwich', 'HST', 'Hongkong', 'Iceland', 'Indian/Antananarivo', 'Indian/Chagos', 'Indian/Christmas', 'Indian/Cocos', 'Indian/Comoro', 'Indian/Kerguelen', 'Indian/Mahe', 'Indian/Maldives', 'Indian/Mauritius', 'Indian/Mayotte', 'Indian/Reunion', 'Iran', 'Israel', 'Jamaica', 'Japan', 'Kwajalein', 'Libya', 'MET', 'MST', 'MST7MDT', 'Mexico/BajaNorte', 'Mexico/BajaSur', 'Mexico/General', 'NZ', 'NZ-CHAT', 'Navajo', 'PRC', 'PST8PDT', 'Pacific/Apia', 'Pacific/Auckland', 'Pacific/Bougainville', 'Pacific/Chatham', 'Pacific/Chuuk', 'Pacific/Easter', 'Pacific/Efate', 'Pacific/Enderbury', 'Pacific/Fakaofo', 'Pacific/Fiji', 'Pacific/Funafuti', 'Pacific/Galapagos', 'Pacific/Gambier', 'Pacific/Guadalcanal', 'Pacific/Guam', 'Pacific/Honolulu', 'Pacific/Johnston', 'Pacific/Kanton', 'Pacific/Kiritimati', 'Pacific/Kosrae', 'Pacific/Kwajalein', 'Pacific/Majuro', 'Pacific/Marquesas', 'Pacific/Midway', 'Pacific/Nauru', 'Pacific/Niue', 'Pacific/Norfolk', 'Pacific/Noumea', 'Pacific/Pago_Pago', 'Pacific/Palau', 'Pacific/Pitcairn', 'Pacific/Pohnpei', 'Pacific/Ponape', 'Pacific/Port_Moresby', 'Pacific/Rarotonga', 'Pacific/Saipan', 'Pacific/Samoa', 'Pacific/Tahiti', 'Pacific/Tarawa', 'Pacific/Tongatapu', 'Pacific/Truk', 'Pacific/Wake', 'Pacific/Wallis', 'Pacific/Yap', 'Poland', 'Portugal', 'ROC', 'ROK', 'Singapore', 'Turkey', 'UCT', 'US/Alaska', 'US/Aleutian', 'US/Arizona', 'US/Central', 'US/East-Indiana', 'US/Eastern', 'US/Hawaii', 'US/Indiana-Starke', 'US/Michigan', 'US/Mountain', 'US/Pacific', 'US/Samoa', 'UTC', 'Universal', 'W-SU', 'WET', 'Zulu']"
      ]
     },
     "execution_count": 33,
     "metadata": {},
     "output_type": "execute_result"
    }
   ],
   "source": [
    "import pytz\n",
    "pytz.all_timezones"
   ]
  },
  {
   "cell_type": "code",
   "execution_count": 34,
   "metadata": {
    "colab": {
     "base_uri": "https://localhost:8080/"
    },
    "id": "HxwEV2OEM-KM",
    "outputId": "435fa3d7-b0d7-4ff7-b702-a3fe4873b519"
   },
   "outputs": [
    {
     "name": "stdout",
     "output_type": "stream",
     "text": [
      "Local: 27/09/2022, 10:59:10\n",
      "NY: 27/09/2022, 10:59:10\n",
      "Madrid: 27/09/2022, 16:59:10\n"
     ]
    }
   ],
   "source": [
    "# --\n",
    "# Ejemplos de cómo usarlo\n",
    "# --\n",
    "\n",
    "# --\n",
    "# Fecha actual local\n",
    "# --\n",
    "local = datetime.now()\n",
    "print(\"Local:\", local.strftime(\"%d/%m/%Y, %H:%M:%S\"))\n",
    "\n",
    "# --\n",
    "# Fecha actual para America/New_York\n",
    "# --\n",
    "tz_NY = pytz.timezone('America/New_York') \n",
    "datetime_NY = datetime.now(tz_NY)\n",
    "print(\"NY:\", datetime_NY.strftime(\"%d/%m/%Y, %H:%M:%S\"))\n",
    "\n",
    "# --\n",
    "# Fecha actual para Europe/London\n",
    "# --\n",
    "tz_Madrid = pytz.timezone('Europe/Madrid')\n",
    "datetime_Madrid = datetime.now(tz_Madrid)\n",
    "print(\"Madrid:\", datetime_Madrid.strftime(\"%d/%m/%Y, %H:%M:%S\"))"
   ]
  }
 ],
 "metadata": {
  "colab": {
   "collapsed_sections": [],
   "name": "Tratamiento de fechas.ipynb",
   "provenance": [],
   "toc_visible": true
  },
  "kernelspec": {
   "display_name": "Python 3.9.12 ('base')",
   "language": "python",
   "name": "python3"
  },
  "language_info": {
   "codemirror_mode": {
    "name": "ipython",
    "version": 3
   },
   "file_extension": ".py",
   "mimetype": "text/x-python",
   "name": "python",
   "nbconvert_exporter": "python",
   "pygments_lexer": "ipython3",
   "version": "3.9.12"
  },
  "vscode": {
   "interpreter": {
    "hash": "ad2bdc8ecc057115af97d19610ffacc2b4e99fae6737bb82f5d7fb13d2f2c186"
   }
  }
 },
 "nbformat": 4,
 "nbformat_minor": 1
}
