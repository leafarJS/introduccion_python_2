{
 "cells": [
  {
   "cell_type": "markdown",
   "metadata": {},
   "source": [
    "# Introducción a Python - Estructuras de datos"
   ]
  },
  {
   "cell_type": "markdown",
   "metadata": {},
   "source": [
    "En este apartado vamos a revisar las estructuras de datos (colecciones) básicas de Python, sus propiedades y las operaciones básicas que se pueden realizar con y sobre ellos. En concreto, en Python tenemos tres estructuras básicas de datos.\n",
    "\n",
    "<ul>\n",
    "<li>Secuencias</li>\n",
    "<li>Diccionarios</li>\n",
    "<li>Conjuntos</li>\n",
    "</ul>\n"
   ]
  },
  {
   "cell_type": "markdown",
   "metadata": {},
   "source": [
    "## Secuencias"
   ]
  },
  {
   "cell_type": "markdown",
   "metadata": {},
   "source": [
    "Una secuencia es un listado unidimensional y ordenado de valores que pueden ser de cualquier tipo, incluso otras estructuras de datos anidadas. Existen tres tipos bien diferenciados\n",
    "\n",
    "<ul>\n",
    "<li>Tuplas: listados inmutables.</li>\n",
    "<li>Listas: listados ordenados mutables.</li>\n",
    "<li>Cadenas de caracteres: inmutables y cuyos elementos son siempre caracteres.</li>\n",
    "</ul>\n",
    "\n",
    "Casi todas las operaciones disponibles se pueden aplicar sobre cualquier tipo de secuencia (excepto las que implican modificación que, lógicamente, sólo se pueden aplicar sobre listas)."
   ]
  },
  {
   "cell_type": "markdown",
   "metadata": {},
   "source": [
    "##### <b>Creación de secuencias</b>"
   ]
  },
  {
   "cell_type": "code",
   "execution_count": 7,
   "metadata": {},
   "outputs": [],
   "source": [
    "tupla = (1, 2, 3, 4) # listado inmutable\n",
    "lista = [1, 2, 3, 4] # listado mutable\n",
    "cadena = \"esto es una cadena\""
   ]
  },
  {
   "cell_type": "code",
   "execution_count": 8,
   "metadata": {},
   "outputs": [
    {
     "data": {
      "text/plain": [
       "1"
      ]
     },
     "execution_count": 8,
     "metadata": {},
     "output_type": "execute_result"
    }
   ],
   "source": [
    "tupla[0]"
   ]
  },
  {
   "cell_type": "code",
   "execution_count": 9,
   "metadata": {},
   "outputs": [
    {
     "ename": "TypeError",
     "evalue": "'tuple' object does not support item assignment",
     "output_type": "error",
     "traceback": [
      "\u001b[1;31m---------------------------------------------------------------------------\u001b[0m",
      "\u001b[1;31mTypeError\u001b[0m                                 Traceback (most recent call last)",
      "\u001b[1;32mc:\\Users\\Administrador\\Desktop\\python_bd\\1.python_básico\\2.Estructuras de datos.ipynb Celda 8\u001b[0m in \u001b[0;36m<cell line: 1>\u001b[1;34m()\u001b[0m\n\u001b[1;32m----> <a href='vscode-notebook-cell:/c%3A/Users/Administrador/Desktop/python_bd/1.python_b%C3%A1sico/2.Estructuras%20de%20datos.ipynb#X10sZmlsZQ%3D%3D?line=0'>1</a>\u001b[0m tupla[\u001b[39m0\u001b[39m] \u001b[39m=\u001b[39m \u001b[39m3\u001b[39m\n",
      "\u001b[1;31mTypeError\u001b[0m: 'tuple' object does not support item assignment"
     ]
    }
   ],
   "source": [
    "tupla[0] = 3 # no se puede realizar por qué es inmutable"
   ]
  },
  {
   "cell_type": "code",
   "execution_count": 10,
   "metadata": {},
   "outputs": [
    {
     "data": {
      "text/plain": [
       "2"
      ]
     },
     "execution_count": 10,
     "metadata": {},
     "output_type": "execute_result"
    }
   ],
   "source": [
    "lista[0] = 2\n",
    "lista[0]"
   ]
  },
  {
   "cell_type": "code",
   "execution_count": 11,
   "metadata": {},
   "outputs": [
    {
     "data": {
      "text/plain": [
       "'t'"
      ]
     },
     "execution_count": 11,
     "metadata": {},
     "output_type": "execute_result"
    }
   ],
   "source": [
    "cadena[2]"
   ]
  },
  {
   "cell_type": "code",
   "execution_count": 12,
   "metadata": {},
   "outputs": [
    {
     "ename": "TypeError",
     "evalue": "'str' object does not support item assignment",
     "output_type": "error",
     "traceback": [
      "\u001b[1;31m---------------------------------------------------------------------------\u001b[0m",
      "\u001b[1;31mTypeError\u001b[0m                                 Traceback (most recent call last)",
      "\u001b[1;32mc:\\Users\\Administrador\\Desktop\\python_bd\\1.python_básico\\2.Estructuras de datos.ipynb Celda 11\u001b[0m in \u001b[0;36m<cell line: 1>\u001b[1;34m()\u001b[0m\n\u001b[1;32m----> <a href='vscode-notebook-cell:/c%3A/Users/Administrador/Desktop/python_bd/1.python_b%C3%A1sico/2.Estructuras%20de%20datos.ipynb#X13sZmlsZQ%3D%3D?line=0'>1</a>\u001b[0m cadena[\u001b[39m2\u001b[39m] \u001b[39m=\u001b[39m \u001b[39m\"\u001b[39m\u001b[39ma\u001b[39m\u001b[39m\"\u001b[39m\n",
      "\u001b[1;31mTypeError\u001b[0m: 'str' object does not support item assignment"
     ]
    }
   ],
   "source": [
    "cadena[2] = \"a\" # no se puede cambiar por unidad debe ser el cambio total de la cadena"
   ]
  },
  {
   "cell_type": "markdown",
   "metadata": {},
   "source": [
    "###### <b>Conversión/casting entre tipos de secuencia</b>"
   ]
  },
  {
   "cell_type": "code",
   "execution_count": 15,
   "metadata": {},
   "outputs": [],
   "source": [
    "tupla = (1, 2, 3, 4, 5, 6, 7, 8, 9, 10, 11, 12)\n",
    "lista = [1, 2, 3, 4, 5, 6, 7, 8, 9, 10, 11, 12]\n",
    "cadena = \"esto es una cadena\"\n",
    "\n",
    "tupla = tuple(lista)\n",
    "lista = list(tupla)\n",
    "cadena_1 = tuple(cadena)\n"
   ]
  },
  {
   "cell_type": "code",
   "execution_count": 17,
   "metadata": {},
   "outputs": [
    {
     "name": "stdout",
     "output_type": "stream",
     "text": [
      "(1, 2, 3, 4, 5, 6, 7, 8, 9, 10, 11, 12)\n",
      "[1, 2, 3, 4, 5, 6, 7, 8, 9, 10, 11, 12]\n",
      "esto es una cadena\n",
      "<class 'tuple'>\n",
      "<class 'list'>\n",
      "<class 'str'>\n"
     ]
    }
   ],
   "source": [
    "print (tupla)\n",
    "print (lista)\n",
    "print (cadena)\n",
    "\n",
    "print (type(tupla))\n",
    "print (type(lista))\n",
    "print (type(cadena))"
   ]
  },
  {
   "cell_type": "markdown",
   "metadata": {},
   "source": [
    "###### Creación de secuencias anidadas"
   ]
  },
  {
   "cell_type": "code",
   "execution_count": 18,
   "metadata": {},
   "outputs": [
    {
     "name": "stdout",
     "output_type": "stream",
     "text": [
      "(1, 2, (3, 4), [1, 2, 3])\n",
      "[1, 2, 3, [4, 5], 'prueba', (1, 2, 3)]\n"
     ]
    }
   ],
   "source": [
    "tupla = (1, 2, (3, 4), [1, 2, 3])\n",
    "lista = [1, 2, 3, [4, 5], \"prueba\", (1, 2, 3)]\n",
    "print (tupla)\n",
    "print (lista)"
   ]
  },
  {
   "cell_type": "markdown",
   "metadata": {},
   "source": [
    "###### Concatenación de secuencias"
   ]
  },
  {
   "cell_type": "code",
   "execution_count": 19,
   "metadata": {},
   "outputs": [
    {
     "name": "stdout",
     "output_type": "stream",
     "text": [
      "(1, 2, 3, 4, 5, 6, 7, 8, 9, 10, 11, 12, 5, 6, 7, 8)\n",
      "[1, 2, 3, 4, 5, 6, 7, 8, 9, 10, 11, 12, 5, 6, 7, 8]\n",
      "esto es otra cadena\n"
     ]
    }
   ],
   "source": [
    "tupla = (1, 2, 3, 4, 5, 6, 7, 8, 9, 10, 11, 12)\n",
    "lista = [1, 2, 3, 4, 5, 6, 7, 8, 9, 10, 11, 12]\n",
    "cadena = \"esto es una cadena\"\n",
    "\n",
    "tupla_1 = (5, 6, 7, 8)\n",
    "lista_1 = [5, 6, 7, 8]\n",
    "cadena_2 = \"esto es otra cadena\"\n",
    "\n",
    "tupla_2 = tupla + tupla_1\n",
    "lista_2 = lista + lista_1\n",
    "cadena = cadena + cadena_2\n",
    "\n",
    "print (tupla_2)\n",
    "print (lista_2)\n",
    "print (cadena_2)"
   ]
  },
  {
   "cell_type": "markdown",
   "metadata": {},
   "source": [
    "###### Multiplicación de secuencias por enteros"
   ]
  },
  {
   "cell_type": "code",
   "execution_count": 25,
   "metadata": {},
   "outputs": [
    {
     "name": "stdout",
     "output_type": "stream",
     "text": [
      "[1, 2, 3, 1, 2, 3]\n"
     ]
    }
   ],
   "source": [
    "lista = [1, 2, 3]\n",
    "lista_1 = lista * 2 # cuando multiplico la lista por un valor repite el contenido las veces que se solicita solo funciona con ese operador \n",
    "print (lista_1)\n"
   ]
  },
  {
   "cell_type": "code",
   "execution_count": 27,
   "metadata": {},
   "outputs": [
    {
     "name": "stdout",
     "output_type": "stream",
     "text": [
      "('hola', 'mundo', 'hola', 'mundo')\n",
      "prueba prueba \n"
     ]
    }
   ],
   "source": [
    "\n",
    "tupla = (\"hola\", \"mundo\")\n",
    "tupla_1 = tupla * 2\n",
    "print (tupla_1)\n",
    "\n",
    "\n",
    "cadena = \"prueba \"\n",
    "cadena_1 = cadena * 2\n",
    "print (cadena_1)"
   ]
  },
  {
   "cell_type": "markdown",
   "metadata": {},
   "source": [
    "##### Comprobación de si un elemento existe en la secuencia"
   ]
  },
  {
   "cell_type": "code",
   "execution_count": 28,
   "metadata": {},
   "outputs": [
    {
     "name": "stdout",
     "output_type": "stream",
     "text": [
      "True\n",
      "False\n",
      "True\n",
      "False\n",
      "True\n",
      "True\n"
     ]
    }
   ],
   "source": [
    "tupla = (1, 2, 3, 4, 5, 6, 7, 8, 9, 10, 11, 12)\n",
    "lista = [1, 2, 3, 4, 5, 6, 7, 8, 9, 10, 11, 12]\n",
    "cadena = \"esto es una cadena\"\n",
    "\n",
    "print (4 in tupla)\n",
    "print (5 not in tupla)\n",
    "print (4 in lista)\n",
    "print (5 not in lista)\n",
    "print (\"e\" in cadena)\n",
    "print (\"z\" not in cadena)"
   ]
  },
  {
   "cell_type": "markdown",
   "metadata": {},
   "source": [
    "##### Acceso a un elemento de la secuencia por posición (índice positivo)"
   ]
  },
  {
   "cell_type": "code",
   "execution_count": 30,
   "metadata": {},
   "outputs": [
    {
     "name": "stdout",
     "output_type": "stream",
     "text": [
      "1\n",
      "4\n",
      "e\n"
     ]
    }
   ],
   "source": [
    "tupla = (1, 2, 3, 4, 5, 6, 7, 8, 9, 10, 11, 12)\n",
    "lista = [1, 2, 3, 4, 5, 6, 7, 8, 9, 10, 11, 12]\n",
    "cadena = \"esto es una cadena\"\n",
    "\n",
    "print (tupla[0])\n",
    "print (lista[3])\n",
    "print (cadena[5])"
   ]
  },
  {
   "cell_type": "markdown",
   "metadata": {},
   "source": [
    "##### Acceso a un elemento de la secuencia por posición (índice negativo)"
   ]
  },
  {
   "cell_type": "code",
   "execution_count": 31,
   "metadata": {},
   "outputs": [
    {
     "name": "stdout",
     "output_type": "stream",
     "text": [
      "12\n",
      "10\n",
      "a\n"
     ]
    }
   ],
   "source": [
    "tupla = (1, 2, 3, 4, 5, 6, 7, 8, 9, 10, 11, 12)\n",
    "lista = [1, 2, 3, 4, 5, 6, 7, 8, 9, 10, 11, 12]\n",
    "cadena = \"esto es una cadena\"\n",
    "\n",
    "#ya no empieza por 0\n",
    "print (tupla[-1])\n",
    "print (lista[-3])\n",
    "print (cadena[-5])"
   ]
  },
  {
   "cell_type": "markdown",
   "metadata": {},
   "source": [
    "##### Slicing de secuencias"
   ]
  },
  {
   "cell_type": "markdown",
   "metadata": {},
   "source": [
    "<ul>\n",
    "<li>Selección (mediante copia, no referencia) de un conjunto ordenado de elementos de una secuencia.</li>\n",
    "<li>Se realiza mediante la notación secuencia[a:b:c]. Donde:\n",
    "<ul>\n",
    "<li>a: Índice del primer elemento a extrar (en base 0). Si se omite se extrae desde el principio de la secuencia.</li>\n",
    "<li>b: Índice del primero elemento que NO se extrae (en base 0). Si se omite se extrae hasta el final de la secuencia.</li>\n",
    "<li>c: Tamaño del salto a aplicar en la extracción. Si se omite se asume 1.\n",
    "</ul>\n",
    "</ul>"
   ]
  },
  {
   "cell_type": "code",
   "execution_count": 41,
   "metadata": {},
   "outputs": [
    {
     "name": "stdout",
     "output_type": "stream",
     "text": [
      "(0, 1, 2, 3, 4, 5, 6, 7, 8, 9, 10, 11, 12)\n",
      "(2, 3, 4, 5, 6, 7, 8, 9, 10, 11, 12)\n",
      "(12, 8, 4, 0)\n",
      "(0, 2, 4, 6, 8, 10, 12)\n",
      "[0, 1, 2, 3]\n",
      "[2, 3]\n",
      "[12, 8, 4, 0]\n",
      "[0, 2, 4, 6, 8, 10, 12]\n",
      "esto\n",
      "esto es una cad\n",
      "aanes\n",
      "et suacdn\n"
     ]
    }
   ],
   "source": [
    "tupla = (0, 1, 2, 3, 4, 5, 6, 7, 8, 9, 10, 11, 12)\n",
    "lista = [0, 1, 2, 3, 4, 5, 6, 7, 8, 9, 10, 11, 12]\n",
    "cadena = \"esto es una cadena\"\n",
    "\n",
    "print (tupla[:]) # sin valores devuelve la tupla completa\n",
    "print (tupla[2:]) # desde la segunda posición hasta el final\n",
    "print (tupla[::-4]) # en reversa de la tupla con intervalos de -4\n",
    "print (tupla[::2]) # contenido de la tupla con intervalos de 2\n",
    "\n",
    "print (lista[:4]) # desde 0 hasta el indice que se indica\n",
    "print (lista[2:4]) # desde se indica hasta el indice que se indica\n",
    "print (lista[::-4]) # en reversa de la lista con intervalos de -4\n",
    "print (lista[::2]) # contenido de la lista con intervalos de 2\n",
    "\n",
    "print( cadena[:4]) #desde 0 hasta la posición indicada\n",
    "print (cadena[:-3]) #desde el final hasta la posición indicada\n",
    "print(cadena[::-4]) # en reversa de la cadena con intervalos de -4\n",
    "print(cadena[::2]) # contenido de la cadena con intervalos de 2\n"
   ]
  },
  {
   "cell_type": "code",
   "execution_count": 43,
   "metadata": {},
   "outputs": [
    {
     "name": "stdout",
     "output_type": "stream",
     "text": [
      "[0, 1, 2, 3, 4, 5, 6, 7, 8, 9, 10, 11, 12]\n",
      "[25, 1, 2]\n"
     ]
    }
   ],
   "source": [
    "lista = [0, 1, 2, 3, 4, 5, 6, 7, 8, 9, 10, 11, 12]\n",
    "lista_1 = lista[:3]\n",
    "lista_1[0] = 25\n",
    "print (lista)\n",
    "print (lista_1)"
   ]
  },
  {
   "cell_type": "markdown",
   "metadata": {},
   "source": [
    "##### Longitud de secuencias"
   ]
  },
  {
   "cell_type": "code",
   "execution_count": 44,
   "metadata": {},
   "outputs": [
    {
     "name": "stdout",
     "output_type": "stream",
     "text": [
      "13\n",
      "13\n",
      "18\n"
     ]
    }
   ],
   "source": [
    "tupla = (0, 1, 2, 3, 4, 5, 6, 7, 8, 9, 10, 11, 12)\n",
    "lista = [0, 1, 2, 3, 4, 5, 6, 7, 8, 9, 10, 11, 12]\n",
    "cadena = \"esto es una cadena\"\n",
    "\n",
    "print (len(tupla))\n",
    "print (len(lista))\n",
    "print (len(cadena))"
   ]
  },
  {
   "cell_type": "markdown",
   "metadata": {},
   "source": [
    "##### Obtención del número de repeticiones de un elemento"
   ]
  },
  {
   "cell_type": "code",
   "execution_count": 55,
   "metadata": {},
   "outputs": [
    {
     "name": "stdout",
     "output_type": "stream",
     "text": [
      "10\n",
      "9\n",
      "3\n"
     ]
    }
   ],
   "source": [
    "tupla = (0, 0, 1, 1, 1, 1, 1, 1, 1, 1, 1, 1,2, 3, 4, 5, 6, 7, 8, 9, 10, 11, 12)\n",
    "lista = [0, 0, 1, 1, 1, 1, 1, 1, 1, 1, 1,2, 3, 4, 5, 6, 7, 8, 9, 10, 11, 12]\n",
    "cadena = \"esto es una cadena\"\n",
    "\n",
    "print (tupla.count(1))\n",
    "print (lista.count(1))\n",
    "print (cadena.count(\"e\"))"
   ]
  },
  {
   "cell_type": "code",
   "execution_count": 54,
   "metadata": {},
   "outputs": [
    {
     "name": "stdout",
     "output_type": "stream",
     "text": [
      "4\n",
      "4\n",
      "10\n"
     ]
    }
   ],
   "source": [
    "tupla = (0, 1, 2, 3, 4, 5, 6, 7, 8, 9, 10, 11, 12)\n",
    "lista = [0, 1, 2, 3, 4, 5, 6, 7, 8, 9, 10, 11, 12]\n",
    "cadena = \"esto es una cadena\"\n",
    "\n",
    "print (tupla.index(4))\n",
    "print (lista.index(4))\n",
    "print (cadena.index(\"a\"))"
   ]
  },
  {
   "cell_type": "markdown",
   "metadata": {},
   "source": [
    "### Extracción de elemento de una tupla para asignarle a una variable"
   ]
  },
  {
   "cell_type": "code",
   "execution_count": 57,
   "metadata": {},
   "outputs": [
    {
     "name": "stdout",
     "output_type": "stream",
     "text": [
      "10 100 1000 10000\n",
      "10\n",
      "100\n",
      "1000\n",
      "10000\n",
      "10000000000\n"
     ]
    }
   ],
   "source": [
    "tupla = (10,100,1000,10000)\n",
    "a, b, c, d = tupla\n",
    "print(a, b, c, d)\n",
    "print(a)\n",
    "print(b)\n",
    "print(c)\n",
    "print(d)\n",
    "\n",
    "operacion = b ** 5\n",
    "print(operacion)\n",
    "\n"
   ]
  },
  {
   "cell_type": "markdown",
   "metadata": {},
   "source": [
    "##### Mezcla ordenada de secuencias"
   ]
  },
  {
   "cell_type": "code",
   "execution_count": 53,
   "metadata": {},
   "outputs": [
    {
     "name": "stdout",
     "output_type": "stream",
     "text": [
      "[(1, 'uno'), (2, 'dos'), (3, 'tres'), (4, 'cuatro'), (5, 'cinco')]\n"
     ]
    }
   ],
   "source": [
    "tupla = (1, 2, 3, 4, 5)\n",
    "lista = [\"uno\", \"dos\", \"tres\", \"cuatro\", \"cinco\"]\n",
    "tupla_lista = zip(tupla, lista)\n",
    "print (list(tupla_lista))"
   ]
  },
  {
   "cell_type": "markdown",
   "metadata": {},
   "source": [
    "##### Creación de secuencias numéricas"
   ]
  },
  {
   "cell_type": "code",
   "execution_count": 58,
   "metadata": {},
   "outputs": [
    {
     "name": "stdout",
     "output_type": "stream",
     "text": [
      "<class 'range'>\n",
      "range(0, 10)\n"
     ]
    }
   ],
   "source": [
    "lista = range(10)\n",
    "print(type(lista))\n",
    "print (lista)"
   ]
  },
  {
   "cell_type": "code",
   "execution_count": 59,
   "metadata": {
    "scrolled": true
   },
   "outputs": [
    {
     "name": "stdout",
     "output_type": "stream",
     "text": [
      "[0, 1, 2, 3, 4, 5, 6, 7, 8, 9]\n"
     ]
    }
   ],
   "source": [
    "lista = range(10)\n",
    "print (list(lista))"
   ]
  },
  {
   "cell_type": "code",
   "execution_count": 61,
   "metadata": {},
   "outputs": [
    {
     "name": "stdout",
     "output_type": "stream",
     "text": [
      "[2, 4, 6, 8]\n",
      "[1, 3, 5, 7, 9]\n"
     ]
    }
   ],
   "source": [
    "lista = range(2, 10, 2)\n",
    "print (list(lista))\n",
    "\n",
    "lista_1 = range(1, 10, 2)\n",
    "print (list(lista_1))"
   ]
  },
  {
   "cell_type": "markdown",
   "metadata": {},
   "source": [
    "#### Adición de elementos a una lista (por el final) - SÓLO LISTAS"
   ]
  },
  {
   "cell_type": "code",
   "execution_count": 62,
   "metadata": {},
   "outputs": [
    {
     "name": "stdout",
     "output_type": "stream",
     "text": [
      "['uno', 'dos', 'tres']\n"
     ]
    }
   ],
   "source": [
    "lista = [\"uno\", \"dos\"]\n",
    "lista.append(\"tres\")\n",
    "print (lista)"
   ]
  },
  {
   "cell_type": "markdown",
   "metadata": {},
   "source": [
    "#### Inserción un elemento en una posición específica - SÓLO LISTAS"
   ]
  },
  {
   "cell_type": "code",
   "execution_count": 63,
   "metadata": {},
   "outputs": [
    {
     "name": "stdout",
     "output_type": "stream",
     "text": [
      "['uno', 'dos', 'tres']\n"
     ]
    }
   ],
   "source": [
    "lista = [\"dos\", \"tres\"]\n",
    "lista.insert(0, \"uno\")\n",
    "print (lista)"
   ]
  },
  {
   "cell_type": "markdown",
   "metadata": {},
   "source": [
    "##### Asignación de valor a un slice - SÓLO LISTAS"
   ]
  },
  {
   "cell_type": "code",
   "execution_count": 67,
   "metadata": {},
   "outputs": [
    {
     "name": "stdout",
     "output_type": "stream",
     "text": [
      "[0, 0, 1, 1, 0, 0]\n"
     ]
    }
   ],
   "source": [
    "lista = [0, 0, 3, 4, 0, 0]\n",
    "lista[2:4] = [1, 1]\n",
    "print (lista)"
   ]
  },
  {
   "cell_type": "code",
   "execution_count": 68,
   "metadata": {},
   "outputs": [
    {
     "name": "stdout",
     "output_type": "stream",
     "text": [
      "[0, 0, 1, 1, 0]\n"
     ]
    }
   ],
   "source": [
    "lista[2:5] = [1, 1]\n",
    "print (lista)"
   ]
  },
  {
   "cell_type": "markdown",
   "metadata": {},
   "source": [
    "### Recuperar un elemento de la lista"
   ]
  },
  {
   "cell_type": "code",
   "execution_count": 70,
   "metadata": {},
   "outputs": [
    {
     "name": "stdout",
     "output_type": "stream",
     "text": [
      "5\n"
     ]
    }
   ],
   "source": [
    "lista = [1,2,3,4,5,6,7,8,9,10,11,12]\n",
    "lista_1 = lista.pop(4)\n",
    "print(lista_1)\n"
   ]
  },
  {
   "cell_type": "markdown",
   "metadata": {},
   "source": [
    "#### Eliminación del primer elemento coincidente - SÓLO LISTAS"
   ]
  },
  {
   "cell_type": "code",
   "execution_count": 71,
   "metadata": {},
   "outputs": [
    {
     "name": "stdout",
     "output_type": "stream",
     "text": [
      "[1, 2, 3, 6, 7, 8, 9]\n"
     ]
    }
   ],
   "source": [
    "# eliminación por valor \n",
    "lista = [1, 2, 3, [4, 5], 6, 7, 8, 9, 0]\n",
    "lista.remove([4, 5])\n",
    "lista.remove(0)\n",
    "print (lista)"
   ]
  },
  {
   "cell_type": "markdown",
   "metadata": {},
   "source": [
    "##### Eliminación de elementos - SÓLO LISTAS"
   ]
  },
  {
   "cell_type": "code",
   "execution_count": 72,
   "metadata": {},
   "outputs": [
    {
     "name": "stdout",
     "output_type": "stream",
     "text": [
      "[1, 2, 4, 5]\n"
     ]
    }
   ],
   "source": [
    "#eliminación por indice\n",
    "lista = [1, 2, 3, 4, 5, 6, 7, 8, 9, 10, 11, 12]\n",
    "del lista[2]\n",
    "print (lista)"
   ]
  },
  {
   "cell_type": "markdown",
   "metadata": {},
   "source": [
    "##### Ordenación de elementos - SÓLO LISTAS"
   ]
  },
  {
   "cell_type": "code",
   "execution_count": 74,
   "metadata": {},
   "outputs": [
    {
     "name": "stdout",
     "output_type": "stream",
     "text": [
      "[1, 2, 3, 4, 5, 7, 9, 10, 11, 14, 18, 20]\n",
      "[20, 18, 14, 11, 10, 9, 7, 5, 4, 3, 2, 1]\n"
     ]
    }
   ],
   "source": [
    "lista = [1, 3, 4, 2, 5, 9 ,7, 10, 14, 11, 18, 20]\n",
    "lista.sort()\n",
    "print(lista)\n",
    "\n",
    "lista.sort(reverse=True)\n",
    "print(lista)"
   ]
  },
  {
   "cell_type": "markdown",
   "metadata": {},
   "source": [
    "##### Recuperación inversa de elementos - SÓLO LISTAS"
   ]
  },
  {
   "cell_type": "code",
   "execution_count": 75,
   "metadata": {},
   "outputs": [
    {
     "name": "stdout",
     "output_type": "stream",
     "text": [
      "[20, 18, 11, 14, 10, 7, 9, 5, 2, 4, 3, 1]\n"
     ]
    }
   ],
   "source": [
    "lista = [1, 3, 4, 2, 5, 9 ,7, 10, 14, 11, 18, 20]\n",
    "lista.reverse()\n",
    "print(lista)"
   ]
  },
  {
   "cell_type": "markdown",
   "metadata": {},
   "source": [
    "##### Fusionar listas - SOLO LISTAS"
   ]
  },
  {
   "cell_type": "code",
   "execution_count": 78,
   "metadata": {},
   "outputs": [
    {
     "name": "stdout",
     "output_type": "stream",
     "text": [
      "[0, 0, 0, 0, 0, 1, 1, 1, 1, 1]\n",
      "[1, 1, 1, 1, 1, 0, 0, 0, 0, 0]\n"
     ]
    }
   ],
   "source": [
    "lista = [1,1,1,1,1]\n",
    "lista_1 = [0,0,0,0,0]\n",
    "\n",
    "lista_1.extend(lista)\n",
    "\n",
    "lista_2 = [1,1,1,1,1]\n",
    "lista_3 = [0,0,0,0,0]\n",
    "\n",
    "lista_2.extend(lista_3)\n",
    "\n",
    "print(lista_1)\n",
    "print(lista_2)"
   ]
  },
  {
   "cell_type": "code",
   "execution_count": 80,
   "metadata": {},
   "outputs": [
    {
     "name": "stdout",
     "output_type": "stream",
     "text": [
      "[1, 3, 4, 2, 5, 7, 8, 9, 10, 100]\n"
     ]
    }
   ],
   "source": [
    "lista = [1, 3, 4, 2, 5]\n",
    "lista_1 = [7, 8, 9, 10, 100]\n",
    "lista_final = lista + lista_1\n",
    "print(lista_final)"
   ]
  },
  {
   "cell_type": "markdown",
   "metadata": {},
   "source": [
    "##### Conversión a mayúsculas/minúsculas - SÓLO CADENAS"
   ]
  },
  {
   "cell_type": "code",
   "execution_count": 83,
   "metadata": {},
   "outputs": [
    {
     "name": "stdout",
     "output_type": "stream",
     "text": [
      "LOREM IPSUM DOLOR SIT AMET, CONSECTETUR ADIPISCING ELIT, SED DO EIUSMOD TEMPOR INCIDIDUNT UT LABORE ET DOLORE MAGNA ALIQUA. UT ENIM AD MINIM VENIAM, QUIS NOSTRUD EXERCITATION ULLAMCO LABORIS NISI UT ALIQUIP EX EA COMMODO CONSEQUAT. DUIS AUTE IRURE DOLOR IN REPREHENDERIT IN VOLUPTATE VELIT ESSE CILLUM DOLORE EU FUGIAT NULLA PARIATUR. EXCEPTEUR SINT OCCAECAT CUPIDATAT NON PROIDENT, SUNT IN CULPA QUI OFICIA DESERUNT MOLLIT ANIM ID EST LABORUM.\n",
      "lorem ipsum dolor sit amet, consectetur adipiscing elit, sed do eiusmod tempor incididunt ut labore et dolore magna aliqua. ut enim ad minim veniam, quis nostrud exercitation ullamco laboris nisi ut aliquip ex ea commodo consequat. duis aute irure dolor in reprehenderit in voluptate velit esse cillum dolore eu fugiat nulla pariatur. excepteur sint occaecat cupidatat non proident, sunt in culpa qui oficia deserunt mollit anim id est laborum.\n"
     ]
    }
   ],
   "source": [
    "cadena = \"Lorem ipsum dolor sit amet, consectetur adipiscing elit, sed do eiusmod tempor incididunt ut labore et dolore magna aliqua. Ut enim ad minim veniam, quis nostrud exercitation ullamco laboris nisi ut aliquip ex ea commodo consequat. Duis aute irure dolor in reprehenderit in voluptate velit esse cillum dolore eu fugiat nulla pariatur. Excepteur sint occaecat cupidatat non proident, sunt in culpa qui oficia deserunt mollit anim id est laborum.\"\n",
    "print (cadena.upper())\n",
    "\n",
    "cadena_1 = cadena\n",
    "print (cadena_1.lower())"
   ]
  },
  {
   "cell_type": "markdown",
   "metadata": {},
   "source": [
    "##### Segmentación por carácter - SÓLO CADENAS"
   ]
  },
  {
   "cell_type": "code",
   "execution_count": 85,
   "metadata": {},
   "outputs": [
    {
     "name": "stdout",
     "output_type": "stream",
     "text": [
      "['Lorem', 'ipsum', 'dolor', 'sit', 'amet,', 'consectetur', 'adipiscing', 'elit,', 'sed', 'do', 'eiusmod', 'tempor', 'incididunt', 'ut', 'labore', 'et', 'dolore', 'magna', 'aliqua.', 'Ut', 'enim', 'ad', 'minim', 'veniam,', 'quis', 'nostrud', 'exercitation', 'ullamco', 'laboris', 'nisi', 'ut', 'aliquip', 'ex', 'ea', 'commodo', 'consequat.', 'Duis', 'aute', 'irure', 'dolor', 'in', 'reprehenderit', 'in', 'voluptate', 'velit', 'esse', 'cillum', 'dolore', 'eu', 'fugiat', 'nulla', 'pariatur.', 'Excepteur', 'sint', 'occaecat', 'cupidatat', 'non', 'proident,', 'sunt', 'in', 'culpa', 'qui', 'oficia', 'deserunt', 'mollit', 'anim', 'id', 'est', 'laborum.']\n",
      "<class 'list'>\n"
     ]
    }
   ],
   "source": [
    "cadena = \"Lorem ipsum dolor sit amet, consectetur adipiscing elit, sed do eiusmod tempor incididunt ut labore et dolore magna aliqua. Ut enim ad minim veniam, quis nostrud exercitation ullamco laboris nisi ut aliquip ex ea commodo consequat. Duis aute irure dolor in reprehenderit in voluptate velit esse cillum dolore eu fugiat nulla pariatur. Excepteur sint occaecat cupidatat non proident, sunt in culpa qui oficia deserunt mollit anim id est laborum.\"\n",
    "print(cadena.split(\" \"))\n",
    "print(type(cadena.split(\" \")))"
   ]
  },
  {
   "cell_type": "markdown",
   "metadata": {},
   "source": [
    "##### Reemplazo en cadenas - SÓLO CADENAS"
   ]
  },
  {
   "cell_type": "code",
   "execution_count": 86,
   "metadata": {},
   "outputs": [
    {
     "name": "stdout",
     "output_type": "stream",
     "text": [
      "Lorem ipsum dolor sit amAQUI, consectAQUIur adipiscing elit, sed do eiusmod tempor incididunt ut labore AQUI dolore magna aliqua. Ut enim ad minim veniam, quis nostrud exercitation ullamco laboris nisi ut aliquip ex ea commodo consequat. Duis aute irure dolor in reprehenderit in voluptate velit esse cillum dolore eu fugiat nulla pariatur. Excepteur sint occaecat cupidatat non proident, sunt in culpa qui oficia deserunt mollit anim id est laborum.\n",
      "Lorem ipsum dolor sit amet, consectetur adipiscing elit, sed do eiusmod tempor incididunt AQUI labore et dolore magna aliqua. Ut enim ad minim veniam, quis nostrud exercitation ullamco laboris nisi ut aliquip ex ea commodo consequat. Duis aute irure dolor in reprehenderit in voluptate velit esse cillum dolore eu fugiat nulla pariatur. Excepteur sint occaecat cupidatat non proident, sunt in culpa qui oficia deserunt mollit anim id est laborum.\n"
     ]
    }
   ],
   "source": [
    "cadena = \"Lorem ipsum dolor sit amet, consectetur adipiscing elit, sed do eiusmod tempor incididunt ut labore et dolore magna aliqua. Ut enim ad minim veniam, quis nostrud exercitation ullamco laboris nisi ut aliquip ex ea commodo consequat. Duis aute irure dolor in reprehenderit in voluptate velit esse cillum dolore eu fugiat nulla pariatur. Excepteur sint occaecat cupidatat non proident, sunt in culpa qui oficia deserunt mollit anim id est laborum.\"\n",
    "print (cadena.replace(\"et\", \"AQUI\"))\n",
    "print (cadena.replace(\"ut\", \"AQUI\", 1))"
   ]
  },
  {
   "cell_type": "markdown",
   "metadata": {},
   "source": [
    "## Diccionarios (dict)"
   ]
  },
  {
   "cell_type": "markdown",
   "metadata": {},
   "source": [
    "Un diccionario es una estructura que:\n",
    "<ul>\n",
    "<li>Contiene un listado de pares clave-valor.</li>\n",
    "<li>También se puede llamar array asociativo o <i>hash map</i>.</li>\n",
    "<li>Sin orden</li>\n",
    "<li>Cuyas claves son cadenas de caracteres o valores numéricos.</li>\n",
    "<li>Cuyos valores son valores o secuencias (anidadas).</li>\n",
    "</ul>"
   ]
  },
  {
   "cell_type": "markdown",
   "metadata": {},
   "source": [
    "##### Creación de un diccionario"
   ]
  },
  {
   "cell_type": "code",
   "execution_count": 1,
   "metadata": {},
   "outputs": [
    {
     "name": "stdout",
     "output_type": "stream",
     "text": [
      "{'clave_1': 1, 'clave_2': 'cadena', 'clave_3': 12.2, 'clave_4': False, 'clave_5': (0, 1, 2, 3, 4, 5), 'clave_6': [6, 7, 8, 9, 10], 'clave_7': range(0, 11), 'clave_8': {'clave_1': 1000, 'clave_2': True}}\n",
      "{10: 1, 2: 2}\n"
     ]
    }
   ],
   "source": [
    "# key - Value\n",
    "diccionario = {\n",
    "  \"clave_1\": 1,\n",
    "  \"clave_2\": \"cadena\",\n",
    "  \"clave_3\": 12.2,\n",
    "  \"clave_4\": False,\n",
    "  \"clave_5\": (0,1,2,3,4,5),\n",
    "  \"clave_6\": [6,7,8,9,10],\n",
    "  \"clave_7\": range(0,11,1),\n",
    "  \"clave_8\": {\n",
    "    \"clave_8.1\": 1000,\n",
    "    \"clave_8.2\": True\n",
    "  }\n",
    "  } \n",
    "print (diccionario)\n",
    "\n",
    "dict_2 = {\n",
    "  10:1,\n",
    "  2:2}\n",
    "print (dict_2)"
   ]
  },
  {
   "cell_type": "markdown",
   "metadata": {},
   "source": [
    "##### Creación de diccionarios anidados"
   ]
  },
  {
   "cell_type": "code",
   "execution_count": 2,
   "metadata": {},
   "outputs": [
    {
     "name": "stdout",
     "output_type": "stream",
     "text": [
      "{'clave_1': 1, 'clave_2': 'cadena', 'clave_3': 12.2, 'clave_4': False, 'clave_5': (0, 1, 2, 3, 4, 5), 'clave_6': [6, 7, 8, 9, 10], 'clave_7': range(0, 11), 'clave_8': {'clave_8.1': 1000, 'clave_8.2': {'clave_8.2.1': 'Profundo', 'clave_8.2.2': {'clave_8.2.2.1': 'Mas profundo'}}}}\n"
     ]
    }
   ],
   "source": [
    "diccionario = {\n",
    "  \"clave_1\": 1,\n",
    "  \"clave_2\": \"cadena\",\n",
    "  \"clave_3\": 12.2,\n",
    "  \"clave_4\": False,\n",
    "  \"clave_5\": (0,1,2,3,4,5),\n",
    "  \"clave_6\": [6,7,8,9,10],\n",
    "  \"clave_7\": range(0,11,1),\n",
    "  \"clave_8\": {\n",
    "    \"clave_8.1\": 1000,\n",
    "    \"clave_8.2\": {\n",
    "      \"clave_8.2.1\": \"Profundo\",\n",
    "      \"clave_8.2.2\": {\n",
    "        \"clave_8.2.2.1\": \"Mas profundo\"\n",
    "      }\n",
    "    }\n",
    "  }\n",
    "  }\n",
    "print (diccionario)"
   ]
  },
  {
   "cell_type": "markdown",
   "metadata": {},
   "source": [
    "##### Creación de diccionarios desde tuplas clave-valor"
   ]
  },
  {
   "cell_type": "code",
   "execution_count": 5,
   "metadata": {},
   "outputs": [
    {
     "name": "stdout",
     "output_type": "stream",
     "text": [
      "{'uno': 1, 'dos': 2, 'tres': 3, 'cuatro': 4, 'cinco': 5}\n"
     ]
    }
   ],
   "source": [
    "tupla = (1, 2, 3, 4, 5)\n",
    "lista = [\"uno\", \"dos\", \"tres\", \"cuatro\", \"cinco\"]\n",
    "diccionario = dict(zip(lista, tupla))\n",
    "print (diccionario)\n"
   ]
  },
  {
   "cell_type": "markdown",
   "metadata": {},
   "source": [
    "##### Unión de dos diccionarios"
   ]
  },
  {
   "cell_type": "code",
   "execution_count": 6,
   "metadata": {},
   "outputs": [
    {
     "name": "stdout",
     "output_type": "stream",
     "text": [
      "{'clave_1': 1, 'clave_2': 'cadena', 'clave_3': 3, 'clave_4': 4, 'clave_5': (0, 1, 2, 3, 4, 5), 'clave_6': [6, 7, 8, 9, 10], 'clave_7': range(0, 11), 'clave_8': {'clave_8.1': 1000, 'clave_8.2': {'clave_8.2.1': 'Profundo', 'clave_8.2.2': {'clave_8.2.2.1': 'Mas profundo'}}}}\n"
     ]
    }
   ],
   "source": [
    "diccionario = {\n",
    "  \"clave_1\": 1,\n",
    "  \"clave_2\": \"cadena\",\n",
    "  \"clave_3\": 12.2,\n",
    "  \"clave_4\": False,\n",
    "  \"clave_5\": (0,1,2,3,4,5),\n",
    "  \"clave_6\": [6,7,8,9,10],\n",
    "  \"clave_7\": range(0,11,1),\n",
    "  \"clave_8\": {\n",
    "    \"clave_8.1\": 1000,\n",
    "    \"clave_8.2\": {\n",
    "      \"clave_8.2.1\": \"Profundo\",\n",
    "      \"clave_8.2.2\": {\n",
    "        \"clave_8.2.2.1\": \"Mas profundo\"\n",
    "      }\n",
    "    }\n",
    "  }\n",
    "  }\n",
    "diccionario_1 = {\"clave_3\": 3, \"clave_4\": 4} # si lleva el mismo nombre de la clave lo reemplaza \n",
    "diccionario.update(diccionario_1)  \n",
    "print (diccionario)"
   ]
  },
  {
   "cell_type": "code",
   "execution_count": 7,
   "metadata": {},
   "outputs": [
    {
     "name": "stdout",
     "output_type": "stream",
     "text": [
      "{'clave_1': 1, 'clave_2': 'cadena', 'clave_3': 12.2, 'clave_4': False, 'clave_5': (0, 1, 2, 3, 4, 5), 'clave_6': [6, 7, 8, 9, 10], 'clave_7': range(0, 11), 'clave_8': {'clave_8.1': 1000, 'clave_8.2': {'clave_8.2.1': 'Profundo', 'clave_8.2.2': {'clave_8.2.2.1': 'Mas profundo'}}}, 'clave_9': 9999, 'clave_10': 101010}\n"
     ]
    }
   ],
   "source": [
    "diccionario = {\n",
    "  \"clave_1\": 1,\n",
    "  \"clave_2\": \"cadena\",\n",
    "  \"clave_3\": 12.2,\n",
    "  \"clave_4\": False,\n",
    "  \"clave_5\": (0,1,2,3,4,5),\n",
    "  \"clave_6\": [6,7,8,9,10],\n",
    "  \"clave_7\": range(0,11,1),\n",
    "  \"clave_8\": {\n",
    "    \"clave_8.1\": 1000,\n",
    "    \"clave_8.2\": {\n",
    "      \"clave_8.2.1\": \"Profundo\",\n",
    "      \"clave_8.2.2\": {\n",
    "        \"clave_8.2.2.1\": \"Mas profundo\"\n",
    "      }\n",
    "    }\n",
    "  }\n",
    "  }\n",
    "diccionario_1 = {\"clave_9\": 9999, \"clave_10\": 101010} \n",
    "diccionario.update(diccionario_1)  \n",
    "print (diccionario)"
   ]
  },
  {
   "cell_type": "markdown",
   "metadata": {},
   "source": [
    "##### Inserción (o modificación) de un elemento del diccionario por clave"
   ]
  },
  {
   "cell_type": "code",
   "execution_count": 8,
   "metadata": {},
   "outputs": [
    {
     "name": "stdout",
     "output_type": "stream",
     "text": [
      "{'clave_1': 50000000, 'clave_2': 'cadena', 'clave_3': 10000000, 'clave_4': False, 'clave_5': (0, 1, 2, 3, 4, 5), 'clave_6': [6, 7, 8, 9, 10], 'clave_7': range(0, 11), 'clave_8': {'clave_8.1': 1000, 'clave_8.2': {'clave_8.2.1': 'Profundo', 'clave_8.2.2': {'clave_8.2.2.1': 'Mas profundo'}}}}\n"
     ]
    }
   ],
   "source": [
    "diccionario = {\n",
    "  \"clave_1\": 1,\n",
    "  \"clave_2\": \"cadena\",\n",
    "  \"clave_3\": 12.2,\n",
    "  \"clave_4\": False,\n",
    "  \"clave_5\": (0,1,2,3,4,5),\n",
    "  \"clave_6\": [6,7,8,9,10],\n",
    "  \"clave_7\": range(0,11,1),\n",
    "  \"clave_8\": {\n",
    "    \"clave_8.1\": 1000,\n",
    "    \"clave_8.2\": {\n",
    "      \"clave_8.2.1\": \"Profundo\",\n",
    "      \"clave_8.2.2\": {\n",
    "        \"clave_8.2.2.1\": \"Mas profundo\"\n",
    "      }\n",
    "    }\n",
    "  }\n",
    "  }\n",
    "diccionario[\"clave_3\"] = 10000000\n",
    "diccionario[\"clave_1\"] = 50000000\n",
    "print (diccionario)"
   ]
  },
  {
   "cell_type": "markdown",
   "metadata": {},
   "source": [
    "##### Comprobación de si un elemento existe en el diccionario"
   ]
  },
  {
   "cell_type": "code",
   "execution_count": 9,
   "metadata": {},
   "outputs": [
    {
     "name": "stdout",
     "output_type": "stream",
     "text": [
      "True\n",
      "False\n"
     ]
    }
   ],
   "source": [
    "diccionario = {\n",
    "  \"clave_1\": 1,\n",
    "  \"clave_2\": \"cadena\",\n",
    "  \"clave_3\": 12.2,\n",
    "  \"clave_4\": False,\n",
    "  \"clave_5\": (0,1,2,3,4,5),\n",
    "  \"clave_6\": [6,7,8,9,10],\n",
    "  \"clave_7\": range(0,11,1),\n",
    "  \"clave_8\": {\n",
    "    \"clave_8.1\": 1000,\n",
    "    \"clave_8.2\": {\n",
    "      \"clave_8.2.1\": \"Profundo\",\n",
    "      \"clave_8.2.2\": {\n",
    "        \"clave_8.2.2.1\": \"Mas profundo\"\n",
    "      }\n",
    "    }\n",
    "  }\n",
    "  }\n",
    "print (\"clave_8\" in diccionario)\n",
    "print (1 in diccionario)"
   ]
  },
  {
   "cell_type": "markdown",
   "metadata": {},
   "source": [
    "##### Eliminación de un elemento de un diccionario"
   ]
  },
  {
   "cell_type": "code",
   "execution_count": 14,
   "metadata": {},
   "outputs": [
    {
     "name": "stdout",
     "output_type": "stream",
     "text": [
      "{'clave_1': 1, 'clave_2': 'cadena', 'clave_3': 12.2, 'clave_4': False, 'clave_5': (0, 1, 2, 3, 4, 5), 'clave_6': [6, 7, 8, 9, 10], 'clave_7': range(0, 11)}\n"
     ]
    }
   ],
   "source": [
    "diccionario = {\n",
    "  \"clave_1\": 1,\n",
    "  \"clave_2\": \"cadena\",\n",
    "  \"clave_3\": 12.2,\n",
    "  \"clave_4\": False,\n",
    "  \"clave_5\": (0,1,2,3,4,5),\n",
    "  \"clave_6\": [6,7,8,9,10],\n",
    "  \"clave_7\": range(0,11,1),\n",
    "  \"clave_8\": {\n",
    "    \"clave_8.1\": 1000,\n",
    "    \"clave_8.2\": {\n",
    "      \"clave_8.2.1\": \"Profundo\",\n",
    "      \"clave_8.2.2\": {\n",
    "        \"clave_8.2.2.1\": \"Mas profundo\"\n",
    "      }\n",
    "    }\n",
    "  }\n",
    "  }\n",
    "del diccionario[\"clave_8\"]\n",
    "print (diccionario)"
   ]
  },
  {
   "cell_type": "markdown",
   "metadata": {},
   "source": [
    "##### Eliminación de todos los elementos de un diccionario"
   ]
  },
  {
   "cell_type": "code",
   "execution_count": 15,
   "metadata": {},
   "outputs": [
    {
     "name": "stdout",
     "output_type": "stream",
     "text": [
      "{}\n"
     ]
    }
   ],
   "source": [
    "diccionario = {\n",
    "  \"clave_1\": 1,\n",
    "  \"clave_2\": \"cadena\",\n",
    "  \"clave_3\": 12.2,\n",
    "  \"clave_4\": False,\n",
    "  \"clave_5\": (0,1,2,3,4,5),\n",
    "  \"clave_6\": [6,7,8,9,10],\n",
    "  \"clave_7\": range(0,11,1),\n",
    "  \"clave_8\": {\n",
    "    \"clave_8.1\": 1000,\n",
    "    \"clave_8.2\": {\n",
    "      \"clave_8.2.1\": \"Profundo\",\n",
    "      \"clave_8.2.2\": {\n",
    "        \"clave_8.2.2.1\": \"Mas profundo\"\n",
    "      }\n",
    "    }\n",
    "  }\n",
    "  }\n",
    "diccionario.clear() # sigue existiendo pero sin valores\n",
    "print (diccionario)"
   ]
  },
  {
   "cell_type": "markdown",
   "metadata": {},
   "source": [
    "##### Acceso a un elemento por clave"
   ]
  },
  {
   "cell_type": "code",
   "execution_count": 19,
   "metadata": {},
   "outputs": [
    {
     "name": "stdout",
     "output_type": "stream",
     "text": [
      "{'clave_8.1': 1000, 'clave_8.2': {'clave_8.2.1': 'Profundo', 'clave_8.2.2': {'clave_8.2.2.1': 'Mas profundo'}}}\n"
     ]
    }
   ],
   "source": [
    "diccionario = {\n",
    "  \"clave_1\": 1,\n",
    "  \"clave_2\": \"cadena\",\n",
    "  \"clave_3\": 12.2,\n",
    "  \"clave_4\": False,\n",
    "  \"clave_5\": (0,1,2,3,4,5),\n",
    "  \"clave_6\": [6,7,8,9,10],\n",
    "  \"clave_7\": range(0,11,1),\n",
    "  \"clave_8\": {\n",
    "    \"clave_8.1\": 1000,\n",
    "    \"clave_8.2\": {\n",
    "      \"clave_8.2.1\": \"Profundo\",\n",
    "      \"clave_8.2.2\": {\n",
    "        \"clave_8.2.2.1\": \"Mas profundo\"\n",
    "      }\n",
    "    }\n",
    "  }\n",
    "  }\n",
    "print (diccionario[\"clave_8\"])"
   ]
  },
  {
   "cell_type": "markdown",
   "metadata": {},
   "source": [
    "##### Recuperación de elementos como una lista"
   ]
  },
  {
   "cell_type": "code",
   "execution_count": 20,
   "metadata": {},
   "outputs": [
    {
     "name": "stdout",
     "output_type": "stream",
     "text": [
      "[('clave_1', 1), ('clave_2', 'cadena'), ('clave_3', 12.2), ('clave_4', False), ('clave_5', (0, 1, 2, 3, 4, 5)), ('clave_6', [6, 7, 8, 9, 10]), ('clave_7', range(0, 11)), ('clave_8', {'clave_8.1': 1000, 'clave_8.2': {'clave_8.2.1': 'Profundo', 'clave_8.2.2': {'clave_8.2.2.1': 'Mas profundo'}}})]\n"
     ]
    }
   ],
   "source": [
    "diccionario = {\n",
    "  \"clave_1\": 1,\n",
    "  \"clave_2\": \"cadena\",\n",
    "  \"clave_3\": 12.2,\n",
    "  \"clave_4\": False,\n",
    "  \"clave_5\": (0,1,2,3,4,5),\n",
    "  \"clave_6\": [6,7,8,9,10],\n",
    "  \"clave_7\": range(0,11,1),\n",
    "  \"clave_8\": {\n",
    "    \"clave_8.1\": 1000,\n",
    "    \"clave_8.2\": {\n",
    "      \"clave_8.2.1\": \"Profundo\",\n",
    "      \"clave_8.2.2\": {\n",
    "        \"clave_8.2.2.1\": \"Mas profundo\"\n",
    "      }\n",
    "    }\n",
    "  }\n",
    "  }\n",
    "print (list(diccionario.items()))"
   ]
  },
  {
   "cell_type": "markdown",
   "metadata": {},
   "source": [
    "##### Recuperación de claves como una lista"
   ]
  },
  {
   "cell_type": "code",
   "execution_count": 21,
   "metadata": {},
   "outputs": [
    {
     "name": "stdout",
     "output_type": "stream",
     "text": [
      "['clave_1', 'clave_2', 'clave_3', 'clave_4', 'clave_5', 'clave_6', 'clave_7', 'clave_8']\n"
     ]
    }
   ],
   "source": [
    "diccionario = {\n",
    "  \"clave_1\": 1,\n",
    "  \"clave_2\": \"cadena\",\n",
    "  \"clave_3\": 12.2,\n",
    "  \"clave_4\": False,\n",
    "  \"clave_5\": (0,1,2,3,4,5),\n",
    "  \"clave_6\": [6,7,8,9,10],\n",
    "  \"clave_7\": range(0,11,1),\n",
    "  \"clave_8\": {\n",
    "    \"clave_8.1\": 1000,\n",
    "    \"clave_8.2\": {\n",
    "      \"clave_8.2.1\": \"Profundo\",\n",
    "      \"clave_8.2.2\": {\n",
    "        \"clave_8.2.2.1\": \"Mas profundo\"\n",
    "      }\n",
    "    }\n",
    "  }\n",
    "  }\n",
    "print (list(diccionario.keys()))"
   ]
  },
  {
   "cell_type": "markdown",
   "metadata": {},
   "source": [
    "##### Recuperación de valores como una lista"
   ]
  },
  {
   "cell_type": "code",
   "execution_count": 22,
   "metadata": {},
   "outputs": [
    {
     "name": "stdout",
     "output_type": "stream",
     "text": [
      "[1, 'cadena', 12.2, False, (0, 1, 2, 3, 4, 5), [6, 7, 8, 9, 10], range(0, 11), {'clave_8.1': 1000, 'clave_8.2': {'clave_8.2.1': 'Profundo', 'clave_8.2.2': {'clave_8.2.2.1': 'Mas profundo'}}}]\n"
     ]
    }
   ],
   "source": [
    "diccionario = {\n",
    "  \"clave_1\": 1,\n",
    "  \"clave_2\": \"cadena\",\n",
    "  \"clave_3\": 12.2,\n",
    "  \"clave_4\": False,\n",
    "  \"clave_5\": (0,1,2,3,4,5),\n",
    "  \"clave_6\": [6,7,8,9,10],\n",
    "  \"clave_7\": range(0,11,1),\n",
    "  \"clave_8\": {\n",
    "    \"clave_8.1\": 1000,\n",
    "    \"clave_8.2\": {\n",
    "      \"clave_8.2.1\": \"Profundo\",\n",
    "      \"clave_8.2.2\": {\n",
    "        \"clave_8.2.2.1\": \"Mas profundo\"\n",
    "      }\n",
    "    }\n",
    "  }\n",
    "  }\n",
    "print (list(diccionario.values()))"
   ]
  },
  {
   "cell_type": "markdown",
   "metadata": {},
   "source": [
    "## Conjuntos (set)"
   ]
  },
  {
   "cell_type": "markdown",
   "metadata": {},
   "source": [
    "Un conjunto es una secuencia:\n",
    "<ul>\n",
    "<li>Unidimensional (de un único nivel)</li>\n",
    "<li>Mutable</li>\n",
    "<li>De tamaño variable (al ser mutable es obvio)</li>\n",
    "<li>Desordenada</li>\n",
    "<li>Cuyos elementos son valores o secuencias</li>\n",
    "<li>Cuyos elementos son únicos (no hay elementos repetidos)</li>\n",
    "</ul>"
   ]
  },
  {
   "cell_type": "markdown",
   "metadata": {},
   "source": [
    "##### Cración de un conjunto"
   ]
  },
  {
   "cell_type": "code",
   "execution_count": 23,
   "metadata": {},
   "outputs": [
    {
     "name": "stdout",
     "output_type": "stream",
     "text": [
      "{1, 2, 3, 4, 5}\n"
     ]
    }
   ],
   "source": [
    "conjunto = {1, 2, 3, 4, 5}\n",
    "print (conjunto)"
   ]
  },
  {
   "cell_type": "markdown",
   "metadata": {},
   "source": [
    "##### Conversión/casting a conjunto"
   ]
  },
  {
   "cell_type": "code",
   "execution_count": 24,
   "metadata": {},
   "outputs": [
    {
     "name": "stdout",
     "output_type": "stream",
     "text": [
      "<class 'set'>\n"
     ]
    }
   ],
   "source": [
    "lista = [1, 2, 3, 4, 5]\n",
    "conjunto = set(lista)\n",
    "print (type(conjunto))"
   ]
  },
  {
   "cell_type": "markdown",
   "metadata": {},
   "source": [
    "##### Unión de conjuntos"
   ]
  },
  {
   "cell_type": "code",
   "execution_count": 25,
   "metadata": {},
   "outputs": [
    {
     "name": "stdout",
     "output_type": "stream",
     "text": [
      "{0, 1, 2, 3, 4, 5, 6, 7, 8, 9, 10}\n"
     ]
    }
   ],
   "source": [
    "conjunto_1 = {0, 1, 2, 3, 4, 5}\n",
    "conjunto_2 = {6, 7, 8, 9, 10}\n",
    "print(conjunto_1 | conjunto_2)"
   ]
  },
  {
   "cell_type": "markdown",
   "metadata": {},
   "source": [
    "##### Intersección de conjuntos"
   ]
  },
  {
   "cell_type": "code",
   "execution_count": 26,
   "metadata": {},
   "outputs": [
    {
     "name": "stdout",
     "output_type": "stream",
     "text": [
      "{45}\n"
     ]
    }
   ],
   "source": [
    "conjunto_1 = {0, 1, 2, 3, 4, 5, 45}\n",
    "conjunto_2 = {6, 7, 8, 9, 10, 45}\n",
    "print (conjunto_1 & conjunto_2)"
   ]
  },
  {
   "cell_type": "markdown",
   "metadata": {},
   "source": [
    "##### Diferencia de conjuntos"
   ]
  },
  {
   "cell_type": "code",
   "execution_count": 27,
   "metadata": {},
   "outputs": [
    {
     "name": "stdout",
     "output_type": "stream",
     "text": [
      "{0, 1, 2, 3, 4, 5}\n",
      "{6, 7, 8, 9, 10}\n"
     ]
    }
   ],
   "source": [
    "conjunto_1 = {0, 1, 2, 3, 4, 5, 45}\n",
    "conjunto_2 = {6, 7, 8, 9, 10, 45}\n",
    "print (conjunto_1 - conjunto_2)\n",
    "print (conjunto_2 - conjunto_1)"
   ]
  },
  {
   "cell_type": "markdown",
   "metadata": {},
   "source": [
    "##### Diferencia simétrica de conjuntos - (Unión - Intersección)"
   ]
  },
  {
   "cell_type": "code",
   "execution_count": 28,
   "metadata": {},
   "outputs": [
    {
     "name": "stdout",
     "output_type": "stream",
     "text": [
      "{0, 1, 2, 3, 4, 5, 6, 7, 8, 9, 10}\n",
      "{0, 1, 2, 3, 4, 5, 6, 7, 8, 9, 10}\n"
     ]
    }
   ],
   "source": [
    "conjunto_1 = {0, 1, 2, 3, 4, 5, 45}\n",
    "conjunto_2 = {6, 7, 8, 9, 10, 45}\n",
    "print (conjunto_1 ^ conjunto_2)\n",
    "print (conjunto_1 ^ conjunto_2)"
   ]
  },
  {
   "cell_type": "markdown",
   "metadata": {},
   "source": [
    "##### Inserción de elementos en un conjunto "
   ]
  },
  {
   "cell_type": "code",
   "execution_count": 30,
   "metadata": {},
   "outputs": [
    {
     "name": "stdout",
     "output_type": "stream",
     "text": [
      "{0, 1, 2, 3, 4, 5, 6, 45}\n"
     ]
    }
   ],
   "source": [
    "conjunto = {0, 1, 2, 3, 4, 5, 45}\n",
    "conjunto.add(6)\n",
    "print (conjunto)"
   ]
  },
  {
   "cell_type": "markdown",
   "metadata": {},
   "source": [
    "##### Comprobación de existencia de un elemento en el conjunto"
   ]
  },
  {
   "cell_type": "code",
   "execution_count": 31,
   "metadata": {},
   "outputs": [
    {
     "data": {
      "text/plain": [
       "True"
      ]
     },
     "execution_count": 31,
     "metadata": {},
     "output_type": "execute_result"
    }
   ],
   "source": [
    "conjunto = {1, 2, 3, 4, 5}\n",
    "3 in conjunto"
   ]
  },
  {
   "cell_type": "code",
   "execution_count": 32,
   "metadata": {},
   "outputs": [
    {
     "data": {
      "text/plain": [
       "False"
      ]
     },
     "execution_count": 32,
     "metadata": {},
     "output_type": "execute_result"
    }
   ],
   "source": [
    "conjunto = {1, 2, 3, 4, 5}\n",
    "13 in conjunto"
   ]
  },
  {
   "cell_type": "markdown",
   "metadata": {},
   "source": [
    "##### Comprobación de subconjunto"
   ]
  },
  {
   "cell_type": "code",
   "execution_count": 33,
   "metadata": {},
   "outputs": [
    {
     "data": {
      "text/plain": [
       "True"
      ]
     },
     "execution_count": 33,
     "metadata": {},
     "output_type": "execute_result"
    }
   ],
   "source": [
    "conjunto_1 = {1, 2, 3, 4, 5}\n",
    "conjunto_2 = {1, 2, 3}\n",
    "conjunto_1 >= conjunto_2"
   ]
  },
  {
   "cell_type": "markdown",
   "metadata": {},
   "source": [
    "##### Comprobación de superconjunto"
   ]
  },
  {
   "cell_type": "code",
   "execution_count": 34,
   "metadata": {},
   "outputs": [
    {
     "data": {
      "text/plain": [
       "False"
      ]
     },
     "execution_count": 34,
     "metadata": {},
     "output_type": "execute_result"
    }
   ],
   "source": [
    "conjunto_1 = {1, 2, 3, 4, 5}\n",
    "conjunto_2 = {1, 2, 3}\n",
    "conjunto_1 <= conjunto_2"
   ]
  },
  {
   "cell_type": "markdown",
   "metadata": {},
   "source": [
    "##### Eliminación de un elemento de un conjunto por valor"
   ]
  },
  {
   "cell_type": "code",
   "execution_count": 36,
   "metadata": {},
   "outputs": [
    {
     "name": "stdout",
     "output_type": "stream",
     "text": [
      "{2, 3, 4}\n"
     ]
    }
   ],
   "source": [
    "conjunto = {1, 2, 3, 4, 5}\n",
    "conjunto.remove(5)\n",
    "\n",
    "conjunto.discard(1) #Elimina elemento (si no existe en el conjunto no pasa nada)\n",
    "print (conjunto)"
   ]
  },
  {
   "cell_type": "markdown",
   "metadata": {},
   "source": [
    "##### Eliminación de todos los elementos de un conjunto"
   ]
  },
  {
   "cell_type": "code",
   "execution_count": 37,
   "metadata": {},
   "outputs": [
    {
     "name": "stdout",
     "output_type": "stream",
     "text": [
      "set()\n"
     ]
    }
   ],
   "source": [
    "conjunto = {1, 2, 3, 4, 5, 6, 7, 8, 9, 10, 11, 12}\n",
    "conjunto.clear()\n",
    "print (conjunto)"
   ]
  }
 ],
 "metadata": {
  "anaconda-cloud": {},
  "kernelspec": {
   "display_name": "Python 3.9.12 ('base')",
   "language": "python",
   "name": "python3"
  },
  "language_info": {
   "codemirror_mode": {
    "name": "ipython",
    "version": 3
   },
   "file_extension": ".py",
   "mimetype": "text/x-python",
   "name": "python",
   "nbconvert_exporter": "python",
   "pygments_lexer": "ipython3",
   "version": "3.9.12"
  },
  "vscode": {
   "interpreter": {
    "hash": "ad2bdc8ecc057115af97d19610ffacc2b4e99fae6737bb82f5d7fb13d2f2c186"
   }
  }
 },
 "nbformat": 4,
 "nbformat_minor": 1
}
