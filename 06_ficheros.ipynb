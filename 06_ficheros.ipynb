{
 "cells": [
  {
   "cell_type": "markdown",
   "metadata": {},
   "source": [
    "# Introducción a Python - Trabajo con ficheros"
   ]
  },
  {
   "cell_type": "markdown",
   "metadata": {},
   "source": [
    "Por último, y de forma muy testimonial, vamos a revisar algunos conceptos de trabajo con ficheros de texto plano. "
   ]
  },
  {
   "cell_type": "markdown",
   "metadata": {},
   "source": [
    "### Escritura de ficheros de texto plano"
   ]
  },
  {
   "cell_type": "markdown",
   "metadata": {},
   "source": [
    "A la hora de escribir ficheros, como en otros lenguajes de programación, los puntos clave son: el modo de apertura (\"w\" para sobreescritura y \"a\" para continuación) y el cierre del fichero una vez se ha finalizado el trabajo con el mismo."
   ]
  },
  {
   "cell_type": "code",
   "execution_count": 1,
   "metadata": {},
   "outputs": [],
   "source": [
    "fichero = open(\"prueba.txt\", \"w\")\n",
    "fichero.write(\"Esto\\n\")\n",
    "fichero.write(\"es\\n\")\n",
    "fichero.write(\"una\\n\")\n",
    "fichero.write(\"prueba\\n\")\n",
    "fichero.close()"
   ]
  },
  {
   "cell_type": "code",
   "execution_count": 3,
   "metadata": {},
   "outputs": [],
   "source": [
    "fichero = open(\"prueba.txt\", \"w\")\n",
    "fichero.write(\"Esto\\n\")\n",
    "fichero.write(\"es\\n\")\n",
    "fichero.write(\"una NUEVA\\n\") # cambios en el fichero\n",
    "fichero.write(\"prueba\\n\")\n",
    "fichero.close()"
   ]
  },
  {
   "cell_type": "code",
   "execution_count": 5,
   "metadata": {},
   "outputs": [],
   "source": [
    "fichero = open(\"prueba.txt\", \"a\")\n",
    "fichero.write(\"mas\\n\")\n",
    "fichero.close()"
   ]
  },
  {
   "cell_type": "markdown",
   "metadata": {},
   "source": [
    "### Lectura de ficheros de texto plano"
   ]
  },
  {
   "cell_type": "markdown",
   "metadata": {},
   "source": [
    "De nuevo, a la hora de leer ficheros, los puntos clave serán de nuevo: el modo de apertura (\"r\" para lectura y \"r+\" para lectura y escritura) y el cierre del fichero una vez se ha finalizado el trabajo con el mismo."
   ]
  },
  {
   "cell_type": "code",
   "execution_count": 6,
   "metadata": {},
   "outputs": [],
   "source": [
    "fichero_1 = open(\"prueba_2.txt\", \"w\")\n",
    "fichero_1.write(\"cada dia al pasar por la funeraria\\n\")\n",
    "fichero_1.write(\"veo esos ataudes\\n\")\n",
    "fichero_1.write(\"que marcan el final de una existencia\\n\")\n",
    "fichero_1.write(\"que marcan el fin de una vida sin sentido\\n\")\n",
    "fichero_1.close()"
   ]
  },
  {
   "cell_type": "code",
   "execution_count": 10,
   "metadata": {},
   "outputs": [
    {
     "name": "stdout",
     "output_type": "stream",
     "text": [
      "cada dia al pasar por la funeraria\n",
      "veo esos ataudes\n",
      "que marcan el final de una existencia\n",
      "que marcan el fin de una vida sin sentido\n",
      "\n"
     ]
    }
   ],
   "source": [
    "fichero = open(\"prueba_2.txt\", \"r\")\n",
    "contenido = fichero.read()\n",
    "print(contenido)\n",
    "fichero.close()"
   ]
  },
  {
   "cell_type": "code",
   "execution_count": 11,
   "metadata": {},
   "outputs": [
    {
     "name": "stdout",
     "output_type": "stream",
     "text": [
      "cada dia al pasar por la funeraria\n",
      "\n",
      "veo esos ataudes\n",
      "\n",
      "que marcan el final de una existencia\n",
      "\n",
      "que marcan el fin de una vida sin sentido\n",
      "\n"
     ]
    }
   ],
   "source": [
    "fichero = open(\"prueba_2.txt\", \"r\")\n",
    "for l in fichero:\n",
    "  print(l)\n",
    "fichero.close()"
   ]
  },
  {
   "cell_type": "code",
   "execution_count": 8,
   "metadata": {},
   "outputs": [
    {
     "name": "stdout",
     "output_type": "stream",
     "text": [
      "Esto\n",
      "\n",
      "es\n",
      "\n",
      "una NUEVA\n",
      "\n",
      "prueba\n",
      "\n",
      "mas\n",
      "\n"
     ]
    }
   ],
   "source": [
    "fichero = open(\"prueba.txt\", \"r\")\n",
    "for linea in fichero:\n",
    "    print(linea)\n",
    "fichero.close()"
   ]
  }
 ],
 "metadata": {
  "kernelspec": {
   "display_name": "Python 3.9.12 ('base')",
   "language": "python",
   "name": "python3"
  },
  "language_info": {
   "codemirror_mode": {
    "name": "ipython",
    "version": 3
   },
   "file_extension": ".py",
   "mimetype": "text/x-python",
   "name": "python",
   "nbconvert_exporter": "python",
   "pygments_lexer": "ipython3",
   "version": "3.9.12"
  },
  "vscode": {
   "interpreter": {
    "hash": "ad2bdc8ecc057115af97d19610ffacc2b4e99fae6737bb82f5d7fb13d2f2c186"
   }
  }
 },
 "nbformat": 4,
 "nbformat_minor": 1
}
