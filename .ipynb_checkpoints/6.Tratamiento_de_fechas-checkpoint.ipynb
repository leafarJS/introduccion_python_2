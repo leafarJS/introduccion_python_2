{
 "cells": [
  {
   "cell_type": "markdown",
   "metadata": {
    "id": "g4YrcRofOZmf"
   },
   "source": [
    "---\n",
    "<font size=\"6\">Tratamiento de fechas</font>\n",
    "\n",
    "Es imprescindible, en cualquier lenguaje de programación, aprender a cómo utilizar las fechas tal y como queremos. \\\n",
    "Para ello, en este módulo aprenderemos a utilizar el paquete de funciones incorporadas en **`datetime`**. \n",
    "\n",
    "---\n"
   ]
  },
  {
   "cell_type": "markdown",
   "metadata": {
    "id": "Ub_8Zzc31rm9"
   },
   "source": [
    "# **Objetos en `datetime`**\n",
    "Dispondremos de muchos objetos en los cuales se hará hincapié en las clases de fechas siguientes:\n",
    "* **date**: Objeto de fecha\n",
    "* **time**: Objeto de tiempo\n",
    "* **datetime**: Objeto que engloba a ambas\n",
    "* **timedelta**: Objeto operador de fechas\n",
    "\n",
    "Empecemos importando el paquete y viendo sus atributos."
   ]
  },
  {
   "cell_type": "code",
   "execution_count": null,
   "metadata": {
    "colab": {
     "base_uri": "https://localhost:8080/"
    },
    "id": "Fipjo9KAReaQ",
    "outputId": "36a5cdf9-beb2-4b8b-e87f-9e2a2ce4d9be"
   },
   "outputs": [],
   "source": [
    "import datetime\n",
    "dir(datetime)"
   ]
  },
  {
   "cell_type": "markdown",
   "metadata": {
    "id": "BwSOzwhuX5fL"
   },
   "source": [
    "Como se peude observar, vemos las clases `date`, `datetime`, `time` y `timedelta`, las cuales veremos más en detalle a continuación."
   ]
  },
  {
   "cell_type": "markdown",
   "metadata": {
    "id": "MPHiHGbcYikT"
   },
   "source": [
    "## **`.date`**\n",
    "Con esta clase podemos crear objetos tipo `date` el cual representa una fecha de tipo (año, mes y día). Además, como atributo más interesante, está el poder extraer el día de hoy con el método `.today()`."
   ]
  },
  {
   "cell_type": "code",
   "execution_count": null,
   "metadata": {
    "colab": {
     "base_uri": "https://localhost:8080/"
    },
    "id": "NJNZXPlwYGuh",
    "outputId": "200d71b7-6ee6-437e-ff41-dcf51914bca7"
   },
   "outputs": [],
   "source": [
    "# --\n",
    "# Atributos de datetime.date\n",
    "# --\n",
    "dir(datetime.date)"
   ]
  },
  {
   "cell_type": "code",
   "execution_count": null,
   "metadata": {
    "id": "p2DWCKmIZ8N1"
   },
   "outputs": [],
   "source": [
    "# --\n",
    "# A partir de aquí, trabajemos únicamente importando todo el paquete date\n",
    "# para evitar poner \"datetime.\"\n",
    "# --\n",
    "from datetime import date"
   ]
  },
  {
   "cell_type": "markdown",
   "metadata": {
    "id": "U3A31cGEaUa3"
   },
   "source": [
    "### **Crear fechas**\n",
    "Para crear fechas, necesitamos los siguientes argumentos:\n",
    "* **Year**\n",
    "* **Month**\n",
    "* **Day**"
   ]
  },
  {
   "cell_type": "code",
   "execution_count": null,
   "metadata": {
    "colab": {
     "base_uri": "https://localhost:8080/"
    },
    "id": "n4XB-I7KbPN3",
    "outputId": "c1c51439-b657-4184-d766-da9798561184"
   },
   "outputs": [],
   "source": [
    "# --\n",
    "# Creamos una fecha\n",
    "# --\n",
    "ejemplo_d_1 = datetime.date(year = 2019, month = 4, day = 13)\n",
    "print('Usando datetime.date: ' + str(ejemplo_d_1))\n",
    "\n",
    "# --\n",
    "# Equivalente a usar únicamente date\n",
    "# --\n",
    "ejemplo_d_2 = date(2019, 4, 13)\n",
    "print('Usando date: ' + str(ejemplo_d_2))"
   ]
  },
  {
   "cell_type": "markdown",
   "metadata": {
    "id": "BJpdVf_KaaPD"
   },
   "source": [
    "#### `.today()`\n",
    "Veamos cómo extraer el día actual"
   ]
  },
  {
   "cell_type": "code",
   "execution_count": null,
   "metadata": {
    "colab": {
     "base_uri": "https://localhost:8080/"
    },
    "id": "OmSiX2SeZf0U",
    "outputId": "5ea16223-4ade-413e-93c0-4814243dbba8"
   },
   "outputs": [],
   "source": [
    "# --\n",
    "# Equivalente a usar directamente date.today()\n",
    "# --\n",
    "hoy = date.today()\n",
    "print('Fechas de hoy: ' + str(hoy))"
   ]
  },
  {
   "cell_type": "markdown",
   "metadata": {
    "id": "BtEIAP0bd_e9"
   },
   "source": [
    "### **Métodos asociados**\n",
    "Los métodos asociados más usuales a este objeto son:\n",
    "* **`.year`**\n",
    "* **`.month`**\n",
    "* **`.day`**\n"
   ]
  },
  {
   "cell_type": "code",
   "execution_count": null,
   "metadata": {
    "colab": {
     "base_uri": "https://localhost:8080/"
    },
    "id": "hJ403TG_K4mq",
    "outputId": "de27a9a9-c911-444a-cfc1-0a18824edb2a"
   },
   "outputs": [],
   "source": [
    "# --\n",
    "# Veamos el año, mes y día actual\n",
    "# --\n",
    "hoy = date.today() \n",
    "\n",
    "print(\"Año actual:\", hoy.year)\n",
    "print(\"Mes actual:\", hoy.month)\n",
    "print(\"Día actual:\", hoy.day)"
   ]
  },
  {
   "cell_type": "markdown",
   "metadata": {
    "id": "3U0E7sMZhCzY"
   },
   "source": [
    "Adicionalmente, peude llegar a resultar interesante el método `fromtimestamp`que convierte un número en formato $\\text{timestamp}^1$ a fecha.\n",
    "\n",
    "<font size = 2> 1.- El $\\text{timestamp}$ es el número de segundos que han transucrrido entre el 1 de enero de 1970 y la fecha que se desee."
   ]
  },
  {
   "cell_type": "code",
   "execution_count": null,
   "metadata": {
    "colab": {
     "base_uri": "https://localhost:8080/"
    },
    "id": "g02gfb68KlMI",
    "outputId": "d2c3d224-351c-433a-9fe2-e7ee1ddfb8b8"
   },
   "outputs": [],
   "source": [
    "# --\n",
    "# Veámos a qué fecha hace referencia este número\n",
    "# --\n",
    "timestamp = date.fromtimestamp(1326244364)\n",
    "print(\"Fecha =\", timestamp)"
   ]
  },
  {
   "cell_type": "markdown",
   "metadata": {
    "id": "y5syQ3_Hhguu"
   },
   "source": [
    "## **`.time`**\n",
    "Con esta clase podemos crear objetos tipo `time` el cual representa una hora de tipo (hora, minuto, segundo y microsegundo). Además, como atributo más interesante, está el poder extraer la hora actual con el método `.now()`."
   ]
  },
  {
   "cell_type": "code",
   "execution_count": null,
   "metadata": {
    "colab": {
     "base_uri": "https://localhost:8080/"
    },
    "id": "-Jw_3R_Eh-5v",
    "outputId": "deb077f3-e8a3-4b3f-da96-9808eb499f36"
   },
   "outputs": [],
   "source": [
    "# --\n",
    "# Atributos de datetime.time\n",
    "# --\n",
    "dir(datetime.time)"
   ]
  },
  {
   "cell_type": "code",
   "execution_count": null,
   "metadata": {
    "id": "CwiAQOkhiEt9"
   },
   "outputs": [],
   "source": [
    "# --\n",
    "# A partir de aquí, trabajemos únicamente importando todo el paquete time\n",
    "# para evitar poner \"datetime.\"\n",
    "# --\n",
    "from datetime import time"
   ]
  },
  {
   "cell_type": "markdown",
   "metadata": {
    "id": "lQW4L6p2ihtQ"
   },
   "source": [
    "### **Crear horas**\n",
    "Para crear horas, necesitamos los siguientes argumentos:\n",
    "* **Hour**\n",
    "* **Minute**\n",
    "* **Second**\n",
    "* **Microsecond**: Opcional"
   ]
  },
  {
   "cell_type": "code",
   "execution_count": null,
   "metadata": {
    "colab": {
     "base_uri": "https://localhost:8080/"
    },
    "id": "dIuphh_Gi5AO",
    "outputId": "328a0816-5d97-4a0a-a9c8-f9afe268207d"
   },
   "outputs": [],
   "source": [
    "# --\n",
    "# Creamos una hora\n",
    "# --\n",
    "ejemplo_h_1 = datetime.time(hour = 11, minute = 34, second = 13)\n",
    "print('Usando datetime.time: ' + str(ejemplo_h_1))\n",
    "\n",
    "# --\n",
    "# Equivalente a usar únicamente date\n",
    "# --\n",
    "ejemplo_h_2 = time(11, 34, 13)\n",
    "print('Usando date: ' + str(ejemplo_h_2))\n",
    "\n",
    "# --\n",
    "# Usando la variable opcional \"microsecond\"\n",
    "# --\n",
    "ejemplo_h_3 = time(11, 34, 56, 234566)\n",
    "print(\"Usando microsegundos:\", ejemplo_h_3)"
   ]
  },
  {
   "cell_type": "markdown",
   "metadata": {
    "id": "F5jDLcWqlH6v"
   },
   "source": [
    "### **Métodos asociados**\n",
    "Los métodos asociados más usuales a este objeto son:\n",
    "* **`.hour`**\n",
    "* **`.minute`**\n",
    "* **`.second`**\n",
    "* **`.microsecond`**"
   ]
  },
  {
   "cell_type": "code",
   "execution_count": null,
   "metadata": {
    "colab": {
     "base_uri": "https://localhost:8080/"
    },
    "id": "yyN-IvTglXLh",
    "outputId": "3222e7c0-352b-4039-a6ba-ba6b0cf0a78e"
   },
   "outputs": [],
   "source": [
    "# --\n",
    "# Veamos la hora, el minuto, el segundo y el microsegundo de la variable \"mi_hora\"\n",
    "# --\n",
    "mi_hora = time(11, 34, 56)\n",
    "\n",
    "print(\"Hora:\", mi_hora.hour)\n",
    "print(\"Minuto:\", mi_hora.minute)\n",
    "print(\"Segundo:\", mi_hora.second)\n",
    "print(\"Microsegundo:\", mi_hora.microsecond)"
   ]
  },
  {
   "cell_type": "markdown",
   "metadata": {
    "id": "VByYvj23mOyS"
   },
   "source": [
    "## **`.datetime`**\n",
    "Con esta clase podemos crear objetos tipo `datetime` el cual engloba a las dos categorías anteriores, teniendo objetos del tipo (año, mes, día, hora, minuto, segundo y microsegundo). Además, como atributo más interesante, está el poder extraer la fecha o hora actual con el método `.today()`y `.now()`."
   ]
  },
  {
   "cell_type": "code",
   "execution_count": null,
   "metadata": {
    "colab": {
     "base_uri": "https://localhost:8080/"
    },
    "id": "oOpkhF3SmqVQ",
    "outputId": "20a1d1f0-caff-47b1-81b9-b79ebc34d9ab"
   },
   "outputs": [],
   "source": [
    "import datetime\n",
    "# --\n",
    "# Atributos de datetime.time\n",
    "# --\n",
    "dir(datetime.datetime)"
   ]
  },
  {
   "cell_type": "code",
   "execution_count": null,
   "metadata": {
    "id": "TZf9cFPwm-TD"
   },
   "outputs": [],
   "source": [
    "# --\n",
    "# A partir de aquí, trabajemos únicamente importando todo el paquete datetime\n",
    "# para evitar poner \"datetime.\"\n",
    "# --\n",
    "from datetime import datetime"
   ]
  },
  {
   "cell_type": "markdown",
   "metadata": {
    "id": "qTdPpjbjnH54"
   },
   "source": [
    "### **Crear objetos datetime**\n",
    "Para crear este tipo de objetos, necesitamos los siguientes argumentos:\n",
    "* **Year**\n",
    "* **Month**\n",
    "* **Day**\n",
    "* **Hour**: Opcional. Defecto: Hour = 0\n",
    "* **Minute**: Opcional. Defecto: Minute = 0\n",
    "* **Second**: Opcional. Defecto: Second = 0\n",
    "* **Microsecond**: Opcional. Defecto: Microsecond = 0"
   ]
  },
  {
   "cell_type": "code",
   "execution_count": null,
   "metadata": {
    "colab": {
     "base_uri": "https://localhost:8080/"
    },
    "id": "fNHs18wfLRjL",
    "outputId": "efd7ad30-3d18-486c-8500-b7233161a231"
   },
   "outputs": [],
   "source": [
    "# --\n",
    "# Creamos una fecha\n",
    "# --\n",
    "mi_fecha_1 = datetime(2018, 11, 28)\n",
    "print(\"Fecha utilizando datetime: \" + str(mi_fecha_1))\n",
    "\n",
    "# --\n",
    "# Creamos una fecha con hora\n",
    "# --\n",
    "mi_fecha_2 = datetime(2017, 11, 28, 23, 55, 59, 342380)\n",
    "print(\"Fecha y hora utilizando datetime: \" + str(mi_fecha_2))"
   ]
  },
  {
   "cell_type": "markdown",
   "metadata": {
    "id": "Cf1DQdMMoKhS"
   },
   "source": [
    "#### `.today()` o `.now()`\n",
    "Veamos cómo extraer el día y hora actual usando datetime."
   ]
  },
  {
   "cell_type": "code",
   "execution_count": null,
   "metadata": {
    "colab": {
     "base_uri": "https://localhost:8080/"
    },
    "id": "asdYezZvoKhc",
    "outputId": "36061892-55c2-4714-d0a6-236d569c8f62"
   },
   "outputs": [],
   "source": [
    "# --\n",
    "# Extraemos la fecha actual usando .today()\n",
    "# --\n",
    "hoy = datetime.today()\n",
    "print('Fecha de hoy: ' + str(hoy))\n",
    "\n",
    "# --\n",
    "# Extraemos la fecha actual usando .now()\n",
    "# --\n",
    "ahora = datetime.now()\n",
    "print('Hora actual: ' + str(ahora))"
   ]
  },
  {
   "cell_type": "markdown",
   "metadata": {
    "id": "0R6r_niarJPu"
   },
   "source": [
    "### **Métodos asociados**\n",
    "Los métodos asociados más usuales a este objeto son:\n",
    "* **`.year`**\n",
    "* **`.month`**\n",
    "* **`.day`**\n",
    "* **`.hour`**\n",
    "* **`.minute`**\n",
    "* **`.second`**\n",
    "* **`.microsecond`**\n",
    "* **`.timestamp`**\n"
   ]
  },
  {
   "cell_type": "code",
   "execution_count": null,
   "metadata": {
    "colab": {
     "base_uri": "https://localhost:8080/"
    },
    "id": "vuWZ2anvLcO7",
    "outputId": "70b724ad-2351-4a13-e13d-b6f9287e9b0c"
   },
   "outputs": [],
   "source": [
    "# --\n",
    "# Veamos el año, mes, hora, minuto y timestamp de una fecha\"\n",
    "# --\n",
    "fecha = datetime(2017, 11, 28, 23, 55, 59, 342380)\n",
    "print(\"year =\", fecha.year)\n",
    "print(\"month =\", fecha.month)\n",
    "print(\"hour =\", fecha.hour)\n",
    "print(\"minute =\", fecha.minute)\n",
    "print(\"timestamp =\", fecha.timestamp())"
   ]
  },
  {
   "cell_type": "markdown",
   "metadata": {
    "id": "nTpUnthGsQsZ"
   },
   "source": [
    "## **`.timedelta`**\n",
    "Con esta clase podemos crear objetos tipo `timedelta` representa la diferencia entre dos fechas u horas."
   ]
  },
  {
   "cell_type": "code",
   "execution_count": null,
   "metadata": {
    "colab": {
     "base_uri": "https://localhost:8080/"
    },
    "id": "HoFbWnhPt1xI",
    "outputId": "3a314e9b-c39e-4857-fd4a-c5f5343e2b59"
   },
   "outputs": [],
   "source": [
    "from datetime import timedelta \n",
    "dir(timedelta)"
   ]
  },
  {
   "cell_type": "markdown",
   "metadata": {
    "id": "J3f63ukxzxLs"
   },
   "source": [
    "### **Crear objetos timedelta**\n",
    "Para crear este tipo de objetos, necesitamos los siguientes argumentos:\n",
    "* **Weeks**: Opcional. Defecto: Weeks = 0\n",
    "* **Days**: Opcional. Defecto: Day = 0\n",
    "* **Hours**: Opcional. Defecto: Hour = 0\n",
    "* **Minutes**: Opcional. Defecto: Minute = 0\n",
    "* **Seconds**: Opcional. Defecto: Second = 0\n",
    "* **Microseconds**: Opcional. Defecto: Microsecond = 0\n",
    "* **Miliseconds**: Opcional. Defecto: Microsecond = 0"
   ]
  },
  {
   "cell_type": "code",
   "execution_count": null,
   "metadata": {
    "colab": {
     "base_uri": "https://localhost:8080/"
    },
    "id": "_XXF_NpYLk_r",
    "outputId": "fdf490c2-9124-4632-9b55-aabcab27c2ca"
   },
   "outputs": [],
   "source": [
    "# --\n",
    "# Creamos un par de objetos timedelta y los restamos\n",
    "# --\n",
    "t1 = timedelta(weeks = 2, days = 5, hours = 1, seconds = 33)\n",
    "t2 = timedelta(days = 4, hours = 11, minutes = 4, seconds = 54)\n",
    "t3 = t1 - t2\n",
    "\n",
    "print(\"Diferencia =\", t3)"
   ]
  },
  {
   "cell_type": "markdown",
   "metadata": {
    "id": "d-BU7mQPuIj5"
   },
   "source": [
    "Para crear un objeto `timedelta` no hace falta inicalizarlo, pues basta con hacer una operación de resta como la siguiente."
   ]
  },
  {
   "cell_type": "code",
   "execution_count": null,
   "metadata": {
    "colab": {
     "base_uri": "https://localhost:8080/"
    },
    "id": "PLK-LlUZLeLq",
    "outputId": "09fbe970-f568-4ac3-e478-e9b83f699693"
   },
   "outputs": [],
   "source": [
    "# --\n",
    "# Ejemplo de resta de fechas tipo date\n",
    "# --\n",
    "t1 = date(year = 2018, month = 7, day = 12)\n",
    "t2 = date(year = 2017, month = 12, day = 23)\n",
    "t3 = t1 - t2\n",
    "print(\"t3 =\", t3)\n",
    "\n",
    "t4 = datetime(year = 2018, month = 7, day = 12, hour = 7, minute = 9, second = 33)\n",
    "t5 = datetime(year = 2019, month = 6, day = 10, hour = 5, minute = 55, second = 13)\n",
    "t6 = t4 - t5\n",
    "print(\"t6 =\", t6)\n",
    "\n",
    "print(\"Tipo de t3 =\", type(t3)) \n",
    "print(\"Tipo de t6 =\", type(t6))  "
   ]
  },
  {
   "cell_type": "markdown",
   "metadata": {
    "id": "09J2YlvF0lKW"
   },
   "source": [
    "### Dias y segundos\n",
    "Para calcular el número de días o número de segundos transcurridos entre dos fechas, usamos el método `.days` o `.total_seconds`"
   ]
  },
  {
   "cell_type": "code",
   "execution_count": null,
   "metadata": {
    "colab": {
     "base_uri": "https://localhost:8080/"
    },
    "id": "0VgTT-f2L40K",
    "outputId": "cec41c2a-ce8f-4b84-badc-7da6ca134040"
   },
   "outputs": [],
   "source": [
    "# --\n",
    "# Si queremos saber el número de días en una variable timedelta\n",
    "# --\n",
    "t = timedelta(days = 5, hours = 1, seconds = 33, microseconds = 233423)\n",
    "print('Días en t:', t.days)\n",
    "\n",
    "# --\n",
    "# Si queremos saber el número de segundos en una variable timedelta\n",
    "# --\n",
    "t = timedelta(days = 5, hours = 1, seconds = 33, microseconds = 233423)\n",
    "print(\"Segundos en t =\", t.total_seconds())"
   ]
  },
  {
   "cell_type": "markdown",
   "metadata": {
    "id": "jr0wPybC2C99"
   },
   "source": [
    "# **Formatos asociados**\n",
    "La manera en la que la fecha y la hora es representada puede ser diferente dependiendo del lugar donde tomamos el dato. \\\n",
    "Para ello, usaremos los métodos `.strftime()` y `.strptime` para poder tratar este problema."
   ]
  },
  {
   "cell_type": "markdown",
   "metadata": {
    "id": "oKLupN5_32cI"
   },
   "source": [
    "## **Cambiar el formato de un datetime**\n",
    "Una vez que ya tenemos un objeto datetime, para mostrarlo por pantalla en diferentes formatos utilizaremos el comando `.strftime`.\n",
    "\n",
    "El input puede ser cualquiera de la lista que aparece en la documentación de este [link](https://www.programiz.com/python-programming/datetime/strftime)\n"
   ]
  },
  {
   "cell_type": "code",
   "execution_count": null,
   "metadata": {
    "colab": {
     "base_uri": "https://localhost:8080/"
    },
    "id": "bvPxVTu1MG2e",
    "outputId": "4437b3c0-5224-454b-a78d-c82b47cd49a7"
   },
   "outputs": [],
   "source": [
    "# --\n",
    "# Veamos diferentes formas de expresar la fecha y hora actual\n",
    "# --\n",
    "ahora = datetime.now()\n",
    "\n",
    "# --\n",
    "# Únicamente la hora\n",
    "# --\n",
    "t = ahora.strftime(\"%H:%M:%S\")\n",
    "print(\"Hora actual:\", t)\n",
    "\n",
    "# --\n",
    "# Fecha en formato dd/mm/YY\n",
    "# --\n",
    "s1 = ahora.strftime(\"%d/%m/%Y\")\n",
    "print(\"Fecha_1:\", s1)\n",
    "\n",
    "# --\n",
    "# Fecha en formato mm-dd-YY\n",
    "# --\n",
    "s1 = ahora.strftime(\"%m-%d-%Y\")\n",
    "print(\"Fecha_2:\", s1)"
   ]
  },
  {
   "cell_type": "markdown",
   "metadata": {
    "id": "rjwMcplh4twq"
   },
   "source": [
    "## **Pasar de string a datetime**\n",
    "Desde casi cualquier formato conocido, se puede pasar a formato datetime con el comando `.strptime`."
   ]
  },
  {
   "cell_type": "code",
   "execution_count": null,
   "metadata": {
    "colab": {
     "base_uri": "https://localhost:8080/"
    },
    "id": "jq4zh7BFM4x9",
    "outputId": "1567736a-e6f8-4e44-9363-8850a5573aa2"
   },
   "outputs": [],
   "source": [
    "# --\n",
    "# Veamos un ejemplo complicado\n",
    "# --\n",
    "fecha_string = \"21 jun, 2018\" #<-- meses en inglés\n",
    "print(\"Fecha en string =\", fecha_string)\n",
    "\n",
    "fecha_datetime = datetime.strptime(fecha_string, \"%d %b, %Y\")\n",
    "print(\"Objeto datetime =\", fecha_datetime)"
   ]
  },
  {
   "cell_type": "markdown",
   "metadata": {
    "id": "ARr0mhsu6dSF"
   },
   "source": [
    "## **Zonas horarias**\n",
    "También podemos trabajar con diferentes zonas horarias. Para ello, usaremos el paquete `pytz` que tiene incorporado los siguientes usos horarios:"
   ]
  },
  {
   "cell_type": "code",
   "execution_count": null,
   "metadata": {
    "colab": {
     "base_uri": "https://localhost:8080/"
    },
    "id": "j4-7S1C87MDO",
    "outputId": "4d282ea4-be47-4b92-a400-97f6f64e0a84",
    "scrolled": true
   },
   "outputs": [],
   "source": [
    "import pytz\n",
    "pytz.all_timezones"
   ]
  },
  {
   "cell_type": "code",
   "execution_count": null,
   "metadata": {
    "colab": {
     "base_uri": "https://localhost:8080/"
    },
    "id": "HxwEV2OEM-KM",
    "outputId": "435fa3d7-b0d7-4ff7-b702-a3fe4873b519"
   },
   "outputs": [],
   "source": [
    "# --\n",
    "# Ejemplos de cómo usarlo\n",
    "# --\n",
    "\n",
    "# --\n",
    "# Fecha actual local\n",
    "# --\n",
    "local = datetime.now()\n",
    "print(\"Local:\", local.strftime(\"%d/%m/%Y, %H:%M:%S\"))\n",
    "\n",
    "# --\n",
    "# Fecha actual para America/New_York\n",
    "# --\n",
    "tz_NY = pytz.timezone('America/New_York') \n",
    "datetime_NY = datetime.now(tz_NY)\n",
    "print(\"NY:\", datetime_NY.strftime(\"%d/%m/%Y, %H:%M:%S\"))\n",
    "\n",
    "# --\n",
    "# Fecha actual para Europe/London\n",
    "# --\n",
    "tz_Madrid = pytz.timezone('Europe/Madrid')\n",
    "datetime_Madrid = datetime.now(tz_Madrid)\n",
    "print(\"Madrid:\", datetime_Madrid.strftime(\"%d/%m/%Y, %H:%M:%S\"))"
   ]
  }
 ],
 "metadata": {
  "colab": {
   "collapsed_sections": [],
   "name": "Tratamiento de fechas.ipynb",
   "provenance": [],
   "toc_visible": true
  },
  "kernelspec": {
   "display_name": "Python 3",
   "language": "python",
   "name": "python3"
  },
  "language_info": {
   "codemirror_mode": {
    "name": "ipython",
    "version": 3
   },
   "file_extension": ".py",
   "mimetype": "text/x-python",
   "name": "python",
   "nbconvert_exporter": "python",
   "pygments_lexer": "ipython3",
   "version": "3.6.10"
  }
 },
 "nbformat": 4,
 "nbformat_minor": 1
}
