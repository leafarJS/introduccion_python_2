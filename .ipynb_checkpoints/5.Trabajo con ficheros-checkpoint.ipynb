{
 "cells": [
  {
   "cell_type": "markdown",
   "metadata": {},
   "source": [
    "# Introducción a Python - Trabajo con ficheros"
   ]
  },
  {
   "cell_type": "markdown",
   "metadata": {},
   "source": [
    "Por último, y de forma muy testimonial, vamos a revisar algunos conceptos de trabajo con ficheros de texto plano. "
   ]
  },
  {
   "cell_type": "markdown",
   "metadata": {},
   "source": [
    "### Escritura de ficheros de texto plano"
   ]
  },
  {
   "cell_type": "markdown",
   "metadata": {},
   "source": [
    "A la hora de escribir ficheros, como en otros lenguajes de programación, los puntos clave son: el modo de apertura (\"w\" para sobreescritura y \"a\" para continuación) y el cierre del fichero una vez se ha finalizado el trabajo con el mismo."
   ]
  },
  {
   "cell_type": "code",
   "execution_count": null,
   "metadata": {},
   "outputs": [],
   "source": [
    "fichero = open(\"prueba.txt\", \"w\")\n",
    "fichero.write(\"Esto\\n\")\n",
    "fichero.write(\"es\\n\")\n",
    "fichero.write(\"una\\n\")\n",
    "fichero.write(\"prueba\\n\")\n",
    "fichero.close()"
   ]
  },
  {
   "cell_type": "code",
   "execution_count": null,
   "metadata": {},
   "outputs": [],
   "source": [
    "fichero = open(\"prueba.txt\", \"w\")\n",
    "fichero.write(\"Esto\\n\")\n",
    "fichero.write(\"es\\n\")\n",
    "fichero.write(\"otra\\n\")\n",
    "fichero.write(\"prueba\\n\")\n",
    "fichero.close()"
   ]
  },
  {
   "cell_type": "code",
   "execution_count": null,
   "metadata": {},
   "outputs": [],
   "source": [
    "fichero = open(\"prueba.txt\", \"a\")\n",
    "fichero.write(\"más\\n\")\n",
    "fichero.close()"
   ]
  },
  {
   "cell_type": "markdown",
   "metadata": {},
   "source": [
    "### Lectura de ficheros de texto plano"
   ]
  },
  {
   "cell_type": "markdown",
   "metadata": {},
   "source": [
    "De nuevo, a la hora de leer ficheros, los puntos clave serán de nuevo: el modo de apertura (\"r\" para lectura y \"r+\" para lectura y escritura) y el cierre del fichero una vez se ha finalizado el trabajo con el mismo."
   ]
  },
  {
   "cell_type": "code",
   "execution_count": null,
   "metadata": {},
   "outputs": [],
   "source": [
    "fichero = open(\"prueba.txt\", \"r\")\n",
    "contenido = fichero.read()\n",
    "print(contenido)\n",
    "fichero.close()"
   ]
  },
  {
   "cell_type": "code",
   "execution_count": null,
   "metadata": {},
   "outputs": [],
   "source": [
    "fichero = open(\"prueba.txt\", \"r\")\n",
    "for linea in fichero:\n",
    "    print(linea)\n",
    "fichero.close()"
   ]
  }
 ],
 "metadata": {
  "kernelspec": {
   "display_name": "Python 3",
   "language": "python",
   "name": "python3"
  },
  "language_info": {
   "codemirror_mode": {
    "name": "ipython",
    "version": 3
   },
   "file_extension": ".py",
   "mimetype": "text/x-python",
   "name": "python",
   "nbconvert_exporter": "python",
   "pygments_lexer": "ipython3",
   "version": "3.6.10"
  }
 },
 "nbformat": 4,
 "nbformat_minor": 1
}
