{
 "cells": [
  {
   "cell_type": "markdown",
   "metadata": {},
   "source": [
    "# Introducción a Python - Estructuras de control"
   ]
  },
  {
   "cell_type": "markdown",
   "metadata": {},
   "source": [
    "En este apartado revisaremos las diferentes estructuras de control de flujo que nos permitirán (realmente) la construcción de programas. Estas estructuras son idénticas en funcionamiento al resto de lenguajes de programación, aunque variará ligeramente la sintáxis de las mismas."
   ]
  },
  {
   "cell_type": "markdown",
   "metadata": {},
   "source": [
    "### Condicionales (if, elif, else)"
   ]
  },
  {
   "cell_type": "markdown",
   "metadata": {},
   "source": [
    "Esta estructura de control nos permitirá elegir, en base a una condición dada, la ejecución de diferentes bloques de código."
   ]
  },
  {
   "cell_type": "code",
   "execution_count": 2,
   "metadata": {},
   "outputs": [],
   "source": [
    "precio_taxi = 10.00\n",
    "precio_bus = 2.50\n",
    "dinero_disponible = 20\n"
   ]
  },
  {
   "cell_type": "code",
   "execution_count": 4,
   "metadata": {},
   "outputs": [
    {
     "name": "stdout",
     "output_type": "stream",
     "text": [
      "Me voy en taxi\n"
     ]
    }
   ],
   "source": [
    "if precio_taxi < dinero_disponible:\n",
    "    print ('Me voy en taxi')  "
   ]
  },
  {
   "cell_type": "code",
   "execution_count": 6,
   "metadata": {},
   "outputs": [
    {
     "name": "stdout",
     "output_type": "stream",
     "text": [
      "Me voy en bus\n"
     ]
    }
   ],
   "source": [
    "if precio_bus < dinero_disponible and precio_taxi < dinero_disponible:\n",
    "    print (\"Me voy en bus\")"
   ]
  },
  {
   "cell_type": "code",
   "execution_count": 8,
   "metadata": {},
   "outputs": [
    {
     "name": "stdout",
     "output_type": "stream",
     "text": [
      "Me voy andando\n"
     ]
    }
   ],
   "source": [
    "if not precio_bus > dinero_disponible:\n",
    "    print ('Me voy andando')"
   ]
  },
  {
   "cell_type": "markdown",
   "metadata": {},
   "source": [
    "Esta forma de realizar expresiones condicionales es muy redundante y obliga a la utilización de condiciones demasiado complejas. Se podría reescribir el mismo programa."
   ]
  },
  {
   "cell_type": "code",
   "execution_count": 16,
   "metadata": {},
   "outputs": [],
   "source": [
    "precio_taxi = 20\n",
    "precio_bus = 5\n",
    "dinero_disponible = 20"
   ]
  },
  {
   "cell_type": "code",
   "execution_count": 17,
   "metadata": {},
   "outputs": [
    {
     "name": "stdout",
     "output_type": "stream",
     "text": [
      "No salgo\n"
     ]
    }
   ],
   "source": [
    "if precio_taxi < precio_bus:\n",
    "    print ('Me voy en taxi')\n",
    "elif precio_bus < dinero_disponible & precio_taxi < dinero_disponible:\n",
    "    print ('Salgo de mi casa')\n",
    "else:\n",
    "    print ('No salgo')"
   ]
  },
  {
   "cell_type": "markdown",
   "metadata": {},
   "source": [
    "### Bucle - for"
   ]
  },
  {
   "cell_type": "markdown",
   "metadata": {},
   "source": [
    "Esta estructura de control nos permitirá llevar a cabo la ejecución de un bloque de código para todos los elementos contenidos en una secuencia (que pueden estar involucrados o no en el bloque de código)."
   ]
  },
  {
   "cell_type": "code",
   "execution_count": 19,
   "metadata": {},
   "outputs": [
    {
     "name": "stdout",
     "output_type": "stream",
     "text": [
      "Hola mundo\n",
      "Hola mundo\n",
      "Hola mundo\n",
      "Hola mundo\n",
      "Hola mundo\n",
      "Hola mundo\n",
      "Hola mundo\n",
      "Hola mundo\n",
      "Hola mundo\n",
      "Hola mundo\n"
     ]
    }
   ],
   "source": [
    "for i in list(range(0, 10)):\n",
    "    print (\"Hola mundo\")"
   ]
  },
  {
   "cell_type": "code",
   "execution_count": 20,
   "metadata": {},
   "outputs": [
    {
     "name": "stdout",
     "output_type": "stream",
     "text": [
      "Hola mundo: 0\n",
      "Hola mundo: 1\n",
      "Hola mundo: 2\n",
      "Hola mundo: 3\n",
      "Hola mundo: 4\n",
      "Hola mundo: 5\n",
      "Hola mundo: 6\n",
      "Hola mundo: 7\n",
      "Hola mundo: 8\n",
      "Hola mundo: 9\n"
     ]
    }
   ],
   "source": [
    "for i in range(0, 10):\n",
    "    print (\"Hola mundo: \" + str(i))"
   ]
  },
  {
   "cell_type": "code",
   "execution_count": 21,
   "metadata": {},
   "outputs": [
    {
     "name": "stdout",
     "output_type": "stream",
     "text": [
      "Hola mundo: 0\n",
      "Hola mundo: 1\n",
      "Hola mundo: 2\n",
      "Hola mundo: 3\n",
      "Hola mundo: 4\n",
      "Hola mundo: 5\n",
      "Hola mundo: 6\n",
      "Hola mundo: 7\n",
      "Hola mundo: 8\n",
      "Hola mundo: 9\n",
      "Hola mundo: 10\n"
     ]
    }
   ],
   "source": [
    "for i in list(range(0,11)):\n",
    "  print(f\"Hola mundo: {i}\")"
   ]
  },
  {
   "cell_type": "code",
   "execution_count": 24,
   "metadata": {},
   "outputs": [
    {
     "name": "stdout",
     "output_type": "stream",
     "text": [
      "El número es: 1\n",
      "El número es: 2\n",
      "El número es: 3\n",
      "El número es: 4\n",
      "El número es: 5\n",
      "El número es: 6\n",
      "El número es: 7\n",
      "El número es: 8\n",
      "El número es: 9\n",
      "El número es: 10\n",
      "El número es: 11\n",
      "El número es: 12\n"
     ]
    }
   ],
   "source": [
    "tupla = (1, 2, 3, 4, 5, 6, 7, 8, 9, 10, 11, 12)\n",
    "for i in tupla:\n",
    "  print(f\"El número es: {i}\")"
   ]
  },
  {
   "cell_type": "code",
   "execution_count": 25,
   "metadata": {},
   "outputs": [
    {
     "name": "stdout",
     "output_type": "stream",
     "text": [
      "uno\n",
      "dos\n",
      "tres\n",
      "cuatro\n",
      "cinco\n"
     ]
    }
   ],
   "source": [
    "lista = [\"uno\", \"dos\", \"tres\", \"cuatro\", \"cinco\"]\n",
    "for num in lista:\n",
    "    print (num)"
   ]
  },
  {
   "cell_type": "markdown",
   "metadata": {},
   "source": [
    "A veces es muy cómo el disponer al mismo tiempo del elemento sobre el que se itera y del índice que ocupa dentro del bucle. Para ello podemos utilizar la función <i>enumerate</i>."
   ]
  },
  {
   "cell_type": "code",
   "execution_count": 27,
   "metadata": {},
   "outputs": [
    {
     "name": "stdout",
     "output_type": "stream",
     "text": [
      "Elemento en índice 0: uno\n",
      "Elemento en índice 1: dos\n",
      "Elemento en índice 2: tres\n",
      "Elemento en índice 3: cuatro\n",
      "Elemento en índice 4: cinco\n",
      "El elemento es: 0 con el indice: uno\n",
      "El elemento es: 1 con el indice: dos\n",
      "El elemento es: 2 con el indice: tres\n",
      "El elemento es: 3 con el indice: cuatro\n",
      "El elemento es: 4 con el indice: cinco\n"
     ]
    }
   ],
   "source": [
    "lista = [\"uno\", \"dos\", \"tres\", \"cuatro\", \"cinco\"]\n",
    "for index, element in enumerate(lista):\n",
    "    print (\"Elemento en índice \" + str(index) + \": \" + element)\n",
    "    \n",
    "for e, i in enumerate(lista):\n",
    "  print(f\"El elemento es: {e} con el indice: {i}\")"
   ]
  },
  {
   "cell_type": "markdown",
   "metadata": {},
   "source": [
    "### Bucle - while"
   ]
  },
  {
   "cell_type": "markdown",
   "metadata": {},
   "source": [
    "Esta estructura de control nos permitirá llevar a cabo la ejecución de un bloque de código mientras se cumpla una condición dada."
   ]
  },
  {
   "cell_type": "code",
   "execution_count": 28,
   "metadata": {},
   "outputs": [
    {
     "name": "stdout",
     "output_type": "stream",
     "text": [
      "0\n",
      "1\n",
      "2\n",
      "3\n",
      "4\n",
      "5\n",
      "6\n",
      "7\n",
      "8\n",
      "9\n"
     ]
    }
   ],
   "source": [
    "i = 0\n",
    "while i < 10:\n",
    "    print (i)\n",
    "    i += 1"
   ]
  },
  {
   "cell_type": "markdown",
   "metadata": {},
   "source": [
    "### Interrupción de bucles - break y continue"
   ]
  },
  {
   "cell_type": "markdown",
   "metadata": {},
   "source": [
    "Las sentencias break y continue permiten alterar el flujo normal de ejecución de un bucle. Más concretamente:\n",
    "\n",
    "<ul>\n",
    "<li>break: Corta completamente el flujo de ejecución del bucle y pasa el control a la sentencia posterior al bucle.</li>\n",
    "<li>continue: Corta la ejecución de la iteración actual y pasa el control a la siguiente iteración del bucle.</li>\n",
    "</ul>"
   ]
  },
  {
   "cell_type": "code",
   "execution_count": 30,
   "metadata": {},
   "outputs": [
    {
     "name": "stdout",
     "output_type": "stream",
     "text": [
      "uno\n",
      "dos\n",
      "tres\n"
     ]
    }
   ],
   "source": [
    "lista = [\"uno\", \"dos\", \"tres\", \"cuatro\", \"cinco\"]\n",
    "for e in lista:\n",
    "    if e == \"cuatro\":\n",
    "        break\n",
    "    print (e)"
   ]
  },
  {
   "cell_type": "code",
   "execution_count": 31,
   "metadata": {},
   "outputs": [
    {
     "name": "stdout",
     "output_type": "stream",
     "text": [
      "uno\n",
      "dos\n",
      "tres\n",
      "cinco\n"
     ]
    }
   ],
   "source": [
    "lista = [\"uno\", \"dos\", \"tres\", \"cuatro\", \"cinco\"]\n",
    "for e in lista:\n",
    "    if e == \"cuatro\":\n",
    "        continue\n",
    "    print (e)"
   ]
  },
  {
   "cell_type": "markdown",
   "metadata": {},
   "source": [
    "### Comprensiones de lista"
   ]
  },
  {
   "cell_type": "markdown",
   "metadata": {},
   "source": [
    "Dada la filosofía de Python de hacer el código más conciso, tenemos a nuestra disposición una estructura especial de control (semejante a los bucles) que facilita mucho la escritura de código. Imáginemos el siguiente bucle."
   ]
  },
  {
   "cell_type": "code",
   "execution_count": 32,
   "metadata": {},
   "outputs": [
    {
     "name": "stdout",
     "output_type": "stream",
     "text": [
      "['MIGUEL', 'MARIA', 'MANUEL']\n"
     ]
    }
   ],
   "source": [
    "list_1 = [\"Miguel\", \"Juan\", \"Maria\", \"Manuel\", \"Rodrigo\"]\n",
    "list_M = []\n",
    "for element in list_1:    \n",
    "    if element[0] == \"M\":\n",
    "        list_M.append(element.upper())\n",
    "print (list_M)"
   ]
  },
  {
   "cell_type": "code",
   "execution_count": 36,
   "metadata": {},
   "outputs": [
    {
     "name": "stdout",
     "output_type": "stream",
     "text": [
      "[1, 1]\n"
     ]
    }
   ],
   "source": [
    "tupla = (0, 1, 2, 3, 4, 5, 6, 7, 1, 8, 9, 10, 11, 12)\n",
    "lista = []\n",
    "for e in tupla:\n",
    "  if e == 1:\n",
    "    lista.append(e) \n",
    "print(lista)"
   ]
  },
  {
   "cell_type": "markdown",
   "metadata": {},
   "source": [
    "Podemos conseguir el mismo resultado con un código mucho más conciso."
   ]
  },
  {
   "cell_type": "code",
   "execution_count": 37,
   "metadata": {},
   "outputs": [
    {
     "name": "stdout",
     "output_type": "stream",
     "text": [
      "['MIGUEL', 'MARIA', 'MANUEL']\n"
     ]
    }
   ],
   "source": [
    "lista = [\"Miguel\", \"Juan\", \"Maria\", \"Manuel\", \"Rodrigo\"]\n",
    "lista_M = [element.upper() for element in lista if element[0] == \"M\"]\n",
    "print (list_M)"
   ]
  },
  {
   "cell_type": "code",
   "execution_count": 38,
   "metadata": {},
   "outputs": [
    {
     "name": "stdout",
     "output_type": "stream",
     "text": [
      "[1, 1, 1, 1, 1, 1, 1, 1, 1, 1, 1, 1]\n"
     ]
    }
   ],
   "source": [
    "lista =  [1, 1, 1, 1, 1, 1, 1, 1, 1, 1, 2, 3, 4, 5, 6, 1, 1]\n",
    "lista_1 = [e for e in lista if e == 1] \n",
    "print(lista_1)"
   ]
  },
  {
   "cell_type": "markdown",
   "metadata": {},
   "source": [
    "### Otras comprensiones"
   ]
  },
  {
   "cell_type": "markdown",
   "metadata": {},
   "source": [
    "Del mismo modo, se puede utilizar la sintáxis de las comprensiones de lista para crear otras estructuras como diccionarios y conjuntos. "
   ]
  },
  {
   "cell_type": "code",
   "execution_count": 41,
   "metadata": {},
   "outputs": [
    {
     "name": "stdout",
     "output_type": "stream",
     "text": [
      "{'MIGUEL': True, 'JUAN': False, 'MARIA': True, 'MANUEL': True, 'RODRIGO': False}\n"
     ]
    }
   ],
   "source": [
    "lista = [\"Miguel\", \"Juan\", \"Maria\", \"Manuel\", \"Rodrigo\"]\n",
    "diccionario = { element.upper(): element[0] == 'M' for element in lista}\n",
    "print(diccionario)"
   ]
  },
  {
   "cell_type": "code",
   "execution_count": 44,
   "metadata": {},
   "outputs": [
    {
     "name": "stdout",
     "output_type": "stream",
     "text": [
      "{'Juan', 'Maria', 'Miguel'}\n"
     ]
    }
   ],
   "source": [
    "lista_duplicados = [\"Miguel\", \"Juan\", \"Maria\", \"Miguel\", \"Juan\"]\n",
    "conjunto = set({ e for e in lista_duplicados })\n",
    "print(conjunto)"
   ]
  },
  {
   "cell_type": "markdown",
   "metadata": {},
   "source": [
    "### Control de errores/excepciones - try, except\n"
   ]
  },
  {
   "cell_type": "markdown",
   "metadata": {},
   "source": [
    "Al igual que en otros lenguajes de programación (Java, C++...), los errores en Python se generan en forma de excepciones (objetos en los que se incluye tanto el detalle del error como la pila de llamadas que han generado dicho error). Es importante realizar una buena gestión de excepciones de forma que los errores estén siempre controlados de forma que los programas creados sean robustos (no paren su ejecución de forma prematura por errores no controlados) y claros (presenten a los potenciales usuarios información \"entendible\" y no los errores internos de Python)."
   ]
  },
  {
   "cell_type": "code",
   "execution_count": 45,
   "metadata": {},
   "outputs": [
    {
     "ename": "ValueError",
     "evalue": "could not convert string to float: '123.5hola'",
     "output_type": "error",
     "traceback": [
      "\u001b[1;31m---------------------------------------------------------------------------\u001b[0m",
      "\u001b[1;31mValueError\u001b[0m                                Traceback (most recent call last)",
      "\u001b[1;32mc:\\Users\\Administrador\\Desktop\\python_bd\\01.python_basico\\04_Estructuras_de_control.ipynb Celda 41\u001b[0m in \u001b[0;36m<cell line: 2>\u001b[1;34m()\u001b[0m\n\u001b[0;32m      <a href='vscode-notebook-cell:/c%3A/Users/Administrador/Desktop/python_bd/01.python_basico/04_Estructuras_de_control.ipynb#X45sZmlsZQ%3D%3D?line=0'>1</a>\u001b[0m cadena \u001b[39m=\u001b[39m \u001b[39m\"\u001b[39m\u001b[39m123.5hola\u001b[39m\u001b[39m\"\u001b[39m\n\u001b[1;32m----> <a href='vscode-notebook-cell:/c%3A/Users/Administrador/Desktop/python_bd/01.python_basico/04_Estructuras_de_control.ipynb#X45sZmlsZQ%3D%3D?line=1'>2</a>\u001b[0m numero \u001b[39m=\u001b[39m \u001b[39mfloat\u001b[39;49m(cadena)\n",
      "\u001b[1;31mValueError\u001b[0m: could not convert string to float: '123.5hola'"
     ]
    }
   ],
   "source": [
    "cadena = \"123.5hola\"\n",
    "numero = float(cadena)"
   ]
  },
  {
   "cell_type": "markdown",
   "metadata": {},
   "source": [
    "Se pueden controlar todos los errores de forma genérica."
   ]
  },
  {
   "cell_type": "code",
   "execution_count": 46,
   "metadata": {},
   "outputs": [
    {
     "name": "stdout",
     "output_type": "stream",
     "text": [
      "Se produjo un error\n"
     ]
    }
   ],
   "source": [
    "try:\n",
    "    cadena = \"123.5hola\"\n",
    "    numero = float(cadena)\n",
    "except:\n",
    "    print (\"Se produjo un error\")"
   ]
  },
  {
   "cell_type": "code",
   "execution_count": 47,
   "metadata": {},
   "outputs": [
    {
     "name": "stdout",
     "output_type": "stream",
     "text": [
      "could not convert string to float: '123.5hola'\n",
      "Se produjo un error\n"
     ]
    }
   ],
   "source": [
    "try:\n",
    "    cadena = \"123.5hola\"\n",
    "    numero = float(cadena)\n",
    "except Exception as e:\n",
    "    print (e)\n",
    "    print (\"Se produjo un error\")"
   ]
  },
  {
   "cell_type": "markdown",
   "metadata": {},
   "source": [
    "O realizar un control detallado por tipo de error."
   ]
  },
  {
   "cell_type": "code",
   "execution_count": 48,
   "metadata": {},
   "outputs": [
    {
     "name": "stdout",
     "output_type": "stream",
     "text": [
      "Formato numérico incorrecto\n"
     ]
    }
   ],
   "source": [
    "try:\n",
    "    cadena = \"123.5hola\"\n",
    "    numero = float(cadena)\n",
    "except RuntimeError as e:    \n",
    "    print (\"Se produjo un error de ejecución\")\n",
    "except ValueError as e:    \n",
    "    print (\"Formato numérico incorrecto\")\n",
    "except Exception as e:\n",
    "    print (\"Se produjo un error desconocido\")"
   ]
  },
  {
   "cell_type": "code",
   "execution_count": 50,
   "metadata": {},
   "outputs": [
    {
     "name": "stdout",
     "output_type": "stream",
     "text": [
      "Se produjo un error\n"
     ]
    },
    {
     "data": {
      "text/plain": [
       "'123.5hola adios.'"
      ]
     },
     "execution_count": 50,
     "metadata": {},
     "output_type": "execute_result"
    }
   ],
   "source": [
    "try:\n",
    "    cadena = \"123.5hola\"\n",
    "    numero = float(cadena)\n",
    "except:\n",
    "    print (\"Se produjo un error\")\n",
    "finally:\n",
    "    cadena += \" adios.\"\n",
    "\n",
    "cadena"
   ]
  }
 ],
 "metadata": {
  "kernelspec": {
   "display_name": "Python 3.9.12 ('base')",
   "language": "python",
   "name": "python3"
  },
  "language_info": {
   "codemirror_mode": {
    "name": "ipython",
    "version": 3
   },
   "file_extension": ".py",
   "mimetype": "text/x-python",
   "name": "python",
   "nbconvert_exporter": "python",
   "pygments_lexer": "ipython3",
   "version": "3.9.12"
  },
  "vscode": {
   "interpreter": {
    "hash": "ad2bdc8ecc057115af97d19610ffacc2b4e99fae6737bb82f5d7fb13d2f2c186"
   }
  }
 },
 "nbformat": 4,
 "nbformat_minor": 1
}
